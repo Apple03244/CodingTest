{
 "cells": [
  {
   "cell_type": "code",
   "execution_count": 27,
   "metadata": {},
   "outputs": [],
   "source": [
    "import os"
   ]
  },
  {
   "cell_type": "code",
   "execution_count": 28,
   "metadata": {},
   "outputs": [
    {
     "data": {
      "text/plain": [
       "'c:\\\\Users\\\\SAMSUNG\\\\Desktop\\\\CodingTest\\\\003_Coding수업자료'"
      ]
     },
     "execution_count": 28,
     "metadata": {},
     "output_type": "execute_result"
    }
   ],
   "source": [
    "os.getcwd()"
   ]
  },
  {
   "cell_type": "code",
   "execution_count": 29,
   "metadata": {},
   "outputs": [],
   "source": [
    "import sys"
   ]
  },
  {
   "cell_type": "code",
   "execution_count": 30,
   "metadata": {},
   "outputs": [],
   "source": [
    "sys.path.append(\"c:/Users/SAMSUNG/Desktop/\")"
   ]
  },
  {
   "cell_type": "code",
   "execution_count": 31,
   "metadata": {},
   "outputs": [],
   "source": [
    "import Import"
   ]
  },
  {
   "cell_type": "code",
   "execution_count": 33,
   "metadata": {},
   "outputs": [
    {
     "data": {
      "text/plain": [
       "<module 'Import' from 'c:\\\\Users/SAMSUNG/Desktop\\\\Import.py'>"
      ]
     },
     "execution_count": 33,
     "metadata": {},
     "output_type": "execute_result"
    }
   ],
   "source": [
    "Import"
   ]
  },
  {
   "cell_type": "code",
   "execution_count": 35,
   "metadata": {},
   "outputs": [
    {
     "ename": "NameError",
     "evalue": "name 'sns' is not defined",
     "output_type": "error",
     "traceback": [
      "\u001b[1;31m---------------------------------------------------------------------------\u001b[0m",
      "\u001b[1;31mNameError\u001b[0m                                 Traceback (most recent call last)",
      "Cell \u001b[1;32mIn[35], line 1\u001b[0m\n\u001b[1;32m----> 1\u001b[0m sns\n",
      "\u001b[1;31mNameError\u001b[0m: name 'sns' is not defined"
     ]
    }
   ],
   "source": []
  },
  {
   "cell_type": "code",
   "execution_count": null,
   "metadata": {},
   "outputs": [],
   "source": [
    "sys.path.append(\"../001_Programers/002_난이도1/\")"
   ]
  },
  {
   "cell_type": "code",
   "execution_count": null,
   "metadata": {},
   "outputs": [],
   "source": [
    "import pandas as pd"
   ]
  },
  {
   "cell_type": "code",
   "execution_count": null,
   "metadata": {},
   "outputs": [
    {
     "data": {
      "text/html": [
       "<div>\n",
       "<style scoped>\n",
       "    .dataframe tbody tr th:only-of-type {\n",
       "        vertical-align: middle;\n",
       "    }\n",
       "\n",
       "    .dataframe tbody tr th {\n",
       "        vertical-align: top;\n",
       "    }\n",
       "\n",
       "    .dataframe thead th {\n",
       "        text-align: right;\n",
       "    }\n",
       "</style>\n",
       "<table border=\"1\" class=\"dataframe\">\n",
       "  <thead>\n",
       "    <tr style=\"text-align: right;\">\n",
       "      <th></th>\n",
       "      <th>변수명\\n(기존변수에서 차수를 삭제한 형태)</th>\n",
       "      <th>해당 차수</th>\n",
       "      <th>구분</th>\n",
       "      <th>변수설명</th>\n",
       "      <th>문항내용</th>\n",
       "      <th>Unnamed: 5</th>\n",
       "    </tr>\n",
       "  </thead>\n",
       "  <tbody>\n",
       "    <tr>\n",
       "      <th>0</th>\n",
       "      <td>h_merkey</td>\n",
       "      <td>1-15차</td>\n",
       "      <td>가구식별변수</td>\n",
       "      <td>패널간 가구머지 키변수</td>\n",
       "      <td>가구 패널 ID + 가구생성차수 + 가구분리일련번호\\n* 관측치(가구)에 부여된 고...</td>\n",
       "      <td>NaN</td>\n",
       "    </tr>\n",
       "    <tr>\n",
       "      <th>1</th>\n",
       "      <td>year\\n(year01~year15)</td>\n",
       "      <td>1-15차</td>\n",
       "      <td>활용변수</td>\n",
       "      <td>조사 기준 연도</td>\n",
       "      <td>년\\n※ wide 타입 데이터: 변수 year01~year15</td>\n",
       "      <td>NaN</td>\n",
       "    </tr>\n",
       "    <tr>\n",
       "      <th>2</th>\n",
       "      <td>wv\\n(wv01~wv15)</td>\n",
       "      <td>1-15차</td>\n",
       "      <td>NaN</td>\n",
       "      <td>조사 차수</td>\n",
       "      <td>1. 1차 ~ 15, 15차\\n※ wide 타입 데이터: 변수 wv01~wv155 ...</td>\n",
       "      <td>NaN</td>\n",
       "    </tr>\n",
       "    <tr>\n",
       "      <th>3</th>\n",
       "      <td>wv_num</td>\n",
       "      <td>1-15차</td>\n",
       "      <td>NaN</td>\n",
       "      <td>조사된 횟수</td>\n",
       "      <td>1. 1회 ~ 15. 15차</td>\n",
       "      <td>NaN</td>\n",
       "    </tr>\n",
       "    <tr>\n",
       "      <th>4</th>\n",
       "      <td>first_wv</td>\n",
       "      <td>1-15차</td>\n",
       "      <td>NaN</td>\n",
       "      <td>첫 조사 차수</td>\n",
       "      <td>1. 1차 ~ 15. 15차</td>\n",
       "      <td>NaN</td>\n",
       "    </tr>\n",
       "    <tr>\n",
       "      <th>...</th>\n",
       "      <td>...</td>\n",
       "      <td>...</td>\n",
       "      <td>...</td>\n",
       "      <td>...</td>\n",
       "      <td>...</td>\n",
       "      <td>...</td>\n",
       "    </tr>\n",
       "    <tr>\n",
       "      <th>1808</th>\n",
       "      <td>h17_3</td>\n",
       "      <td>1~15차</td>\n",
       "      <td>NaN</td>\n",
       "      <td>(가) 가족원간 의견충돌이 잦은 경우</td>\n",
       "      <td>1.전혀그렇지 않다          2.그렇지 않은 편이다      3.보통이다\\n...</td>\n",
       "      <td>NaN</td>\n",
       "    </tr>\n",
       "    <tr>\n",
       "      <th>1809</th>\n",
       "      <td>h17_4</td>\n",
       "      <td>1~15차</td>\n",
       "      <td>NaN</td>\n",
       "      <td>(나) 가족원간 화가 나서 물건을 집어 던지는 경우</td>\n",
       "      <td>위와같음</td>\n",
       "      <td>NaN</td>\n",
       "    </tr>\n",
       "    <tr>\n",
       "      <th>1810</th>\n",
       "      <td>h17_5</td>\n",
       "      <td>1~15차</td>\n",
       "      <td>NaN</td>\n",
       "      <td>(다) 가족원간 침착하게 문제를 논의하는 경우</td>\n",
       "      <td>NaN</td>\n",
       "      <td>NaN</td>\n",
       "    </tr>\n",
       "    <tr>\n",
       "      <th>1811</th>\n",
       "      <td>h17_6</td>\n",
       "      <td>1~15차</td>\n",
       "      <td>NaN</td>\n",
       "      <td>(라) 가족원간 자주 서로 비난하는 경우</td>\n",
       "      <td>NaN</td>\n",
       "      <td>NaN</td>\n",
       "    </tr>\n",
       "    <tr>\n",
       "      <th>1812</th>\n",
       "      <td>h17_7</td>\n",
       "      <td>1~15차</td>\n",
       "      <td>NaN</td>\n",
       "      <td>(마) 가족원간 가끔 때리는 경우</td>\n",
       "      <td>NaN</td>\n",
       "      <td>NaN</td>\n",
       "    </tr>\n",
       "  </tbody>\n",
       "</table>\n",
       "<p>1813 rows × 6 columns</p>\n",
       "</div>"
      ],
      "text/plain": [
       "     변수명\\n(기존변수에서 차수를 삭제한 형태)  해당 차수      구분                          변수설명  \\\n",
       "0                    h_merkey  1-15차  가구식별변수                  패널간 가구머지 키변수   \n",
       "1       year\\n(year01~year15)  1-15차    활용변수                      조사 기준 연도   \n",
       "2             wv\\n(wv01~wv15)  1-15차     NaN                         조사 차수   \n",
       "3                      wv_num  1-15차     NaN                        조사된 횟수   \n",
       "4                    first_wv  1-15차     NaN                       첫 조사 차수   \n",
       "...                       ...    ...     ...                           ...   \n",
       "1808                    h17_3  1~15차     NaN          (가) 가족원간 의견충돌이 잦은 경우   \n",
       "1809                    h17_4  1~15차     NaN  (나) 가족원간 화가 나서 물건을 집어 던지는 경우   \n",
       "1810                    h17_5  1~15차     NaN     (다) 가족원간 침착하게 문제를 논의하는 경우   \n",
       "1811                    h17_6  1~15차     NaN        (라) 가족원간 자주 서로 비난하는 경우   \n",
       "1812                    h17_7  1~15차     NaN            (마) 가족원간 가끔 때리는 경우   \n",
       "\n",
       "                                                   문항내용  Unnamed: 5  \n",
       "0     가구 패널 ID + 가구생성차수 + 가구분리일련번호\\n* 관측치(가구)에 부여된 고...         NaN  \n",
       "1                    년\\n※ wide 타입 데이터: 변수 year01~year15         NaN  \n",
       "2     1. 1차 ~ 15, 15차\\n※ wide 타입 데이터: 변수 wv01~wv155 ...         NaN  \n",
       "3                                       1. 1회 ~ 15. 15차         NaN  \n",
       "4                                       1. 1차 ~ 15. 15차         NaN  \n",
       "...                                                 ...         ...  \n",
       "1808  1.전혀그렇지 않다          2.그렇지 않은 편이다      3.보통이다\\n...         NaN  \n",
       "1809                                               위와같음         NaN  \n",
       "1810                                                NaN         NaN  \n",
       "1811                                                NaN         NaN  \n",
       "1812                                                NaN         NaN  \n",
       "\n",
       "[1813 rows x 6 columns]"
      ]
     },
     "execution_count": 8,
     "metadata": {},
     "output_type": "execute_result"
    }
   ],
   "source": [
    "pd.read_excel(r\"C:\\Users\\SAMSUNG\\Desktop\\koweps2021_codebook_origin.xlsx\")"
   ]
  },
  {
   "cell_type": "code",
   "execution_count": null,
   "metadata": {},
   "outputs": [],
   "source": []
  }
 ],
 "metadata": {
  "kernelspec": {
   "display_name": "Python 3",
   "language": "python",
   "name": "python3"
  },
  "language_info": {
   "codemirror_mode": {
    "name": "ipython",
    "version": 3
   },
   "file_extension": ".py",
   "mimetype": "text/x-python",
   "name": "python",
   "nbconvert_exporter": "python",
   "pygments_lexer": "ipython3",
   "version": "3.11.3"
  },
  "orig_nbformat": 4
 },
 "nbformat": 4,
 "nbformat_minor": 2
}
