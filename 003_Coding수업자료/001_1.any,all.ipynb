{
 "cells": [
  {
   "cell_type": "code",
   "execution_count": 1,
   "metadata": {},
   "outputs": [],
   "source": [
    "a=[1,3,4,5,7]\n",
    "b=[4,2,10,3,9]"
   ]
  },
  {
   "cell_type": "code",
   "execution_count": 2,
   "metadata": {},
   "outputs": [
    {
     "ename": "SyntaxError",
     "evalue": "'return' outside function (2670144318.py, line 13)",
     "output_type": "error",
     "traceback": [
      "\u001b[1;36m  Cell \u001b[1;32mIn[2], line 13\u001b[1;36m\u001b[0m\n\u001b[1;33m    return 1\u001b[0m\n\u001b[1;37m    ^\u001b[0m\n\u001b[1;31mSyntaxError\u001b[0m\u001b[1;31m:\u001b[0m 'return' outside function\n"
     ]
    }
   ],
   "source": [
    "'''\n",
    "당신은 두개의 리스트를 받는다.\n",
    "두 리스트의 각각의 원소를 (같은 자리에서)\n",
    "비교하여 같은 위치에 같은 원소가 하나라도 있다면\n",
    "1,\n",
    "그 외에는 0을 리턴하라.\n",
    "'''\n",
    "count=0\n",
    "for i in range(len(a)):\n",
    "    if not(a[i]-b[i]):\n",
    "        count+=1\n",
    "if count==0 or count==len(a):\n",
    "'''\n",
    "당신은 두개의 숫자를 받아 비교하고자한다.\n",
    "(단 두번쨰 숫자가 첫번쨰 숫자보다 클 경우는 없다.)\n",
    "먼저 받은 숫자가 클경우에 1 같을 경우 0\n",
    "input1 = int(input())\n",
    "input2 = int(input())\n",
    "if input1 - input2:\n",
    "    print 1\n",
    "else :\n",
    "    print 0\n",
    "'''\n",
    "    "
   ]
  },
  {
   "cell_type": "code",
   "execution_count": 3,
   "metadata": {},
   "outputs": [
    {
     "data": {
      "text/plain": [
       "False"
      ]
     },
     "execution_count": 3,
     "metadata": {},
     "output_type": "execute_result"
    }
   ],
   "source": [
    "all([1,0,1])"
   ]
  },
  {
   "cell_type": "code",
   "execution_count": 4,
   "metadata": {},
   "outputs": [
    {
     "data": {
      "text/plain": [
       "True"
      ]
     },
     "execution_count": 4,
     "metadata": {},
     "output_type": "execute_result"
    }
   ],
   "source": [
    "any([1,0,1])"
   ]
  },
  {
   "cell_type": "code",
   "execution_count": 5,
   "metadata": {},
   "outputs": [
    {
     "data": {
      "text/plain": [
       "True"
      ]
     },
     "execution_count": 5,
     "metadata": {},
     "output_type": "execute_result"
    }
   ],
   "source": [
    "all([\"h\",'b',1,[1,2,3]])"
   ]
  },
  {
   "cell_type": "code",
   "execution_count": null,
   "metadata": {},
   "outputs": [],
   "source": [
    "def all(x):\n",
    "    result=0\n",
    "    for item in x:\n",
    "        if not item:\n",
    "            return False"
   ]
  },
  {
   "cell_type": "code",
   "execution_count": null,
   "metadata": {},
   "outputs": [],
   "source": [
    "'''\n",
    "당신은 임의의 문자열을 받습니다.\n",
    "그 문자열 안에 \"a\"가 들어있으면\n",
    "True, 아니면 False를 return하는 함수를\n",
    "find나 index 쓰지말고 만드시오.\n",
    "'''\n",
    "count = 0\n",
    "string = input()\n",
    "def solution(string):\n",
    "    for x in string:\n",
    "        if a in x:\n",
    "            count +=1\n",
    "        return count\n",
    "\n",
    "\n",
    "def solution(x):\n",
    "    return sum(map(lambda x:True if x==\"a\" else False),list(x))\n",
    "\n",
    "\n"
   ]
  }
 ],
 "metadata": {
  "kernelspec": {
   "display_name": "Python 3",
   "language": "python",
   "name": "python3"
  },
  "language_info": {
   "codemirror_mode": {
    "name": "ipython",
    "version": 3
   },
   "file_extension": ".py",
   "mimetype": "text/x-python",
   "name": "python",
   "nbconvert_exporter": "python",
   "pygments_lexer": "ipython3",
   "version": "3.11.3"
  },
  "orig_nbformat": 4
 },
 "nbformat": 4,
 "nbformat_minor": 2
}
