{
 "cells": [
  {
   "cell_type": "code",
   "execution_count": null,
   "metadata": {},
   "outputs": [],
   "source": [
    "def solution(N):\n",
    "    temp={0 : (\"N\"*N).join([\"0\"*(N//2) for i in range(2)]),\n",
    "          1: \"0\"*len((\"N\"*N).join([\"0\"*(N//2) for i in range(2)]))}"
   ]
  }
 ],
 "metadata": {
  "language_info": {
   "name": "python"
  },
  "orig_nbformat": 4
 },
 "nbformat": 4,
 "nbformat_minor": 2
}
