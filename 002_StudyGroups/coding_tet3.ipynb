{
 "cells": [
  {
   "attachments": {},
   "cell_type": "markdown",
   "metadata": {},
   "source": [
    "문제 1번. 럭키스트라이크"
   ]
  },
  {
   "cell_type": "code",
   "execution_count": null,
   "metadata": {},
   "outputs": [],
   "source": [
    "#아이디어 1번\n",
    "자릿수를 먼저 구하자 len(str(n))//2"
   ]
  },
  {
   "cell_type": "code",
   "execution_count": 16,
   "metadata": {},
   "outputs": [],
   "source": [
    "def solution(N):\n",
    "   #자릿수를 먼저 구해야함.홀수 자릿수일때 답이 안나오게끔 조절하자.\n",
    "   if not (len(str(N))%2):\n",
    "      div_result=divmod(N,pow(10,(len(str(N))//2)))\n",
    "   #자릿수의 합을 구하는 함수\n",
    "      s=lambda x:sum(map(int,list(str(x))))\n",
    "   #마지막\n",
    "   return \"Luck Strike\" if s(div_result[0])==s(div_result[1]) else \"No\""
   ]
  },
  {
   "attachments": {},
   "cell_type": "markdown",
   "metadata": {},
   "source": [
    "문제2, 문자열 재정렬"
   ]
  },
  {
   "cell_type": "code",
   "execution_count": 22,
   "metadata": {},
   "outputs": [],
   "source": [
    "def solution2(s:str):\n",
    "    s_dict={'letter':[],\"number\":0}\n",
    "    for letter in s:\n",
    "        try:\n",
    "            s_dict[\"number\"]+=int(letter)\n",
    "        except:\n",
    "            s_dict[\"letter\"].append(letter)\n",
    "    s_dict[\"letter\"].sort()\n",
    "    return \"\".join(s_dict[\"letter\"])+str(s_dict[\"number\"])"
   ]
  },
  {
   "cell_type": "code",
   "execution_count": 30,
   "metadata": {},
   "outputs": [],
   "source": [
    "def solution2_2(s:str):\n",
    "    s_dict={'letter':[],\"number\":0}\n",
    "    for letter in s:\n",
    "        if letter.isnumeric(): #숫자이면 True 아니면 False\n",
    "            s_dict[\"number\"]+=int(letter)\n",
    "        else:\n",
    "            s_dict[\"letter\"].append(letter)\n",
    "    s_dict[\"letter\"].sort()\n",
    "    return \"\".join(s_dict[\"letter\"])+str(s_dict[\"number\"])"
   ]
  },
  {
   "cell_type": "code",
   "execution_count": 31,
   "metadata": {},
   "outputs": [],
   "source": [
    "def solution2_3(s:str):\n",
    "    s_dict={'letter':[],\"number\":0}\n",
    "    for letter in s:\n",
    "        if letter.isalpha():\n",
    "            s_dict[\"letter\"].append(letter)\n",
    "        else:\n",
    "            s_dict[\"number\"]+=int(letter)            \n",
    "    s_dict[\"letter\"].sort()\n",
    "    return \"\".join(s_dict[\"letter\"])+str(s_dict[\"number\"])"
   ]
  },
  {
   "attachments": {},
   "cell_type": "markdown",
   "metadata": {},
   "source": [
    "문제3. 어피치 이X...."
   ]
  },
  {
   "cell_type": "code",
   "execution_count": 130,
   "metadata": {},
   "outputs": [],
   "source": [
    "def solution3(s):\n",
    "    def slicing(N):\n",
    "        # return [s[range(i,i+N)[0]:range(i,i+N)[-1]+1] for i in range(0,len(s),N)]\n",
    "        return [s[i:i+N+1] for i in range(0,len(s),N)]\n",
    "    def sl_count(ls:list):\n",
    "        temp,count,result=ls[0],0,0\n",
    "        for x in ls:\n",
    "            if x==temp:\n",
    "                count+=1\n",
    "            else:\n",
    "                if count==1:\n",
    "                    result+=len(temp)\n",
    "                else:\n",
    "                    result+=len(temp)+len(str(count))\n",
    "                count=1\n",
    "                temp=x\n",
    "        result+=len(str(count))+len(temp)\n",
    "        return result\n",
    "    return [sl_count(slicing(num)) for num in range(1,len(s)+1)]\n",
    "    # return [sl_count(slicing(num)) for num in range(1,len(s))]\n",
    "\n",
    "    # for x,y in enumerate(s) #아이디어 1\n",
    "        "
   ]
  },
  {
   "cell_type": "markdown",
   "metadata": {},
   "source": [
    "문제 4. 열쇠"
   ]
  },
  {
   "cell_type": "code",
   "execution_count": 5,
   "metadata": {},
   "outputs": [],
   "source": [
    "import numpy as np"
   ]
  },
  {
   "cell_type": "code",
   "execution_count": 7,
   "metadata": {},
   "outputs": [],
   "source": [
    "def solution(x,y):\n",
    "    puzle_dic={x:list(y) for x,y in enumerate(y)}\n",
    "    M=len(puzle_dic)\n",
    "    key_dic={x:list(y) for x,y in enumerate(x)}\n",
    "    N=len(key_dic)\n",
    "    puzle_size,key_size=map(len,[puzle_dic,key_dic])\n",
    "    # 맵 확장\n",
    "    move_dic=dict.fromkeys(range(M+2*N),[0 for i in range(M+2*N)])\n",
    "    for raw in puzle_dic:\n",
    "        for col in puzle_dic[raw]:\n",
    "            move_dic[raw+N]=sum([[0 for i in range(N)],puzle_dic[raw],[0 for i in range(N)]],[])\n",
    "    def check(i : int):\n",
    "        for j in range(1,2*N+M-1):\n",
    "            if all(d[r]) and (2 not in d):\n",
    "                return True\n",
    "        return False\n",
    "    \n",
    "    return np.array(list(move_dic.values()))"
   ]
  },
  {
   "cell_type": "code",
   "execution_count": 6,
   "metadata": {},
   "outputs": [],
   "source": [
    "a=[\n",
    "    [0,0,0],\n",
    "    [1,0,0],\n",
    "    [0,1,1]   \n",
    "]\n",
    "b=[\n",
    "    [1,1,1],\n",
    "    [1,1,0],\n",
    "    [1,0,1]\n",
    "]"
   ]
  },
  {
   "cell_type": "code",
   "execution_count": 8,
   "metadata": {},
   "outputs": [],
   "source": [
    "r=solution(a,b)"
   ]
  },
  {
   "cell_type": "code",
   "execution_count": 10,
   "metadata": {},
   "outputs": [
    {
     "data": {
      "text/plain": [
       "array([[0, 0, 0, 0, 0, 0, 0, 0, 0],\n",
       "       [0, 0, 0, 0, 0, 0, 0, 0, 0],\n",
       "       [0, 0, 0, 0, 0, 0, 0, 0, 0],\n",
       "       [0, 0, 0, 1, 1, 1, 0, 0, 0],\n",
       "       [0, 0, 0, 1, 1, 0, 0, 0, 0],\n",
       "       [0, 0, 0, 1, 0, 1, 0, 0, 0],\n",
       "       [0, 0, 0, 0, 0, 0, 0, 0, 0],\n",
       "       [0, 0, 0, 0, 0, 0, 0, 0, 0],\n",
       "       [0, 0, 0, 0, 0, 0, 0, 0, 0]])"
      ]
     },
     "execution_count": 10,
     "metadata": {},
     "output_type": "execute_result"
    }
   ],
   "source": [
    "r"
   ]
  },
  {
   "cell_type": "code",
   "execution_count": 11,
   "metadata": {},
   "outputs": [],
   "source": [
    "def solution4(x,y):\n",
    "    M=len(y)\n",
    "    hole_dict={x:y for x,y in enumerate(y) if 0 in y}\n",
    "    return hole_dict"
   ]
  },
  {
   "cell_type": "code",
   "execution_count": 12,
   "metadata": {},
   "outputs": [
    {
     "data": {
      "text/plain": [
       "{1: [1, 1, 0], 2: [1, 0, 1]}"
      ]
     },
     "execution_count": 12,
     "metadata": {},
     "output_type": "execute_result"
    }
   ],
   "source": [
    "solution4(a,b)"
   ]
  },
  {
   "cell_type": "code",
   "execution_count": null,
   "metadata": {},
   "outputs": [],
   "source": []
  }
 ],
 "metadata": {
  "kernelspec": {
   "display_name": "Python 3",
   "language": "python",
   "name": "python3"
  },
  "language_info": {
   "codemirror_mode": {
    "name": "ipython",
    "version": 3
   },
   "file_extension": ".py",
   "mimetype": "text/x-python",
   "name": "python",
   "nbconvert_exporter": "python",
   "pygments_lexer": "ipython3",
   "version": "3.11.3"
  },
  "orig_nbformat": 4
 },
 "nbformat": 4,
 "nbformat_minor": 2
}
