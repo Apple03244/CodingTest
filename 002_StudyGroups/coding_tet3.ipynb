{
 "cells": [
  {
   "attachments": {},
   "cell_type": "markdown",
   "metadata": {},
   "source": [
    "문제 1번. 럭키스트라이크"
   ]
  },
  {
   "cell_type": "code",
   "execution_count": 5,
   "metadata": {},
   "outputs": [],
   "source": [
    "#아이디어 1번\n",
    "#자릿수를 먼저 구하자 len(str(n))//2"
   ]
  },
  {
   "cell_type": "code",
   "execution_count": 16,
   "metadata": {},
   "outputs": [],
   "source": [
    "def solution(N):\n",
    "   #자릿수를 먼저 구해야함.홀수 자릿수일때 답이 안나오게끔 조절하자.\n",
    "   if not (len(str(N))%2):\n",
    "      div_result=divmod(N,pow(10,(len(str(N))//2)))\n",
    "   #자릿수의 합을 구하는 함수\n",
    "      s=lambda x:sum(map(int,list(str(x))))\n",
    "   #마지막\n",
    "   return \"Luck Strike\" if s(div_result[0])==s(div_result[1]) else \"No\""
   ]
  },
  {
   "attachments": {},
   "cell_type": "markdown",
   "metadata": {},
   "source": [
    "문제2, 문자열 재정렬"
   ]
  },
  {
   "cell_type": "code",
   "execution_count": 22,
   "metadata": {},
   "outputs": [],
   "source": [
    "def solution2(s:str):\n",
    "    s_dict={'letter':[],\"number\":0}\n",
    "    for letter in s:\n",
    "        try:\n",
    "            s_dict[\"number\"]+=int(letter)\n",
    "        except:\n",
    "            s_dict[\"letter\"].append(letter)\n",
    "    s_dict[\"letter\"].sort()\n",
    "    return \"\".join(s_dict[\"letter\"])+str(s_dict[\"number\"])"
   ]
  },
  {
   "cell_type": "code",
   "execution_count": 30,
   "metadata": {},
   "outputs": [],
   "source": [
    "def solution2_2(s:str):\n",
    "    s_dict={'letter':[],\"number\":0}\n",
    "    for letter in s:\n",
    "        if letter.isnumeric(): #숫자이면 True 아니면 False\n",
    "            s_dict[\"number\"]+=int(letter)\n",
    "        else:\n",
    "            s_dict[\"letter\"].append(letter)\n",
    "    s_dict[\"letter\"].sort()\n",
    "    return \"\".join(s_dict[\"letter\"])+str(s_dict[\"number\"])"
   ]
  },
  {
   "cell_type": "code",
   "execution_count": 31,
   "metadata": {},
   "outputs": [],
   "source": [
    "def solution2_3(s:str):\n",
    "    s_dict={'letter':[],\"number\":0}\n",
    "    for letter in s:\n",
    "        if letter.isalpha():\n",
    "            s_dict[\"letter\"].append(letter)\n",
    "        else:\n",
    "            s_dict[\"number\"]+=int(letter)            \n",
    "    s_dict[\"letter\"].sort()\n",
    "    return \"\".join(s_dict[\"letter\"])+str(s_dict[\"number\"])"
   ]
  },
  {
   "attachments": {},
   "cell_type": "markdown",
   "metadata": {},
   "source": [
    "문제3. 어피치 이X...."
   ]
  },
  {
   "cell_type": "code",
   "execution_count": 15,
   "metadata": {},
   "outputs": [],
   "source": [
    "def solution3(s):\n",
    "    def slicing(N):\n",
    "        # return [s[range(i,i+N)[0]:range(i,i+N)[-1]+1] for i in range(0,len(s),N)]\n",
    "        return [s[i:i+N] for i in range(0,len(s),N)]\n",
    "    def sl_count(ls:list):\n",
    "        temp,count,result=ls[0],0,0\n",
    "        for x in ls:\n",
    "            if x==temp:\n",
    "                count+=1\n",
    "            else:\n",
    "                if count==1:\n",
    "                    result+=len(temp)\n",
    "                else:\n",
    "                    result+=len(temp)+len(str(count))\n",
    "                count=1\n",
    "                temp=x\n",
    "        if count-1:\n",
    "            result+=len(str(count))+len(temp)\n",
    "        else:\n",
    "            result+=len(temp)\n",
    "        return result\n",
    "    return [sl_count(slicing(num)) for num in range(1,len(s)+1)]"
   ]
  },
  {
   "cell_type": "code",
   "execution_count": 35,
   "metadata": {},
   "outputs": [],
   "source": [
    "def solution3_1(s):\n",
    "    def slicing(N):\n",
    "        return [s[i:i+N] for i in range(0,len(s),N)]\n",
    "    #---------<1차 수집>------------#\n",
    "    #우선순위를 주자\n",
    "    select={}\n",
    "    min_dic={}\n",
    "    for N in range(1,len(s)+1):\n",
    "        select[N]=slicing(N)\n",
    "        min_dic[N]=sum(map(len,set(select[N]))) #기준\n",
    "    #---------<이제 우선순위를 주자>-----------#\n",
    "    srt=[(a,b) for a,b in min_dic.items()]    \n",
    "    srt.sort(key=lambda x:x[1])\n",
    "    #-----------------------------------------#\n",
    "    result=0\n",
    "    for x in srt: #x[0]가 key\n",
    "        if x[1]==len(s):\n",
    "            result=len(s)\n",
    "            break\n",
    "    #----------노가다--------------------------#    <위에 있는거 써도 됑...>\n",
    "        \n",
    "    \n",
    "    return srt"
   ]
  },
  {
   "cell_type": "code",
   "execution_count": 32,
   "metadata": {},
   "outputs": [
    {
     "data": {
      "text/plain": [
       "{1: 4,\n",
       " 2: 10,\n",
       " 3: 12,\n",
       " 4: 12,\n",
       " 5: 12,\n",
       " 6: 12,\n",
       " 7: 12,\n",
       " 8: 12,\n",
       " 9: 12,\n",
       " 10: 12,\n",
       " 11: 12,\n",
       " 12: 12}"
      ]
     },
     "execution_count": 32,
     "metadata": {},
     "output_type": "execute_result"
    }
   ],
   "source": [
    "solution3_1(\"aaabbbccccdd\")"
   ]
  },
  {
   "cell_type": "code",
   "execution_count": 36,
   "metadata": {},
   "outputs": [
    {
     "data": {
      "text/plain": [
       "[(3, 12),\n",
       " (4, 12),\n",
       " (5, 12),\n",
       " (6, 12),\n",
       " (7, 12),\n",
       " (8, 12),\n",
       " (9, 12),\n",
       " (10, 12),\n",
       " (11, 12),\n",
       " (12, 12),\n",
       " (2, 10),\n",
       " (1, 4)]"
      ]
     },
     "execution_count": 36,
     "metadata": {},
     "output_type": "execute_result"
    }
   ],
   "source": [
    "solution3_1(\"aaabbbccccdd\")"
   ]
  },
  {
   "cell_type": "markdown",
   "metadata": {},
   "source": [
    "문제 4. 열쇠"
   ]
  },
  {
   "cell_type": "code",
   "execution_count": 5,
   "metadata": {},
   "outputs": [],
   "source": [
    "import numpy as np"
   ]
  },
  {
   "cell_type": "code",
   "execution_count": 9,
   "metadata": {},
   "outputs": [],
   "source": [
    "def solution4(x,y):\n",
    "    #------<퍼즐 사이즈>------#\n",
    "    M=len(y)\n",
    "    #------<키 전처리>--------#\n",
    "    key_rule=[]\n",
    "    for j in range(len(x)):\n",
    "        for i in range(len(x[j])):\n",
    "            if x[j][i]==1:\n",
    "                key_rule.append([j,i])\n",
    "    #------<예외>---------#\n",
    "    # if not key_rule:\n",
    "    #     Side_result=False\n",
    "    # else:\n",
    "    #     Side_result=True\n",
    "    # #------<첫번쨰 키 값을 기준으로 (0,0)으로 만들면서 매핑>-------#\n",
    "    temp_x,temp_y=key_rule[0]\n",
    "    pre_key=[(x-temp_x,y-temp_y) for x,y in key_rule]\n",
    "\n",
    "    #돌리기 함수 만들기(90도씩)\n",
    "    def turn(x:tuple):\n",
    "        return (x[1],-x[0])\n",
    "    \n",
    "    #------<위의 매핑들을 돌릴수 있는 4가지>------#\n",
    "    dict_pre_key={\n",
    "        \"0\":pre_key,\n",
    "        \"90\":list(map(turn,pre_key)),\n",
    "        \"180\":list(map(turn,map(turn,pre_key))),\n",
    "        \"270\":list(map(turn,(map(turn,map(turn,pre_key)))))\n",
    "    }\n",
    "    #------<퍼즐의 빈칸 좌표 추출>------#\n",
    "    quize_points=[]\n",
    "    for j in range(len(x)):\n",
    "        for i in range(len(y[j])):\n",
    "            if not y[j][i]:\n",
    "                quize_points.append((j,i))\n",
    "    # if not quize_points:\n",
    "    #     return False if Side_result==True else True \n",
    "    # #------<끼워맞추기 함수>------#\n",
    "    def move(x,y): #x가 dict_pre_key의 원소,y가 quize_points\n",
    "        return (x[0]+y[0],x[1]+y[1])\n",
    "    \n",
    "    #------<퍼즐의 값을 기준으로 키 입력>------#\n",
    "    for quize_point in quize_points:\n",
    "        for rad in dict_pre_key:\n",
    "            cl=list(map(lambda x: move(x,quize_point),dict_pre_key[rad]))\n",
    "            Result=True\n",
    "            for p in quize_points:\n",
    "                if p not in cl:\n",
    "                    Result=False\n",
    "            # print(cl,quize_points,Result)\n",
    "            #----------<1차 통과>-------------#\n",
    "            if Result==True: #일단 퀴즈를 꽉 채움\n",
    "                for point in cl:\n",
    "                    if all([(point not in quize_points),(0<=point[0]<M),(0<=point[1]<M)]):\n",
    "                        Result=False\n",
    "            #----------<2차 통과>-------------#\n",
    "            if Result==True:\n",
    "                break\n",
    "        if Result==True:\n",
    "            break\n",
    "    print(cl,quize_points)\n",
    "    return Result\n"
   ]
  },
  {
   "cell_type": "code",
   "execution_count": 24,
   "metadata": {},
   "outputs": [],
   "source": [
    "a=[[1,0,0],\n",
    "   [1,0,0],\n",
    "   [1,1,0]]\n",
    "b=[[1,1,1,1],\n",
    "   [1,1,1,1],\n",
    "   [0,0,1,1],\n",
    "   [1,1,1,1]]"
   ]
  },
  {
   "cell_type": "code",
   "execution_count": 25,
   "metadata": {},
   "outputs": [
    {
     "name": "stdout",
     "output_type": "stream",
     "text": [
      "[(2, 1), (2, 0), (2, -1), (3, -1)] [(2, 0), (2, 1)]\n"
     ]
    },
    {
     "data": {
      "text/plain": [
       "True"
      ]
     },
     "execution_count": 25,
     "metadata": {},
     "output_type": "execute_result"
    }
   ],
   "source": [
    "solution4(a,b)"
   ]
  },
  {
   "cell_type": "code",
   "execution_count": 6,
   "metadata": {},
   "outputs": [],
   "source": [
    "#위와 같은 경우들의 예외처리가 필요함"
   ]
  }
 ],
 "metadata": {
  "kernelspec": {
   "display_name": "Python 3",
   "language": "python",
   "name": "python3"
  },
  "language_info": {
   "codemirror_mode": {
    "name": "ipython",
    "version": 3
   },
   "file_extension": ".py",
   "mimetype": "text/x-python",
   "name": "python",
   "nbconvert_exporter": "python",
   "pygments_lexer": "ipython3",
   "version": "3.11.3"
  },
  "orig_nbformat": 4
 },
 "nbformat": 4,
 "nbformat_minor": 2
}
