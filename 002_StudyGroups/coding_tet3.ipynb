{
 "cells": [
  {
   "attachments": {},
   "cell_type": "markdown",
   "metadata": {},
   "source": [
    "문제 1번. 럭키스트라이크"
   ]
  },
  {
   "cell_type": "code",
   "execution_count": null,
   "metadata": {},
   "outputs": [],
   "source": [
    "#아이디어 1번\n",
    "자릿수를 먼저 구하자 len(str(n))//2"
   ]
  },
  {
   "cell_type": "code",
   "execution_count": 16,
   "metadata": {},
   "outputs": [],
   "source": [
    "def solution(N):\n",
    "   #자릿수를 먼저 구해야함.홀수 자릿수일때 답이 안나오게끔 조절하자.\n",
    "   if not (len(str(N))%2):\n",
    "      div_result=divmod(N,pow(10,(len(str(N))//2)))\n",
    "   #자릿수의 합을 구하는 함수\n",
    "      s=lambda x:sum(map(int,list(str(x))))\n",
    "   #마지막\n",
    "   return \"Luck Strike\" if s(div_result[0])==s(div_result[1]) else \"No\""
   ]
  },
  {
   "attachments": {},
   "cell_type": "markdown",
   "metadata": {},
   "source": [
    "문제2, 문자열 재정렬"
   ]
  },
  {
   "cell_type": "code",
   "execution_count": 22,
   "metadata": {},
   "outputs": [],
   "source": [
    "def solution2(s:str):\n",
    "    s_dict={'letter':[],\"number\":0}\n",
    "    for letter in s:\n",
    "        try:\n",
    "            s_dict[\"number\"]+=int(letter)\n",
    "        except:\n",
    "            s_dict[\"letter\"].append(letter)\n",
    "    s_dict[\"letter\"].sort()\n",
    "    return \"\".join(s_dict[\"letter\"])+str(s_dict[\"number\"])"
   ]
  },
  {
   "cell_type": "code",
   "execution_count": 30,
   "metadata": {},
   "outputs": [],
   "source": [
    "def solution2_2(s:str):\n",
    "    s_dict={'letter':[],\"number\":0}\n",
    "    for letter in s:\n",
    "        if letter.isnumeric(): #숫자이면 True 아니면 False\n",
    "            s_dict[\"number\"]+=int(letter)\n",
    "        else:\n",
    "            s_dict[\"letter\"].append(letter)\n",
    "    s_dict[\"letter\"].sort()\n",
    "    return \"\".join(s_dict[\"letter\"])+str(s_dict[\"number\"])"
   ]
  },
  {
   "cell_type": "code",
   "execution_count": 31,
   "metadata": {},
   "outputs": [],
   "source": [
    "def solution2_3(s:str):\n",
    "    s_dict={'letter':[],\"number\":0}\n",
    "    for letter in s:\n",
    "        if letter.isalpha():\n",
    "            s_dict[\"letter\"].append(letter)\n",
    "        else:\n",
    "            s_dict[\"number\"]+=int(letter)            \n",
    "    s_dict[\"letter\"].sort()\n",
    "    return \"\".join(s_dict[\"letter\"])+str(s_dict[\"number\"])"
   ]
  },
  {
   "attachments": {},
   "cell_type": "markdown",
   "metadata": {},
   "source": [
    "문제3. 어피치 이X...."
   ]
  },
  {
   "cell_type": "code",
   "execution_count": 130,
   "metadata": {},
   "outputs": [],
   "source": [
    "def solution3(s):\n",
    "    def slicing(N):\n",
    "        # return [s[range(i,i+N)[0]:range(i,i+N)[-1]+1] for i in range(0,len(s),N)]\n",
    "        return [s[i:i+N+1] for i in range(0,len(s),N)]\n",
    "    def sl_count(ls:list):\n",
    "        temp,count,result=ls[0],0,0\n",
    "        for x in ls:\n",
    "            if x==temp:\n",
    "                count+=1\n",
    "            else:\n",
    "                if count==1:\n",
    "                    result+=len(temp)\n",
    "                else:\n",
    "                    result+=len(temp)+len(str(count))\n",
    "                count=1\n",
    "                temp=x\n",
    "        result+=len(str(count))+len(temp)\n",
    "        return result\n",
    "    return [sl_count(slicing(num)) for num in range(1,len(s)+1)]\n",
    "    # return [sl_count(slicing(num)) for num in range(1,len(s))]\n",
    "\n",
    "    # for x,y in enumerate(s) #아이디어 1\n",
    "        "
   ]
  },
  {
   "cell_type": "markdown",
   "metadata": {},
   "source": [
    "문제 4. 열쇠"
   ]
  },
  {
   "cell_type": "code",
   "execution_count": 5,
   "metadata": {},
   "outputs": [],
   "source": [
    "import numpy as np"
   ]
  },
  {
   "cell_type": "code",
   "execution_count": 7,
   "metadata": {},
   "outputs": [],
   "source": [
    "def solution(x,y):\n",
    "    puzle_dic={x:list(y) for x,y in enumerate(y)}\n",
    "    M=len(puzle_dic)\n",
    "    key_dic={x:list(y) for x,y in enumerate(x)}\n",
    "    N=len(key_dic)\n",
    "    puzle_size,key_size=map(len,[puzle_dic,key_dic])\n",
    "    # 맵 확장\n",
    "    move_dic=dict.fromkeys(range(M+2*N),[0 for i in range(M+2*N)])\n",
    "    for raw in puzle_dic:\n",
    "        for col in puzle_dic[raw]:\n",
    "            move_dic[raw+N]=sum([[0 for i in range(N)],puzle_dic[raw],[0 for i in range(N)]],[])\n",
    "    def check(i : int):\n",
    "        for j in range(1,2*N+M-1):\n",
    "            if all(d[r]) and (2 not in d):\n",
    "                return True\n",
    "        return False\n",
    "    \n",
    "    return np.array(list(move_dic.values()))"
   ]
  },
  {
   "cell_type": "code",
   "execution_count": 5,
   "metadata": {},
   "outputs": [],
   "source": [
    "a=[\n",
    "    [0,0,0],\n",
    "    [1,0,0],\n",
    "    [0,1,1]   \n",
    "]\n",
    "b=[\n",
    "    [1,1,1],\n",
    "    [1,1,0],\n",
    "    [1,0,1]\n",
    "]"
   ]
  },
  {
   "cell_type": "code",
   "execution_count": 41,
   "metadata": {},
   "outputs": [],
   "source": [
    "def solution4(x,y):\n",
    "    key_rule={a:b for a,b in enumerate(x) if 1 in b}\n",
    "    for x in key_rule.copy():\n",
    "        key_rule[x]=[i for i in range(len(key_rule.copy()[x])) if key_rule.copy()[x][i]==1]\n",
    "    rule={}\n",
    "    minus_idx=min(sum(key_rule.values(),[]))\n",
    "    for x in key_rule:\n",
    "        rule[x-min(key_rule.keys())]=list(map(lambda t:t-minus_idx,key_rule[x]))    \n",
    "\n",
    "    return key_rule,rule"
   ]
  },
  {
   "cell_type": "code",
   "execution_count": 74,
   "metadata": {},
   "outputs": [],
   "source": [
    "def solution4(x,y):\n",
    "    #------<퍼즐 사이즈>------#\n",
    "    M=len(y)\n",
    "    #------<키 전처리>--------#\n",
    "    key_rule=[]\n",
    "    for j in range(len(x)):\n",
    "        for i in range(len(x[j])):\n",
    "            if x[j][i]==1:\n",
    "                key_rule.append([j,i])\n",
    "    #------<첫번쨰 키 값을 기준으로 (0,0)으로 만들면서 매핑>-------#\n",
    "    temp_x,temp_y=key_rule[0]\n",
    "    pre_key=[(x-temp_x,y-temp_y) for x,y in key_rule]\n",
    "\n",
    "    #돌리기 함수 만들기(90도씩)\n",
    "    def turn(x:tuple):\n",
    "        return (x[1],-x[0])\n",
    "    \n",
    "    #------<위의 매핑들을 돌릴수 있는 4가지>------#\n",
    "    dict_pre_key={\n",
    "        \"0\":pre_key,\n",
    "        \"90\":list(map(turn,pre_key)),\n",
    "        \"180\":list(map(turn,map(turn,pre_key))),\n",
    "        \"270\":list(map(turn,(map(turn,map(turn,pre_key)))))\n",
    "    }\n",
    "    #------<퍼즐의 빈칸 좌표 추출>------#\n",
    "    quize_points=[]\n",
    "    for j in range(len(x)):\n",
    "        for i in range(len(y[j])):\n",
    "            if not y[j][i]:\n",
    "                quize_points.append((j,i))\n",
    "\n",
    "    #------<끼워맞추기 함수>------#\n",
    "    def move(x,y): #x가 dict_pre_key의 원소,y가 quize_points\n",
    "        return (x[0]+y[0],x[1]+y[1])\n",
    "    \n",
    "    #------<퍼즐의 값을 기준으로 키 입력>------#\n",
    "    for quize_point in quize_points:\n",
    "        for rad in dict_pre_key:\n",
    "            cl=list(map(lambda x: move(x,quize_point),dict_pre_key[rad]))\n",
    "            Result=True\n",
    "            for p in quize_points:\n",
    "                if p not in cl:\n",
    "                    Result=False\n",
    "            # print(cl,quize_points,Result)\n",
    "            if Result==True:\n",
    "                break\n",
    "        if Result==True:\n",
    "            break\n",
    "    return Result\n"
   ]
  },
  {
   "cell_type": "code",
   "execution_count": 72,
   "metadata": {},
   "outputs": [
    {
     "name": "stdout",
     "output_type": "stream",
     "text": [
      "[(1, 2), (2, 3), (2, 4)] [(1, 2), (2, 1)] False\n",
      "[(1, 2), (2, 1), (3, 1)] [(1, 2), (2, 1)] True\n"
     ]
    },
    {
     "data": {
      "text/plain": [
       "True"
      ]
     },
     "execution_count": 72,
     "metadata": {},
     "output_type": "execute_result"
    }
   ],
   "source": [
    "solution4(a,b)"
   ]
  },
  {
   "cell_type": "code",
   "execution_count": 46,
   "metadata": {},
   "outputs": [],
   "source": [
    "def move(x,y): #x가 dict_pre_key의 원소,y가 quize_points\n",
    "        a,b=x[0]+y[0],x[1]+y[1]\n",
    "        return [a,b]    "
   ]
  },
  {
   "cell_type": "code",
   "execution_count": 48,
   "metadata": {},
   "outputs": [
    {
     "data": {
      "text/plain": [
       "[4, 6]"
      ]
     },
     "execution_count": 48,
     "metadata": {},
     "output_type": "execute_result"
    }
   ],
   "source": [
    "move([1,2],[3,4])"
   ]
  },
  {
   "cell_type": "code",
   "execution_count": null,
   "metadata": {},
   "outputs": [],
   "source": []
  }
 ],
 "metadata": {
  "kernelspec": {
   "display_name": "Python 3",
   "language": "python",
   "name": "python3"
  },
  "language_info": {
   "codemirror_mode": {
    "name": "ipython",
    "version": 3
   },
   "file_extension": ".py",
   "mimetype": "text/x-python",
   "name": "python",
   "nbconvert_exporter": "python",
   "pygments_lexer": "ipython3",
   "version": "3.11.3"
  },
  "orig_nbformat": 4
 },
 "nbformat": 4,
 "nbformat_minor": 2
}
