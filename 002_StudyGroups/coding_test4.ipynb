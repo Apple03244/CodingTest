{
 "cells": [
  {
   "cell_type": "markdown",
   "metadata": {},
   "source": [
    "### 두개뽑아 더하기"
   ]
  },
  {
   "cell_type": "code",
   "execution_count": 2,
   "metadata": {},
   "outputs": [],
   "source": [
    "def soluiton(nlist):\n",
    "    result=[]\n",
    "    while True:\n",
    "        try:\n",
    "            n=nlist.pop()\n",
    "            result.extend(map(lambda x:x+n,nlist))\n",
    "            print(nlist)\n",
    "            print(result)\n",
    "            print(\".......................\")\n",
    "        except:\n",
    "            break\n",
    "    return len(set(result))"
   ]
  },
  {
   "cell_type": "code",
   "execution_count": 3,
   "metadata": {},
   "outputs": [
    {
     "name": "stdout",
     "output_type": "stream",
     "text": [
      "[1, 2, 3]\n",
      "[5, 6, 7]\n",
      ".......................\n",
      "[1, 2]\n",
      "[5, 6, 7, 4, 5]\n",
      ".......................\n",
      "[1]\n",
      "[5, 6, 7, 4, 5, 3]\n",
      ".......................\n",
      "[]\n",
      "[5, 6, 7, 4, 5, 3]\n",
      ".......................\n"
     ]
    },
    {
     "data": {
      "text/plain": [
       "5"
      ]
     },
     "execution_count": 3,
     "metadata": {},
     "output_type": "execute_result"
    }
   ],
   "source": [
    "soluiton([1,2,3,4])"
   ]
  },
  {
   "cell_type": "markdown",
   "metadata": {},
   "source": [
    "꼭 앞에서부터 계산해야된다는 생각을 안해도됌.<br>\n",
    "다음과 같은 과정을 통해 for 문을 한번만 사용가능<br>\n",
    "for 문은 map 안에 내장되어있음."
   ]
  },
  {
   "cell_type": "code",
   "execution_count": 27,
   "metadata": {},
   "outputs": [
    {
     "name": "stdout",
     "output_type": "stream",
     "text": [
      "[4, 3, 2]\n",
      "[5, 4, 3]\n",
      ".......................\n",
      "[4, 3]\n",
      "[5, 4, 3, 6, 5]\n",
      ".......................\n",
      "[4]\n",
      "[5, 4, 3, 6, 5, 7]\n",
      ".......................\n",
      "[]\n",
      "[5, 4, 3, 6, 5, 7]\n",
      ".......................\n"
     ]
    },
    {
     "data": {
      "text/plain": [
       "5"
      ]
     },
     "execution_count": 27,
     "metadata": {},
     "output_type": "execute_result"
    }
   ],
   "source": [
    "soluiton([4,3,2,1])"
   ]
  },
  {
   "cell_type": "markdown",
   "metadata": {},
   "source": [
    "#### 푸드파이트"
   ]
  },
  {
   "cell_type": "code",
   "execution_count": 4,
   "metadata": {},
   "outputs": [],
   "source": [
    "def soluiton2(ls):\n",
    "    result=\"0\"\n",
    "    while ls:\n",
    "        try:\n",
    "            n,m=len(ls),ls.pop() #음식 이름, 개수\n",
    "            print(n,m)\n",
    "            print([str(n)*(m//2) for i in range(2)])\n",
    "            result=result.join([str(n)*(m//2) for i in range(2)]) \n",
    "        except:\n",
    "            break\n",
    "    return result"
   ]
  },
  {
   "cell_type": "code",
   "execution_count": 5,
   "metadata": {},
   "outputs": [
    {
     "name": "stdout",
     "output_type": "stream",
     "text": [
      "3 4\n",
      "['33', '33']\n",
      "2 2\n",
      "['2', '2']\n",
      "1 1\n",
      "['', '']\n"
     ]
    },
    {
     "data": {
      "text/plain": [
       "'2330332'"
      ]
     },
     "execution_count": 5,
     "metadata": {},
     "output_type": "execute_result"
    }
   ],
   "source": [
    "soluiton2([1,2,4])"
   ]
  },
  {
   "cell_type": "markdown",
   "metadata": {},
   "source": [
    "문제 1번과 동일하다.\n",
    "또한 문자열 그대로 다루는 방법에 대한 답이다."
   ]
  },
  {
   "cell_type": "markdown",
   "metadata": {},
   "source": [
    "### 문제 3."
   ]
  },
  {
   "cell_type": "code",
   "execution_count": 68,
   "metadata": {},
   "outputs": [],
   "source": [
    "def solution3(s:str):\n",
    "    temp=dict.fromkeys(list(s),0)\n",
    "    result=[]\n",
    "    for i in range(len(s)):\n",
    "        if temp[s[i]]:\n",
    "            result.append(i+1-temp[s[i]])\n",
    "            temp[s[i]]=i+1\n",
    "        else:\n",
    "            result.append(-1)\n",
    "            temp[s[i]]=i+1\n",
    "    return s,result\n",
    "# dictoinary...풀이가 별로 달라지지 않네용.."
   ]
  },
  {
   "cell_type": "code",
   "execution_count": null,
   "metadata": {},
   "outputs": [],
   "source": [
    "def soluiton3_1(s:str):\n",
    "    letter=dict.fromkeys(list(s),[])\n",
    "    idx=dict.fromkeys(list(s),0)\n",
    "    for i in idx:\n",
    "        idx[i]=s.index(i)\n",
    "    for j in range(len(s)):\n",
    "        letter[s[j]].append(s.index(s[j]))\n",
    "        s=s[j+1:]\n",
    "        \n",
    "# 굳이?"
   ]
  },
  {
   "cell_type": "code",
   "execution_count": 69,
   "metadata": {},
   "outputs": [
    {
     "data": {
      "text/plain": [
       "('banana', [-1, -1, -1, 2, 2, 2])"
      ]
     },
     "execution_count": 69,
     "metadata": {},
     "output_type": "execute_result"
    }
   ],
   "source": [
    "solution3(\"banana\")"
   ]
  },
  {
   "cell_type": "code",
   "execution_count": 26,
   "metadata": {},
   "outputs": [],
   "source": [
    "def soluiton1_1(ls:list):\n",
    "    result=[]\n",
    "    step1=dict.fromkeys(ls)\n",
    "    for key in step1:\n",
    "        step1[key]=ls.count(key)\n",
    "        #2개 이상은 의미없음\n",
    "    #1개씩 뽑아 더하기\n",
    "    step2=list(step1.keys())\n",
    "    for num in step2:\n",
    "        if step1[num]>=2:\n",
    "            result.extend(map(lambda x:x+num ,step2))\n",
    "        else:\n",
    "            l=step2.copy()\n",
    "            l.remove(num)\n",
    "            result.extend(map(lambda x:x+num,l))\n",
    "    return result"
   ]
  },
  {
   "cell_type": "code",
   "execution_count": 27,
   "metadata": {},
   "outputs": [
    {
     "data": {
      "text/plain": [
       "[4, 3, 5, 3, 4, 5, 4, 6]"
      ]
     },
     "execution_count": 27,
     "metadata": {},
     "output_type": "execute_result"
    }
   ],
   "source": [
    "soluiton1_1([2,1,3,2,2,3])"
   ]
  },
  {
   "cell_type": "code",
   "execution_count": null,
   "metadata": {},
   "outputs": [],
   "source": []
  }
 ],
 "metadata": {
  "kernelspec": {
   "display_name": "Python 3",
   "language": "python",
   "name": "python3"
  },
  "language_info": {
   "codemirror_mode": {
    "name": "ipython",
    "version": 3
   },
   "file_extension": ".py",
   "mimetype": "text/x-python",
   "name": "python",
   "nbconvert_exporter": "python",
   "pygments_lexer": "ipython3",
   "version": "3.11.3"
  },
  "orig_nbformat": 4
 },
 "nbformat": 4,
 "nbformat_minor": 2
}
