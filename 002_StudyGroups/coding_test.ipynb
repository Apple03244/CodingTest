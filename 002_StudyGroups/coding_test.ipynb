{
 "cells": [
  {
   "attachments": {},
   "cell_type": "markdown",
   "metadata": {},
   "source": [
    "문제1"
   ]
  },
  {
   "cell_type": "code",
   "execution_count": 1,
   "metadata": {},
   "outputs": [],
   "source": [
    "def solution(x : list,n: int):\n",
    "    x.sort()\n",
    "    if (x[0]-1):\n",
    "        return 1\n",
    "    else:\n",
    "        #dictionary 완성\n",
    "        use_dict=dict.fromkeys(x,0)\n",
    "        for number in use_dict:\n",
    "            use_dict[number]=list(map(lambda x:number*x,range(x.count(number)+1)))\n",
    "        \n",
    "        result=[0]\n",
    "        for plus_num in use_dict:\n",
    "            result=list(set(sum([list(map(lambda x:x+y,use_dict[plus_num])) for y in result],[])))\n",
    "        \n",
    "        return result\n",
    "        # #아랜 정답 채크용\n",
    "        # answer=sum(x)+1\n",
    "        # for final in range(1,answer+1):\n",
    "        #     if final not in result:\n",
    "        #         answer=final\n",
    "        #         break\n",
    "u        # return answer\n",
    "    "
   ]
  },
  {
   "cell_type": "code",
   "execution_count": 2,
   "metadata": {},
   "outputs": [
    {
     "data": {
      "text/plain": [
       "[0, 1, 2, 3, 4, 5, 6, 7, 8, 9, 10, 11, 12, 13, 14, 15]"
      ]
     },
     "execution_count": 2,
     "metadata": {},
     "output_type": "execute_result"
    }
   ],
   "source": [
    "solution([1,2,3,4,5],5)"
   ]
  }
 ],
 "metadata": {
  "kernelspec": {
   "display_name": "Python 3",
   "language": "python",
   "name": "python3"
  },
  "language_info": {
   "codemirror_mode": {
    "name": "ipython",
    "version": 3
   },
   "file_extension": ".py",
   "mimetype": "text/x-python",
   "name": "python",
   "nbconvert_exporter": "python",
   "pygments_lexer": "ipython3",
   "version": "3.11.3"
  },
  "orig_nbformat": 4
 },
 "nbformat": 4,
 "nbformat_minor": 2
}
