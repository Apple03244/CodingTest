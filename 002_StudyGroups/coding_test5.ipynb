{
 "cells": [
  {
   "cell_type": "markdown",
   "metadata": {},
   "source": [
    "## 2016 문제"
   ]
  },
  {
   "cell_type": "code",
   "execution_count": 3,
   "metadata": {},
   "outputs": [],
   "source": [
    "import pandas as pd\n",
    "import datetime as dt"
   ]
  },
  {
   "cell_type": "code",
   "execution_count": null,
   "metadata": {},
   "outputs": [],
   "source": [
    "\"2016-05-24\""
   ]
  },
  {
   "cell_type": "code",
   "execution_count": 5,
   "metadata": {},
   "outputs": [],
   "source": [
    "A=pd.to_datetime(\"20160524\")\n",
    "dt.datetime.weekday(A)\n",
    "A.day_name()"
   ]
  },
  {
   "cell_type": "markdown",
   "metadata": {},
   "source": [
    "## 명예의 전당"
   ]
  },
  {
   "cell_type": "markdown",
   "metadata": {},
   "source": [
    "색다른 방법이 없는디..."
   ]
  },
  {
   "cell_type": "markdown",
   "metadata": {},
   "source": [
    "## 포켓몬"
   ]
  },
  {
   "cell_type": "code",
   "execution_count": 15,
   "metadata": {},
   "outputs": [],
   "source": [
    "solution=lambda nlist : min(len(set(nlist)),len(nlist)//2)"
   ]
  },
  {
   "cell_type": "markdown",
   "metadata": {},
   "source": [
    "## 과일장수"
   ]
  },
  {
   "cell_type": "code",
   "execution_count": 52,
   "metadata": {},
   "outputs": [],
   "source": [
    "def solution(k,m,score):\n",
    "    score.sort(reverse=True)\n",
    "    box=[score[m*i:m*(i+1)] for i in range(len(score)//m)]\n",
    "    return sum(list(map(lambda x:min(x)*len(x) if len(x)==m else 0,box)))"
   ]
  },
  {
   "cell_type": "markdown",
   "metadata": {},
   "source": [
    "## 카드뭉치"
   ]
  },
  {
   "cell_type": "code",
   "execution_count": 72,
   "metadata": {},
   "outputs": [],
   "source": [
    "def solution(x,y,z):\n",
    "    x=\"\".join(map(lambda i:i.join([\"(\",\")\"]),x))\n",
    "    y=\"\".join(map(lambda i:i.join([\"(\",\")\"]),y))\n",
    "    for letter in z:\n",
    "        print(x,y,letter)\n",
    "        if letter.join([\"(\",\")\"]) in x:\n",
    "            x=x.split(letter.join([\"(\",\")\"]))[-1]\n",
    "        elif letter.join([\"(\",\")\"]) in y:\n",
    "            y=y.split(letter.join([\"(\",\")\"]))[-1]\n",
    "        else:\n",
    "            return False\n",
    "        print(x,y,letter)\n",
    "        print(\"*\"*30)\n",
    "    return True"
   ]
  },
  {
   "cell_type": "code",
   "execution_count": null,
   "metadata": {},
   "outputs": [],
   "source": [
    "solution()"
   ]
  },
  {
   "cell_type": "code",
   "execution_count": 55,
   "metadata": {},
   "outputs": [],
   "source": [
    "a=[\"i\", \"drink\", \"water\"]\n",
    "b=[\"want\", \"to\"]\n",
    "c=[\"i\", \"want\", \"to\", \"drink\", \"water\"]"
   ]
  },
  {
   "cell_type": "code",
   "execution_count": 73,
   "metadata": {},
   "outputs": [
    {
     "name": "stdout",
     "output_type": "stream",
     "text": [
      "(i)(drink)(water) (want)(to) i\n",
      "(drink)(water) (want)(to) i\n",
      "******************************\n",
      "(drink)(water) (want)(to) want\n",
      "(drink)(water) (to) want\n",
      "******************************\n",
      "(drink)(water) (to) to\n",
      "(drink)(water)  to\n",
      "******************************\n",
      "(drink)(water)  drink\n",
      "(water)  drink\n",
      "******************************\n",
      "(water)  water\n",
      "  water\n",
      "******************************\n"
     ]
    },
    {
     "data": {
      "text/plain": [
       "True"
      ]
     },
     "execution_count": 73,
     "metadata": {},
     "output_type": "execute_result"
    }
   ],
   "source": [
    "solution(a,b,c)"
   ]
  },
  {
   "cell_type": "code",
   "execution_count": 60,
   "metadata": {},
   "outputs": [
    {
     "data": {
      "text/plain": [
       "'(i)'"
      ]
     },
     "execution_count": 60,
     "metadata": {},
     "output_type": "execute_result"
    }
   ],
   "source": [
    "a[0].join([\"(\",\")\"])"
   ]
  },
  {
   "cell_type": "code",
   "execution_count": null,
   "metadata": {},
   "outputs": [],
   "source": []
  }
 ],
 "metadata": {
  "kernelspec": {
   "display_name": "Python 3",
   "language": "python",
   "name": "python3"
  },
  "language_info": {
   "codemirror_mode": {
    "name": "ipython",
    "version": 3
   },
   "file_extension": ".py",
   "mimetype": "text/x-python",
   "name": "python",
   "nbconvert_exporter": "python",
   "pygments_lexer": "ipython3",
   "version": "3.11.3"
  },
  "orig_nbformat": 4
 },
 "nbformat": 4,
 "nbformat_minor": 2
}
