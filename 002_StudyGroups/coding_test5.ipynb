{
 "cells": [
  {
   "cell_type": "markdown",
   "metadata": {},
   "source": [
    "## 2016 문제"
   ]
  },
  {
   "cell_type": "code",
   "execution_count": 3,
   "metadata": {},
   "outputs": [],
   "source": [
    "import pandas as pd\n",
    "import datetime as dt"
   ]
  },
  {
   "cell_type": "code",
   "execution_count": null,
   "metadata": {},
   "outputs": [],
   "source": [
    "\"2016-05-24\""
   ]
  },
  {
   "cell_type": "code",
   "execution_count": 5,
   "metadata": {},
   "outputs": [],
   "source": [
    "A=pd.to_datetime(\"20160524\")\n",
    "dt.datetime.weekday(A)\n",
    "A.day_name()"
   ]
  },
  {
   "cell_type": "markdown",
   "metadata": {},
   "source": [
    "## 명예의 전당"
   ]
  },
  {
   "cell_type": "markdown",
   "metadata": {},
   "source": [
    "색다른 방법이 없는디..."
   ]
  },
  {
   "cell_type": "markdown",
   "metadata": {},
   "source": [
    "## 포켓몬"
   ]
  },
  {
   "cell_type": "code",
   "execution_count": 15,
   "metadata": {},
   "outputs": [],
   "source": [
    "solution=lambda nlist : min(len(set(nlist)),len(nlist)//2)"
   ]
  },
  {
   "cell_type": "markdown",
   "metadata": {},
   "source": [
    "## 과일장수"
   ]
  },
  {
   "cell_type": "code",
   "execution_count": 52,
   "metadata": {},
   "outputs": [],
   "source": [
    "def solution(k,m,score):\n",
    "    score.sort(reverse=True)\n",
    "    box=[score[m*i:m*(i+1)] for i in range(len(score)//m)]\n",
    "    return sum(list(map(lambda x:min(x)*len(x) if len(x)==m else 0,box)))"
   ]
  },
  {
   "cell_type": "markdown",
   "metadata": {},
   "source": [
    "## 카드뭉치"
   ]
  },
  {
   "cell_type": "code",
   "execution_count": 89,
   "metadata": {},
   "outputs": [],
   "source": [
    "def solution(x,y,z):\n",
    "    x=\"\".join(map(lambda i:i.join([\"(\",\")\"]),x))\n",
    "    y=\"\".join(map(lambda i:i.join([\"(\",\")\"]),y))\n",
    "    z=list(map(lambda i:i.join([\"(\",\")\"]),z))\n",
    "    result=\"Yes\"\n",
    "    for letter in z:\n",
    "        if letter in x:\n",
    "            if not x.split(letter)[0]:\n",
    "                x=x.split(letter)[-1]\n",
    "            else:\n",
    "                return \"No\"\n",
    "        elif letter in y:\n",
    "            if not y.split(letter)[0]:\n",
    "                y=y.split(letter)[-1]\n",
    "            else:\n",
    "                return \"No\"\n",
    "        else:\n",
    "            return 'No'\n",
    "    return \"Yes\""
   ]
  },
  {
   "cell_type": "code",
   "execution_count": null,
   "metadata": {},
   "outputs": [],
   "source": [
    "solution()"
   ]
  },
  {
   "cell_type": "code",
   "execution_count": 90,
   "metadata": {},
   "outputs": [],
   "source": [
    "a=[\"i\", \"drink\", \"water\"]\n",
    "b=[\"want\", \"to\"]\n",
    "c=[\"i\", \"want\", \"to\", \"drink\", \"water\"]\n",
    "d=[\" \"]"
   ]
  },
  {
   "cell_type": "code",
   "execution_count": 91,
   "metadata": {},
   "outputs": [
    {
     "data": {
      "text/plain": [
       "'Yes'"
      ]
     },
     "execution_count": 91,
     "metadata": {},
     "output_type": "execute_result"
    }
   ],
   "source": [
    "solution(a,b,c)"
   ]
  },
  {
   "cell_type": "code",
   "execution_count": 81,
   "metadata": {},
   "outputs": [],
   "source": [
    "a=['a','b','c']\n",
    "b=['d','e']\n",
    "c=['b','c','d','e']"
   ]
  },
  {
   "cell_type": "code",
   "execution_count": 88,
   "metadata": {},
   "outputs": [
    {
     "data": {
      "text/plain": [
       "False"
      ]
     },
     "execution_count": 88,
     "metadata": {},
     "output_type": "execute_result"
    }
   ],
   "source": [
    "bool('abcd'.split('a')[0])"
   ]
  },
  {
   "cell_type": "code",
   "execution_count": null,
   "metadata": {},
   "outputs": [],
   "source": []
  }
 ],
 "metadata": {
  "kernelspec": {
   "display_name": "Python 3",
   "language": "python",
   "name": "python3"
  },
  "language_info": {
   "codemirror_mode": {
    "name": "ipython",
    "version": 3
   },
   "file_extension": ".py",
   "mimetype": "text/x-python",
   "name": "python",
   "nbconvert_exporter": "python",
   "pygments_lexer": "ipython3",
   "version": "3.11.3"
  },
  "orig_nbformat": 4
 },
 "nbformat": 4,
 "nbformat_minor": 2
}
