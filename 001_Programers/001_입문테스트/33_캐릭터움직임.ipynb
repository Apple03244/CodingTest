{
 "cells": [
  {
   "cell_type": "code",
   "execution_count": 1,
   "id": "791d378f",
   "metadata": {},
   "outputs": [],
   "source": [
    "def solution(array,n):\n",
    "    return array.count(n)"
   ]
  },
  {
   "cell_type": "code",
   "execution_count": 2,
   "id": "bb1b91e4",
   "metadata": {},
   "outputs": [],
   "source": [
    "def solution(array,height):\n",
    "    return len(list(filter(lambda n:n>height,array)))"
   ]
  },
  {
   "cell_type": "code",
   "execution_count": 16,
   "id": "d1017a48",
   "metadata": {},
   "outputs": [],
   "source": [
    "def solution(dots):\n",
    "    #가로.세로 한점 정하기\n",
    "    r,c=dots[0][0],dots[0][1]\n",
    "    #r_list,c_list\n",
    "    r_list=[abs(x-r) for x,y in dots]\n",
    "    c_list=[abs(y-c) for x,y in dots]\n",
    "    return max(r_list)*max(c_list)"
   ]
  },
  {
   "cell_type": "code",
   "execution_count": 22,
   "id": "c64b2307",
   "metadata": {},
   "outputs": [],
   "source": [
    "def solution(keyinput,board):\n",
    "    return [keyinput.count(\"right\")-keyinput.count(\"left\"),\n",
    "            board[1]+keyinput.count(up)-keyinput.count(down)]"
   ]
  },
  {
   "cell_type": "code",
   "execution_count": 23,
   "id": "521cc702",
   "metadata": {},
   "outputs": [],
   "source": [
    "def cut(x,y):\n",
    "    if x<=-y:\n",
    "        return -y\n",
    "    elif abs(x)<y:\n",
    "        return x\n",
    "    else:\n",
    "        return y"
   ]
  },
  {
   "cell_type": "code",
   "execution_count": 67,
   "id": "48fafa52",
   "metadata": {},
   "outputs": [],
   "source": [
    "def solution(keyinput,board):\n",
    "    def cut(x,y):\n",
    "        return x if abs(x)<=y else x//x*y"
   ]
  },
  {
   "cell_type": "code",
   "execution_count": 18,
   "id": "5a65a157",
   "metadata": {},
   "outputs": [],
   "source": [
    "def solution(key,bd):\n",
    "    size=list(map(lambda n:n//2,bd))\n",
    "    row_list=\n",
    "    def output(x,y):\n",
    "        return x if abs(x)<y else x//abs(x)*y"
   ]
  },
  {
   "cell_type": "code",
   "execution_count": 19,
   "id": "2b7baa9b",
   "metadata": {},
   "outputs": [
    {
     "data": {
      "text/plain": [
       "[2, 1]"
      ]
     },
     "execution_count": 19,
     "metadata": {},
     "output_type": "execute_result"
    }
   ],
   "source": [
    "solution([\"left\", \"right\", \"up\", \"right\", \"right\"],[11,11])"
   ]
  },
  {
   "cell_type": "code",
   "execution_count": 45,
   "id": "6440912a",
   "metadata": {},
   "outputs": [],
   "source": [
    "def solution(key,bd):\n",
    "    size=list(map(lambda n:n//2,bd))\n",
    "    row_list=list(map(lambda x:-1 if x==\"left\" else 1,[x for x in key if x==\"left\"or x=='right']))\n",
    "    col_list=list(map(lambda x:-1 if x==\"down\" else 1,[x for x in key if x==\"up\"or x=='down']))\n",
    "    def output(x,y):\n",
    "        return x if abs(x)<y else x//abs(x)*y\n",
    "    def counting(x=list,y=int):\n",
    "        num=0\n",
    "        for i in x:\n",
    "            num+=i\n",
    "            num=output(num,y)\n",
    "        return num\n",
    "    return  [counting(row_list,size[0]),counting(col_list,size[1])]"
   ]
  },
  {
   "cell_type": "code",
   "execution_count": 46,
   "id": "fa94ce2a",
   "metadata": {},
   "outputs": [
    {
     "data": {
      "text/plain": [
       "[2, 1]"
      ]
     },
     "execution_count": 46,
     "metadata": {},
     "output_type": "execute_result"
    }
   ],
   "source": [
    "solution([\"left\", \"right\", \"up\", \"right\", \"right\"],[11,11])"
   ]
  },
  {
   "cell_type": "code",
   "execution_count": null,
   "id": "857f3a3e",
   "metadata": {},
   "outputs": [],
   "source": []
  }
 ],
 "metadata": {
  "kernelspec": {
   "display_name": "Python 3 (ipykernel)",
   "language": "python",
   "name": "python3"
  },
  "language_info": {
   "codemirror_mode": {
    "name": "ipython",
    "version": 3
   },
   "file_extension": ".py",
   "mimetype": "text/x-python",
   "name": "python",
   "nbconvert_exporter": "python",
   "pygments_lexer": "ipython3",
   "version": "3.9.13"
  }
 },
 "nbformat": 4,
 "nbformat_minor": 5
}
