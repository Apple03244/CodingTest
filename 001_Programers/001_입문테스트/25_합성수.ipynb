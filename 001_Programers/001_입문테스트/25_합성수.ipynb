{
 "cells": [
  {
   "cell_type": "code",
   "execution_count": 68,
   "id": "ae5d6ee5",
   "metadata": {},
   "outputs": [],
   "source": [
    "def solution(number):\n",
    "    def num_cut(x=int):\n",
    "        num_set=[a*b for a,b in [divmod(x,y) for y in range(2,x)]]\n",
    "        if 0 not in num_set:\n",
    "            return x\n",
    "    return list(map(num_cut,range(1,number+1))).count(None)"
   ]
  },
  {
   "cell_type": "code",
   "execution_count": 14,
   "id": "7b1d3941",
   "metadata": {},
   "outputs": [],
   "source": [
    "def num_cut(x):\n",
    "    for y in range(x):\n",
    "        a.append(divmod(x,y))\n",
    "    return a"
   ]
  },
  {
   "cell_type": "code",
   "execution_count": 58,
   "id": "d433598a",
   "metadata": {},
   "outputs": [],
   "source": [
    "a=set([(1,3),(2,4)])"
   ]
  },
  {
   "cell_type": "code",
   "execution_count": 59,
   "id": "e46ab171",
   "metadata": {},
   "outputs": [
    {
     "data": {
      "text/plain": [
       "{(2, 4)}"
      ]
     },
     "execution_count": 59,
     "metadata": {},
     "output_type": "execute_result"
    }
   ],
   "source": [
    "a.remove((1,3))\n",
    "a"
   ]
  },
  {
   "cell_type": "code",
   "execution_count": 69,
   "id": "411706f7",
   "metadata": {},
   "outputs": [
    {
     "data": {
      "text/plain": [
       "5"
      ]
     },
     "execution_count": 69,
     "metadata": {},
     "output_type": "execute_result"
    }
   ],
   "source": [
    "solution(10)"
   ]
  },
  {
   "cell_type": "code",
   "execution_count": null,
   "id": "0585a300",
   "metadata": {},
   "outputs": [],
   "source": []
  }
 ],
 "metadata": {
  "kernelspec": {
   "display_name": "Python 3 (ipykernel)",
   "language": "python",
   "name": "python3"
  },
  "language_info": {
   "codemirror_mode": {
    "name": "ipython",
    "version": 3
   },
   "file_extension": ".py",
   "mimetype": "text/x-python",
   "name": "python",
   "nbconvert_exporter": "python",
   "pygments_lexer": "ipython3",
   "version": "3.9.13"
  }
 },
 "nbformat": 4,
 "nbformat_minor": 5
}
