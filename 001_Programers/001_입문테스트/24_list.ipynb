{
 "cells": [
  {
   "cell_type": "code",
   "execution_count": 3,
   "id": "3145f8d9",
   "metadata": {},
   "outputs": [],
   "source": [
    "def solution(numlist,n):\n",
    "    return [numlist[i*n:i*n+n] for i in range(len(numlist)//n)]"
   ]
  },
  {
   "cell_type": "code",
   "execution_count": 4,
   "id": "a2ed2f89",
   "metadata": {},
   "outputs": [
    {
     "data": {
      "text/plain": [
       "[[1, 2], [3, 4]]"
      ]
     },
     "execution_count": 4,
     "metadata": {},
     "output_type": "execute_result"
    }
   ],
   "source": [
    "solution([1,2,3,4],2)"
   ]
  },
  {
   "cell_type": "code",
   "execution_count": 36,
   "id": "1723a243",
   "metadata": {},
   "outputs": [],
   "source": [
    "def solution(a,direction):\n",
    "    dic={'left':0,'right':1}\n",
    "    n=dic[direction]\n",
    "    x=a[-n]\n",
    "    a.remove(a[-n])\n",
    "    a.insert(n-1,x)\n",
    "    return a"
   ]
  },
  {
   "cell_type": "code",
   "execution_count": 39,
   "id": "4cff3a65",
   "metadata": {},
   "outputs": [],
   "source": [
    "a=[1,2,3,4]"
   ]
  },
  {
   "cell_type": "code",
   "execution_count": 37,
   "id": "f808fbab",
   "metadata": {},
   "outputs": [
    {
     "data": {
      "text/plain": [
       "[3, 1, 2]"
      ]
     },
     "execution_count": 37,
     "metadata": {},
     "output_type": "execute_result"
    }
   ],
   "source": [
    "solution([1,2,3],'right')"
   ]
  },
  {
   "cell_type": "code",
   "execution_count": 38,
   "id": "b5f86ef9",
   "metadata": {},
   "outputs": [
    {
     "data": {
      "text/plain": [
       "[455, 6, 4, -1, 45, 4, 6]"
      ]
     },
     "execution_count": 38,
     "metadata": {},
     "output_type": "execute_result"
    }
   ],
   "source": [
    "solution([4, 455, 6, 4, -1, 45, 6],'left')"
   ]
  },
  {
   "cell_type": "code",
   "execution_count": null,
   "id": "b5d3d256",
   "metadata": {},
   "outputs": [],
   "source": []
  }
 ],
 "metadata": {
  "kernelspec": {
   "display_name": "Python 3 (ipykernel)",
   "language": "python",
   "name": "python3"
  },
  "language_info": {
   "codemirror_mode": {
    "name": "ipython",
    "version": 3
   },
   "file_extension": ".py",
   "mimetype": "text/x-python",
   "name": "python",
   "nbconvert_exporter": "python",
   "pygments_lexer": "ipython3",
   "version": "3.9.13"
  }
 },
 "nbformat": 4,
 "nbformat_minor": 5
}
