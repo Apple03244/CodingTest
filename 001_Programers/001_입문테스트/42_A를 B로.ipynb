{
 "cells": [
  {
   "cell_type": "code",
   "execution_count": 1,
   "id": "26b6eda4",
   "metadata": {},
   "outputs": [],
   "source": [
    "# 2진수 더하기"
   ]
  },
  {
   "cell_type": "code",
   "execution_count": 28,
   "id": "ed4b5c25",
   "metadata": {},
   "outputs": [],
   "source": [
    "def solution(n1,n2):\n",
    "    def inverse(x):\n",
    "        x_l=list(map(int,x))[::-1]\n",
    "        for i in range(len(x_l)):\n",
    "            x_l[i]=int(x_l[i])*(2**i)\n",
    "        return sum(x_l)\n",
    "    result=format(inverse(n1)+inverse(n2),'b')\n",
    "    return result    "
   ]
  },
  {
   "cell_type": "code",
   "execution_count": 30,
   "id": "036bb749",
   "metadata": {},
   "outputs": [
    {
     "data": {
      "text/plain": [
       "'1100'"
      ]
     },
     "execution_count": 30,
     "metadata": {},
     "output_type": "execute_result"
    }
   ],
   "source": [
    "solution(\"1010\",\"10\")"
   ]
  },
  {
   "cell_type": "code",
   "execution_count": 31,
   "id": "40c60e92",
   "metadata": {},
   "outputs": [],
   "source": [
    "# A를 B로"
   ]
  },
  {
   "cell_type": "code",
   "execution_count": 42,
   "id": "0cf1555f",
   "metadata": {},
   "outputs": [],
   "source": [
    "def solution(A,B):\n",
    "    A=list(A)\n",
    "    B=list(B)\n",
    "    for x in A:\n",
    "        try:\n",
    "            B.remove(x)\n",
    "            if len(B)==0:\n",
    "                return 1\n",
    "        except:\n",
    "            return 0"
   ]
  },
  {
   "cell_type": "code",
   "execution_count": 44,
   "id": "f7e229c0",
   "metadata": {},
   "outputs": [
    {
     "data": {
      "text/plain": [
       "0"
      ]
     },
     "execution_count": 44,
     "metadata": {},
     "output_type": "execute_result"
    }
   ],
   "source": [
    "solution('hello','ollea')"
   ]
  },
  {
   "cell_type": "code",
   "execution_count": 37,
   "id": "eb91881b",
   "metadata": {},
   "outputs": [],
   "source": [
    "L=['h', 'e', 'l', 'l', 'o']"
   ]
  },
  {
   "cell_type": "code",
   "execution_count": 38,
   "id": "424255cf",
   "metadata": {},
   "outputs": [
    {
     "ename": "ValueError",
     "evalue": "list.remove(x): x not in list",
     "output_type": "error",
     "traceback": [
      "\u001b[1;31m---------------------------------------------------------------------------\u001b[0m",
      "\u001b[1;31mValueError\u001b[0m                                Traceback (most recent call last)",
      "\u001b[1;32m~\\AppData\\Local\\Temp\\ipykernel_27512\\1418461025.py\u001b[0m in \u001b[0;36m<module>\u001b[1;34m\u001b[0m\n\u001b[1;32m----> 1\u001b[1;33m \u001b[0mL\u001b[0m\u001b[1;33m.\u001b[0m\u001b[0mremove\u001b[0m\u001b[1;33m(\u001b[0m\u001b[1;34m\"a\"\u001b[0m\u001b[1;33m)\u001b[0m\u001b[1;33m\u001b[0m\u001b[1;33m\u001b[0m\u001b[0m\n\u001b[0m",
      "\u001b[1;31mValueError\u001b[0m: list.remove(x): x not in list"
     ]
    }
   ],
   "source": [
    "L.remove(\"a\")"
   ]
  },
  {
   "cell_type": "code",
   "execution_count": null,
   "id": "e235c649",
   "metadata": {},
   "outputs": [],
   "source": []
  }
 ],
 "metadata": {
  "kernelspec": {
   "display_name": "Python 3 (ipykernel)",
   "language": "python",
   "name": "python3"
  },
  "language_info": {
   "codemirror_mode": {
    "name": "ipython",
    "version": 3
   },
   "file_extension": ".py",
   "mimetype": "text/x-python",
   "name": "python",
   "nbconvert_exporter": "python",
   "pygments_lexer": "ipython3",
   "version": "3.9.13"
  }
 },
 "nbformat": 4,
 "nbformat_minor": 5
}
