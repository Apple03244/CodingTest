{
 "cells": [
  {
   "cell_type": "code",
   "execution_count": 12,
   "id": "283df1d1",
   "metadata": {},
   "outputs": [],
   "source": [
    "def solution(id_pw,db):\n",
    "    #db 처리\n",
    "    db_key=[db[x][0] for x in range(len(db))]\n",
    "    db_value=[db[x][1] for x in range(len(db))]\n",
    "    pro_db=dict(zip(db_key,db_value))\n",
    "    \n",
    "    #아이디가 없을 경우\n",
    "    if id_pw[0] not in db_key:\n",
    "        return \"fail\"\n",
    "    elif id_pw[0] in db_key:\n",
    "        if pro_db[id_pw[0]]==id_pw[1]:\n",
    "            return \"login\"\n",
    "        else:\n",
    "            return \"wrong pw\""
   ]
  },
  {
   "cell_type": "code",
   "execution_count": 13,
   "id": "ae980851",
   "metadata": {},
   "outputs": [
    {
     "data": {
      "text/plain": [
       "'login'"
      ]
     },
     "execution_count": 13,
     "metadata": {},
     "output_type": "execute_result"
    }
   ],
   "source": [
    "solution([\"meosseugi\", \"1234\"],[[\"rardss\", \"123\"], [\"yyoom\", \"1234\"], [\"meosseugi\", \"1234\"]])"
   ]
  },
  {
   "cell_type": "code",
   "execution_count": null,
   "id": "85e5758a",
   "metadata": {},
   "outputs": [],
   "source": []
  }
 ],
 "metadata": {
  "kernelspec": {
   "display_name": "Python 3 (ipykernel)",
   "language": "python",
   "name": "python3"
  },
  "language_info": {
   "codemirror_mode": {
    "name": "ipython",
    "version": 3
   },
   "file_extension": ".py",
   "mimetype": "text/x-python",
   "name": "python",
   "nbconvert_exporter": "python",
   "pygments_lexer": "ipython3",
   "version": "3.9.13"
  }
 },
 "nbformat": 4,
 "nbformat_minor": 5
}
