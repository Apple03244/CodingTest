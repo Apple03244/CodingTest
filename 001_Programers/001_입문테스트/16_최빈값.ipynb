{
 "cells": [
  {
   "cell_type": "code",
   "execution_count": 1,
   "id": "01dd5dfd",
   "metadata": {},
   "outputs": [],
   "source": [
    "# 최빈값 찾기"
   ]
  },
  {
   "cell_type": "code",
   "execution_count": 171,
   "id": "903d3067",
   "metadata": {},
   "outputs": [],
   "source": [
    "def solution(numlist):\n",
    "    num=[numlist.count(i) for i in numlist]\n",
    "    dic=dict(zip(numlist,num))\n",
    "    result=[key for key in dic.keys() if dic[key]==max(num)]\n",
    "    return result[0] if len(result)==1 else -1"
   ]
  },
  {
   "cell_type": "code",
   "execution_count": 172,
   "id": "2f7552b2",
   "metadata": {},
   "outputs": [],
   "source": [
    "a=solution([1,1,2,2,3])"
   ]
  },
  {
   "cell_type": "code",
   "execution_count": 173,
   "id": "acbf3a53",
   "metadata": {},
   "outputs": [
    {
     "data": {
      "text/plain": [
       "-1"
      ]
     },
     "execution_count": 173,
     "metadata": {},
     "output_type": "execute_result"
    }
   ],
   "source": [
    "a"
   ]
  },
  {
   "cell_type": "code",
   "execution_count": 174,
   "id": "a766115c",
   "metadata": {},
   "outputs": [],
   "source": [
    "A=[1,2,3,4,4,2]"
   ]
  },
  {
   "cell_type": "code",
   "execution_count": 177,
   "id": "7c1a9b47",
   "metadata": {},
   "outputs": [
    {
     "data": {
      "text/plain": [
       "<enumerate at 0x208f9434080>"
      ]
     },
     "execution_count": 177,
     "metadata": {},
     "output_type": "execute_result"
    }
   ],
   "source": [
    "b=enumerate(A)"
   ]
  },
  {
   "cell_type": "code",
   "execution_count": 179,
   "id": "ba3548bd",
   "metadata": {},
   "outputs": [
    {
     "name": "stdout",
     "output_type": "stream",
     "text": [
      "0 1\n",
      "1 2\n",
      "2 3\n",
      "3 4\n",
      "4 4\n",
      "5 2\n"
     ]
    }
   ],
   "source": [
    "for i,a in enumerate(A):\n",
    "    print(i,a)"
   ]
  },
  {
   "cell_type": "code",
   "execution_count": 180,
   "id": "0b03ac60",
   "metadata": {},
   "outputs": [],
   "source": [
    "# 베스트 솔류션"
   ]
  },
  {
   "cell_type": "code",
   "execution_count": 181,
   "id": "25e4fe1f",
   "metadata": {},
   "outputs": [],
   "source": [
    "def solution(numlist):\n",
    "    while len(numlist)!=0:\n",
    "        for i,n in enumerate(set(numlist)):\n",
    "            numlist.remove(n)\n",
    "        if i==0: return a\n",
    "    return -1"
   ]
  },
  {
   "cell_type": "code",
   "execution_count": null,
   "id": "50e707a2",
   "metadata": {},
   "outputs": [],
   "source": []
  }
 ],
 "metadata": {
  "kernelspec": {
   "display_name": "Python 3 (ipykernel)",
   "language": "python",
   "name": "python3"
  },
  "language_info": {
   "codemirror_mode": {
    "name": "ipython",
    "version": 3
   },
   "file_extension": ".py",
   "mimetype": "text/x-python",
   "name": "python",
   "nbconvert_exporter": "python",
   "pygments_lexer": "ipython3",
   "version": "3.9.13"
  }
 },
 "nbformat": 4,
 "nbformat_minor": 5
}
