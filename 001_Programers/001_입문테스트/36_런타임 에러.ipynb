{
 "cells": [
  {
   "cell_type": "code",
   "execution_count": 1,
   "id": "17a962cc",
   "metadata": {},
   "outputs": [],
   "source": [
    "# 안전지대"
   ]
  },
  {
   "cell_type": "code",
   "execution_count": 2,
   "id": "3e0ecdd5",
   "metadata": {},
   "outputs": [
    {
     "ename": "SyntaxError",
     "evalue": "invalid syntax (1788383378.py, line 1)",
     "output_type": "error",
     "traceback": [
      "\u001b[1;36m  File \u001b[1;32m\"C:\\Users\\SAMSUNG\\AppData\\Local\\Temp\\ipykernel_51556\\1788383378.py\"\u001b[1;36m, line \u001b[1;32m1\u001b[0m\n\u001b[1;33m    [[0, 0, 0, 0, 0], [0, 0, 0, 0, 0], [0, 0, 0, 0, 0], [0, 0, 1, 0, 0], [0, 0, 0, 0, 0]]\t16\u001b[0m\n\u001b[1;37m                                                                                         \t^\u001b[0m\n\u001b[1;31mSyntaxError\u001b[0m\u001b[1;31m:\u001b[0m invalid syntax\n"
     ]
    }
   ],
   "source": [
    "[[0, 0, 0, 0, 0], [0, 0, 0, 0, 0], [0, 0, 0, 0, 0], [0, 0, 1, 0, 0], [0, 0, 0, 0, 0]]\t16\n",
    "[[0, 0, 0, 0, 0], [0, 0, 0, 0, 0], [0, 0, 0, 0, 0], [0, 0, 1, 1, 0], [0, 0, 0, 0, 0]]\t13\n",
    "[[1, 1, 1, 1, 1, 1], [1, 1, 1, 1, 1, 1], [1, 1, 1, 1, 1, 1], [1, 1, 1, 1, 1, 1], [1, 1, 1, 1, 1, 1], [1, 1, 1, 1, 1, 1]]\t0"
   ]
  },
  {
   "cell_type": "code",
   "execution_count": 55,
   "id": "b2a6fe1a",
   "metadata": {},
   "outputs": [],
   "source": [
    "import numpy as np\n",
    "def solution(a):\n",
    "    \n",
    "    A=a\n",
    "    R=np.zeros([len(A),len(A)])\n",
    "    \n",
    "    def cut_range(idx):\n",
    "        if idx==0:\n",
    "            return [idx,idx+1]\n",
    "        elif idx==len(A)-1:\n",
    "            return [idx-1,idx]\n",
    "        else:\n",
    "            return [idx-1,idx,idx+1]\n",
    "        \n",
    "    for i in range(len(A)):\n",
    "        for j in range(len(A)):\n",
    "            if A[i][j]!=0:\n",
    "                for x in cut_range(i):\n",
    "                    for y in cut_range(j):\n",
    "                        R[x,y]=1\n",
    "    result=0\n",
    "    for a in list(R):\n",
    "        result+=list(a).count(0)\n",
    "    return result"
   ]
  },
  {
   "cell_type": "code",
   "execution_count": 56,
   "id": "56cb5cf1",
   "metadata": {},
   "outputs": [
    {
     "data": {
      "text/plain": [
       "0"
      ]
     },
     "execution_count": 56,
     "metadata": {},
     "output_type": "execute_result"
    }
   ],
   "source": [
    "solution([[1, 1, 1, 1, 1, 1], [1, 1, 1, 1, 1, 1], [1, 1, 1, 1, 1, 1], [1, 1, 1, 1, 1, 1], [1, 1, 1, 1, 1, 1], [1, 1, 1, 1, 1, 1]])"
   ]
  },
  {
   "cell_type": "code",
   "execution_count": 16,
   "id": "665cd555",
   "metadata": {},
   "outputs": [],
   "source": [
    "A=np.array([[0, 0, 0, 0, 0], [0, 0, 0, 0, 0], [0, 0, 0, 0, 0], [0, 0, 1, 0, 0], [0, 0, 0, 0, 0]])"
   ]
  },
  {
   "cell_type": "code",
   "execution_count": 17,
   "id": "bc372fae",
   "metadata": {},
   "outputs": [
    {
     "data": {
      "text/plain": [
       "array([[1, 1, 1, 1, 1],\n",
       "       [1, 1, 1, 1, 1],\n",
       "       [1, 1, 1, 1, 1],\n",
       "       [1, 1, 2, 1, 1],\n",
       "       [1, 1, 1, 1, 1]])"
      ]
     },
     "execution_count": 17,
     "metadata": {},
     "output_type": "execute_result"
    }
   ],
   "source": [
    "for a in A:\n",
    "    a+=1\n",
    "A"
   ]
  },
  {
   "cell_type": "code",
   "execution_count": 12,
   "id": "96cbe16b",
   "metadata": {},
   "outputs": [
    {
     "data": {
      "text/plain": [
       "[0]"
      ]
     },
     "execution_count": 12,
     "metadata": {},
     "output_type": "execute_result"
    }
   ],
   "source": [
    "list(range(0,1))"
   ]
  },
  {
   "cell_type": "code",
   "execution_count": 25,
   "id": "52285048",
   "metadata": {},
   "outputs": [],
   "source": [
    "def solution(A):\n",
    "    cpy_x=[[0 for i in range(len(A))] for j in range(len(A))]\n",
    "    def rang(x=int):\n",
    "        if x==0:\n",
    "            return [0,1]\n",
    "        elif x==len(A)-1:\n",
    "            return [len(A)-2,len(A)-1]\n",
    "        else:\n",
    "            return [x-1,x,x+1]\n",
    "        \n",
    "    for x in range(len(A)):\n",
    "        for y in range(len(A)):\n",
    "            if A[x][y]!=0:\n",
    "                for i in rang(x):\n",
    "                    for j in rang(y):\n",
    "                        cpy_x[i][j]=1\n",
    "    result=0\n",
    "    for x in range(len(A)):\n",
    "        result+=cpy_x[x].count(0)\n",
    "    return result"
   ]
  },
  {
   "cell_type": "code",
   "execution_count": 26,
   "id": "a79deb87",
   "metadata": {},
   "outputs": [
    {
     "data": {
      "text/plain": [
       "0"
      ]
     },
     "execution_count": 26,
     "metadata": {},
     "output_type": "execute_result"
    }
   ],
   "source": [
    "solution([[1, 1, 1, 1, 1, 1], [1, 1, 1, 1, 1, 1], [1, 1, 1, 1, 1, 1], [1, 1, 1, 1, 1, 1], [1, 1, 1, 1, 1, 1], [1, 1, 1, 1, 1, 1]])"
   ]
  },
  {
   "cell_type": "code",
   "execution_count": 11,
   "id": "d65c09a7",
   "metadata": {},
   "outputs": [],
   "source": [
    "import numpy as np\n",
    "def solution(array):\n",
    "    A=np.array(array)\n",
    "    Z=np.zeros([len(A),len(A)])\n",
    "    \n",
    "    for i in range(len(A)-1):\n",
    "        for j in range(len(A)-1):\n",
    "            if A[i,j]==1:\n",
    "                if i==0:\n",
    "                    if j==0:\n",
    "                        for i in [0,1]:\n",
    "                            for j in [0,1]:\n",
    "                                Z[i,j]=1\n",
    "                    elif j==len(A):\n",
    "                        for i in [0,1]:\n",
    "                            for j in [len(A)-1,len(A)]:\n",
    "                                Z[i,j]=1\n",
    "                    else:\n",
    "                        for i in [0,1]:\n",
    "                            for j in [j-1,j,j+1]:\n",
    "                                Z[i,j]=1\n",
    "                elif i==len(A):\n",
    "                    if j==0:\n",
    "                        for i in [len(A)-1,len(A)]:\n",
    "                            for j in [0,1]:\n",
    "                                Z[i,j]=1\n",
    "                    elif j==len(A):\n",
    "                        for i in [len(A)-1,len(A)]:\n",
    "                            for j in [len(A)-1,len(A)]:\n",
    "                                Z[i,j]=1\n",
    "                    else:\n",
    "                        for i in [len(A)-1,len(A)]:\n",
    "                            for j in [j-1,j,j+1]:\n",
    "                                Z[i,j]=1\n",
    "                else:\n",
    "                    if j==0:\n",
    "                        for i in [i-1,i,i+1]:\n",
    "                            for j in [0,1]:\n",
    "                                Z[i,j]=1\n",
    "                    elif j==len(A):\n",
    "                        for i in [i-1,i,i+1]:\n",
    "                            for j in [len(A)-1,len(A)]:\n",
    "                                Z[i,j]=1\n",
    "                    else:\n",
    "                        for i in [i-1,i,i+1]:\n",
    "                            for j in [j-1,j,j+1]:\n",
    "                                Z[i,j]=1\n",
    "        return Z\n",
    "            "
   ]
  },
  {
   "cell_type": "code",
   "execution_count": 12,
   "id": "3ae7dec6",
   "metadata": {},
   "outputs": [
    {
     "data": {
      "text/plain": [
       "array([[0., 0., 0., 0., 0.],\n",
       "       [0., 0., 0., 0., 0.],\n",
       "       [0., 0., 0., 0., 0.],\n",
       "       [0., 0., 0., 0., 0.],\n",
       "       [0., 0., 0., 0., 0.]])"
      ]
     },
     "execution_count": 12,
     "metadata": {},
     "output_type": "execute_result"
    }
   ],
   "source": [
    "solution([[0, 0, 0, 0, 0], [0, 0, 0, 0, 0], [0, 0, 0, 0, 0], [0, 0, 1, 0, 0], [0, 0, 0, 0, 0]])"
   ]
  },
  {
   "cell_type": "code",
   "execution_count": 16,
   "id": "450cfcc4",
   "metadata": {},
   "outputs": [],
   "source": [
    "A=np.array([[1,2,3],[4,5,6],[7,8,9]])"
   ]
  },
  {
   "cell_type": "code",
   "execution_count": 5,
   "id": "1a1756f1",
   "metadata": {},
   "outputs": [],
   "source": [
    "B=np.zeros([3,3])"
   ]
  },
  {
   "cell_type": "code",
   "execution_count": 8,
   "id": "0f14cc9c",
   "metadata": {},
   "outputs": [
    {
     "data": {
      "text/plain": [
       "array([[1., 0., 0.],\n",
       "       [0., 0., 0.],\n",
       "       [0., 0., 0.]])"
      ]
     },
     "execution_count": 8,
     "metadata": {},
     "output_type": "execute_result"
    }
   ],
   "source": [
    "B[0,0]=1\n",
    "B"
   ]
  },
  {
   "cell_type": "code",
   "execution_count": 15,
   "id": "bdfc9cb8",
   "metadata": {},
   "outputs": [
    {
     "data": {
      "text/plain": [
       "[1, 2]"
      ]
     },
     "execution_count": 15,
     "metadata": {},
     "output_type": "execute_result"
    }
   ],
   "source": [
    "list(range(1,3))"
   ]
  },
  {
   "cell_type": "code",
   "execution_count": 39,
   "id": "f97d7208",
   "metadata": {},
   "outputs": [],
   "source": [
    "def solution(array):\n",
    "    def ran(x=int):\n",
    "        if x==0:\n",
    "            return [0,1]\n",
    "        elif x==len(array)-1:\n",
    "            return [len(array)-2,len(array)-1]\n",
    "        else:\n",
    "            return [x-1,x,x+1]\n",
    "    if len(array)==1:\n",
    "        return array[0].count(0)\n",
    "    else:\n",
    "        sol=[[0 for i in range(len(array))] for j in range(len(array))]\n",
    "        for i in range(len(array)):\n",
    "            for j in range(len(array)):\n",
    "                if array[i][j]==1:\n",
    "                    for x in ran(i):\n",
    "                        for y in ran(j):\n",
    "                            sol[x][y]=1\n",
    "    return sum([sol[i].count(0) for i in range(len(sol))])"
   ]
  },
  {
   "cell_type": "code",
   "execution_count": 40,
   "id": "a7a91ea7",
   "metadata": {},
   "outputs": [
    {
     "data": {
      "text/plain": [
       "13"
      ]
     },
     "execution_count": 40,
     "metadata": {},
     "output_type": "execute_result"
    }
   ],
   "source": [
    "solution([[0, 0, 0, 0, 0], [0, 0, 0, 0, 0], [0, 0, 0, 0, 0], [0, 0, 1, 1, 0], [0, 0, 0, 0, 0]])"
   ]
  },
  {
   "cell_type": "code",
   "execution_count": null,
   "id": "27057d05",
   "metadata": {},
   "outputs": [],
   "source": []
  }
 ],
 "metadata": {
  "kernelspec": {
   "display_name": "Python 3 (ipykernel)",
   "language": "python",
   "name": "python3"
  },
  "language_info": {
   "codemirror_mode": {
    "name": "ipython",
    "version": 3
   },
   "file_extension": ".py",
   "mimetype": "text/x-python",
   "name": "python",
   "nbconvert_exporter": "python",
   "pygments_lexer": "ipython3",
   "version": "3.9.13"
  }
 },
 "nbformat": 4,
 "nbformat_minor": 5
}
