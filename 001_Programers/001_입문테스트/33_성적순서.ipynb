{
 "cells": [
  {
   "cell_type": "code",
   "execution_count": 1,
   "id": "d6e3aabd",
   "metadata": {},
   "outputs": [],
   "source": [
    "# 특이한 정렬"
   ]
  },
  {
   "cell_type": "code",
   "execution_count": 25,
   "id": "b0b798df",
   "metadata": {},
   "outputs": [],
   "source": [
    "def solution(nlist):\n",
    "    score=list(map(lambda x:sum(x)/len(x),nlist))\n",
    "    sr=score.copy()\n",
    "    sr.sort(reverse=True)\n",
    "    #keys\n",
    "    keys=list(set(sr))\n",
    "    keys.sort(reverse=True)\n",
    "    #values\n",
    "    values=[[1 for x in range(score.count(y))] for y in keys]\n",
    "    \n",
    "    i,j=0,1\n",
    "    result=[] #쓰일 value 값\n",
    "    while i<len(keys):\n",
    "        result+=[j for x in range(len(values[i]))]\n",
    "        j+=len([j for x in range(len(values[i]))])\n",
    "        i+=1\n",
    "        \n",
    "    dt=dict(zip(sr,result)) #dict\n",
    "    \n",
    "    for i in range(len(score)):\n",
    "        score[i]=dt[score[i]]\n",
    "        \n",
    "            \n",
    "    return score"
   ]
  },
  {
   "cell_type": "code",
   "execution_count": 26,
   "id": "2612396c",
   "metadata": {},
   "outputs": [
    {
     "data": {
      "text/plain": [
       "([2, 2, 5, 4, 1], [75.0, 75.0, 55.0, 65.0, 100.0])"
      ]
     },
     "execution_count": 26,
     "metadata": {},
     "output_type": "execute_result"
    }
   ],
   "source": [
    "solution([[80, 70], [90, 60], [40, 70], [50, 80],[100,100]])"
   ]
  },
  {
   "cell_type": "code",
   "execution_count": 126,
   "id": "63e347ca",
   "metadata": {},
   "outputs": [],
   "source": [
    "A=[4,2,3,4,5]\n",
    "b=dict.fromkeys(A)"
   ]
  },
  {
   "cell_type": "code",
   "execution_count": 127,
   "id": "d27c1533",
   "metadata": {},
   "outputs": [
    {
     "data": {
      "text/plain": [
       "{4: None, 2: None, 3: None, 5: None}"
      ]
     },
     "execution_count": 127,
     "metadata": {},
     "output_type": "execute_result"
    }
   ],
   "source": [
    "b"
   ]
  },
  {
   "cell_type": "code",
   "execution_count": 142,
   "id": "8f7c3fb5",
   "metadata": {},
   "outputs": [
    {
     "data": {
      "text/plain": [
       "[1, 2, 3, 0, 1, 2]"
      ]
     },
     "execution_count": 142,
     "metadata": {},
     "output_type": "execute_result"
    }
   ],
   "source": [
    "[1,2,3]+[0,1,2]"
   ]
  },
  {
   "cell_type": "code",
   "execution_count": null,
   "id": "363b48ac",
   "metadata": {},
   "outputs": [],
   "source": []
  }
 ],
 "metadata": {
  "kernelspec": {
   "display_name": "Python 3 (ipykernel)",
   "language": "python",
   "name": "python3"
  },
  "language_info": {
   "codemirror_mode": {
    "name": "ipython",
    "version": 3
   },
   "file_extension": ".py",
   "mimetype": "text/x-python",
   "name": "python",
   "nbconvert_exporter": "python",
   "pygments_lexer": "ipython3",
   "version": "3.9.13"
  }
 },
 "nbformat": 4,
 "nbformat_minor": 5
}
