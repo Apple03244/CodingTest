{
 "cells": [
  {
   "cell_type": "code",
   "execution_count": 59,
   "id": "673315ee",
   "metadata": {},
   "outputs": [
    {
     "data": {
      "text/plain": [
       "{0: 'hello'}"
      ]
     },
     "execution_count": 59,
     "metadata": {},
     "output_type": "execute_result"
    }
   ],
   "source": [
    "a='hello'\n",
    "trans={}\n",
    "trans[0]=a"
   ]
  },
  {
   "cell_type": "code",
   "execution_count": 91,
   "id": "d9f386f6",
   "metadata": {},
   "outputs": [],
   "source": [
    "def f(a,b):\n",
    "    def result(a):\n",
    "        n=0\n",
    "        result={}\n",
    "        while n<len(a):\n",
    "            result[a]=n\n",
    "            a=(a[-1]+a)[:-1]\n",
    "            n+=1\n",
    "        return result\n",
    "    if b not in result(a).keys():\n",
    "        return -1\n",
    "    else:\n",
    "        return result(a)[b]"
   ]
  },
  {
   "cell_type": "code",
   "execution_count": 92,
   "id": "72085516",
   "metadata": {},
   "outputs": [
    {
     "data": {
      "text/plain": [
       "1"
      ]
     },
     "execution_count": 92,
     "metadata": {},
     "output_type": "execute_result"
    }
   ],
   "source": [
    "f('hello','ohell')"
   ]
  },
  {
   "cell_type": "code",
   "execution_count": 80,
   "id": "e76a7cce",
   "metadata": {},
   "outputs": [],
   "source": [
    "l={0: 'hello', 1: 'ohell', 2: 'lohel', 3: 'llohe', 4: 'elloh'}"
   ]
  },
  {
   "cell_type": "code",
   "execution_count": 82,
   "id": "5e98e3bc",
   "metadata": {},
   "outputs": [
    {
     "name": "stdout",
     "output_type": "stream",
     "text": [
      "not\n"
     ]
    }
   ],
   "source": [
    "if 7 in l.keys():\n",
    "    print('True')\n",
    "else:\n",
    "    print('not')"
   ]
  },
  {
   "cell_type": "code",
   "execution_count": null,
   "id": "39185059",
   "metadata": {},
   "outputs": [],
   "source": []
  }
 ],
 "metadata": {
  "kernelspec": {
   "display_name": "Python 3 (ipykernel)",
   "language": "python",
   "name": "python3"
  },
  "language_info": {
   "codemirror_mode": {
    "name": "ipython",
    "version": 3
   },
   "file_extension": ".py",
   "mimetype": "text/x-python",
   "name": "python",
   "nbconvert_exporter": "python",
   "pygments_lexer": "ipython3",
   "version": "3.9.13"
  }
 },
 "nbformat": 4,
 "nbformat_minor": 5
}
