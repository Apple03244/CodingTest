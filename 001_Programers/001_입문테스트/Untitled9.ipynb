{
 "cells": [
  {
   "cell_type": "code",
   "execution_count": 52,
   "id": "925c7cea",
   "metadata": {},
   "outputs": [],
   "source": [
    "# 치킨 쿠폰"
   ]
  },
  {
   "cell_type": "code",
   "execution_count": 62,
   "id": "7bdd4f24",
   "metadata": {},
   "outputs": [],
   "source": [
    "def solution(n,m):\n",
    "    def trans(x):\n",
    "        x=int(\"0b\"+str(x))"
   ]
  },
  {
   "cell_type": "code",
   "execution_count": 61,
   "id": "4ad23c2c",
   "metadata": {},
   "outputs": [
    {
     "data": {
      "text/plain": [
       "'10'"
      ]
     },
     "execution_count": 61,
     "metadata": {},
     "output_type": "execute_result"
    }
   ],
   "source": [
    "format(0b1010)"
   ]
  },
  {
   "cell_type": "code",
   "execution_count": 64,
   "id": "33cbb606",
   "metadata": {},
   "outputs": [
    {
     "ename": "SyntaxError",
     "evalue": "invalid digit '2' in binary literal (2797554478.py, line 1)",
     "output_type": "error",
     "traceback": [
      "\u001b[1;36m  File \u001b[1;32m\"C:\\Users\\SAMSUNG\\AppData\\Local\\Temp\\ipykernel_24936\\2797554478.py\"\u001b[1;36m, line \u001b[1;32m1\u001b[0m\n\u001b[1;33m    type(0b1234)\u001b[0m\n\u001b[1;37m            ^\u001b[0m\n\u001b[1;31mSyntaxError\u001b[0m\u001b[1;31m:\u001b[0m invalid digit '2' in binary literal\n"
     ]
    }
   ],
   "source": [
    "type(0b1234)"
   ]
  },
  {
   "cell_type": "code",
   "execution_count": 1,
   "id": "aa7e15ed",
   "metadata": {},
   "outputs": [],
   "source": [
    "# 나온 횟수"
   ]
  },
  {
   "cell_type": "code",
   "execution_count": 22,
   "id": "ef74f312",
   "metadata": {},
   "outputs": [],
   "source": [
    "def solution(i,j,k):\n",
    "    return sum([list(str(x)) for x in range(i,j+1)],[]).count(str(k))"
   ]
  },
  {
   "cell_type": "code",
   "execution_count": 25,
   "id": "42bb6f8f",
   "metadata": {},
   "outputs": [
    {
     "data": {
      "text/plain": [
       "[]"
      ]
     },
     "execution_count": 25,
     "metadata": {},
     "output_type": "execute_result"
    }
   ],
   "source": [
    "sum([],[])"
   ]
  },
  {
   "cell_type": "code",
   "execution_count": 16,
   "id": "5242cdee",
   "metadata": {},
   "outputs": [],
   "source": [
    "def solution(i,j,k):\n",
    "    #범위\n",
    "    range(i,j+1)"
   ]
  },
  {
   "cell_type": "code",
   "execution_count": 21,
   "id": "6fe87129",
   "metadata": {},
   "outputs": [],
   "source": [
    "def solution(i,j,k):\n",
    "    rg=''.join([str(x) for x in range(i,j+1)])\n",
    "    return list(rg).count(str(k))"
   ]
  },
  {
   "cell_type": "code",
   "execution_count": null,
   "id": "1fcf2aef",
   "metadata": {},
   "outputs": [],
   "source": []
  }
 ],
 "metadata": {
  "kernelspec": {
   "display_name": "Python 3 (ipykernel)",
   "language": "python",
   "name": "python3"
  },
  "language_info": {
   "codemirror_mode": {
    "name": "ipython",
    "version": 3
   },
   "file_extension": ".py",
   "mimetype": "text/x-python",
   "name": "python",
   "nbconvert_exporter": "python",
   "pygments_lexer": "ipython3",
   "version": "3.9.13"
  }
 },
 "nbformat": 4,
 "nbformat_minor": 5
}
