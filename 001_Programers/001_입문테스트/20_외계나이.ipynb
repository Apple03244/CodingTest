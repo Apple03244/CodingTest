{
 "cells": [
  {
   "cell_type": "code",
   "execution_count": 32,
   "id": "d67d3511",
   "metadata": {},
   "outputs": [],
   "source": [
    "# chr, ord : 숫자를 문자로, 문자를 숫자로/"
   ]
  },
  {
   "cell_type": "code",
   "execution_count": 17,
   "id": "a94505e5",
   "metadata": {},
   "outputs": [],
   "source": [
    "p=\"abcdefghijklmnopqrstuvwxyz\""
   ]
  },
  {
   "cell_type": "code",
   "execution_count": 30,
   "id": "6c29e5d3",
   "metadata": {},
   "outputs": [],
   "source": [
    "def solution(age=int):\n",
    "    n1,n2=age//10+97,age%10+97\n",
    "    return chr(n1)+chr(n2)"
   ]
  },
  {
   "cell_type": "code",
   "execution_count": 31,
   "id": "c5fceaba",
   "metadata": {},
   "outputs": [
    {
     "data": {
      "text/plain": [
       "'gb'"
      ]
     },
     "execution_count": 31,
     "metadata": {},
     "output_type": "execute_result"
    }
   ],
   "source": [
    "solution(61)"
   ]
  },
  {
   "cell_type": "code",
   "execution_count": 59,
   "id": "c0ff56fb",
   "metadata": {},
   "outputs": [],
   "source": [
    "def solution(age=int):\n",
    "    num=[int(i)+97 for i in str(age)]\n",
    "    return \"\".join(list(map(chr,num)))"
   ]
  },
  {
   "cell_type": "code",
   "execution_count": 60,
   "id": "ebf6d169",
   "metadata": {},
   "outputs": [
    {
     "data": {
      "text/plain": [
       "'gb'"
      ]
     },
     "execution_count": 60,
     "metadata": {},
     "output_type": "execute_result"
    }
   ],
   "source": [
    "solution(61)"
   ]
  },
  {
   "cell_type": "code",
   "execution_count": 58,
   "id": "2ca6317c",
   "metadata": {},
   "outputs": [
    {
     "data": {
      "text/plain": [
       "'ab'"
      ]
     },
     "execution_count": 58,
     "metadata": {},
     "output_type": "execute_result"
    }
   ],
   "source": [
    "\"\".join([\"a\",\"b\"])"
   ]
  },
  {
   "cell_type": "code",
   "execution_count": null,
   "id": "78ea0c50",
   "metadata": {},
   "outputs": [],
   "source": []
  }
 ],
 "metadata": {
  "kernelspec": {
   "display_name": "Python 3 (ipykernel)",
   "language": "python",
   "name": "python3"
  },
  "language_info": {
   "codemirror_mode": {
    "name": "ipython",
    "version": 3
   },
   "file_extension": ".py",
   "mimetype": "text/x-python",
   "name": "python",
   "nbconvert_exporter": "python",
   "pygments_lexer": "ipython3",
   "version": "3.9.13"
  }
 },
 "nbformat": 4,
 "nbformat_minor": 5
}
