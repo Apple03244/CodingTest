{
 "cells": [
  {
   "cell_type": "code",
   "execution_count": 1,
   "id": "2e91ba5d",
   "metadata": {},
   "outputs": [],
   "source": [
    "# 팩토리얼"
   ]
  },
  {
   "cell_type": "code",
   "execution_count": 3,
   "id": "e13a6ee6",
   "metadata": {},
   "outputs": [],
   "source": [
    "def fac(number):\n",
    "    result=1\n",
    "    for i in range(1,number+1):\n",
    "        result*=i\n",
    "    return result"
   ]
  },
  {
   "cell_type": "code",
   "execution_count": 16,
   "id": "27152203",
   "metadata": {},
   "outputs": [],
   "source": [
    "def solution(number):\n",
    "    num=1\n",
    "    while number/num>=1:\n",
    "        number=number/num\n",
    "        num+=1\n",
    "    return num-1"
   ]
  },
  {
   "cell_type": "code",
   "execution_count": 19,
   "id": "3e23742f",
   "metadata": {},
   "outputs": [
    {
     "data": {
      "text/plain": [
       "10"
      ]
     },
     "execution_count": 19,
     "metadata": {},
     "output_type": "execute_result"
    }
   ],
   "source": [
    "solution(3628800)"
   ]
  },
  {
   "cell_type": "code",
   "execution_count": null,
   "id": "1ffda0fd",
   "metadata": {},
   "outputs": [],
   "source": []
  }
 ],
 "metadata": {
  "kernelspec": {
   "display_name": "Python 3 (ipykernel)",
   "language": "python",
   "name": "python3"
  },
  "language_info": {
   "codemirror_mode": {
    "name": "ipython",
    "version": 3
   },
   "file_extension": ".py",
   "mimetype": "text/x-python",
   "name": "python",
   "nbconvert_exporter": "python",
   "pygments_lexer": "ipython3",
   "version": "3.9.13"
  }
 },
 "nbformat": 4,
 "nbformat_minor": 5
}
