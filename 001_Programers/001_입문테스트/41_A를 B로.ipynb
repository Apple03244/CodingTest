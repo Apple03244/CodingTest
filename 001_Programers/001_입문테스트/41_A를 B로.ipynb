{
 "cells": [
  {
   "cell_type": "code",
   "execution_count": 4,
   "id": "7cc9e70b",
   "metadata": {},
   "outputs": [],
   "source": [
    "def solution(num_list):\n",
    "    odd_num=[i for i in num_list if i%2!=0]\n",
    "    return (len(num_list)-len(odd_num),len(odd_num))"
   ]
  },
  {
   "cell_type": "code",
   "execution_count": 5,
   "id": "4a6e2eee",
   "metadata": {},
   "outputs": [
    {
     "data": {
      "text/plain": [
       "(2, 3)"
      ]
     },
     "execution_count": 5,
     "metadata": {},
     "output_type": "execute_result"
    }
   ],
   "source": [
    "solution([1,2,3,4,5])"
   ]
  },
  {
   "cell_type": "code",
   "execution_count": 27,
   "id": "4ce273ba",
   "metadata": {},
   "outputs": [],
   "source": [
    "def solution(my_string=str,n=int):\n",
    "    answer=''\n",
    "    for i in range(len(my_string)):\n",
    "        answer+=my_string[i]*n\n",
    "    return answer"
   ]
  },
  {
   "cell_type": "code",
   "execution_count": 28,
   "id": "60be3c6a",
   "metadata": {},
   "outputs": [
    {
     "data": {
      "text/plain": [
       "'hhheeellllllooo'"
      ]
     },
     "execution_count": 28,
     "metadata": {},
     "output_type": "execute_result"
    }
   ],
   "source": [
    "solution('hello',3)"
   ]
  },
  {
   "cell_type": "code",
   "execution_count": 29,
   "id": "66bbdb21",
   "metadata": {},
   "outputs": [],
   "source": [
    "def solution(my_string,letter):\n",
    "    return ''.join([n for n in my_string if n!=letter])"
   ]
  },
  {
   "cell_type": "code",
   "execution_count": 30,
   "id": "82b7aef9",
   "metadata": {},
   "outputs": [
    {
     "data": {
      "text/plain": [
       "'녕하세여'"
      ]
     },
     "execution_count": 30,
     "metadata": {},
     "output_type": "execute_result"
    }
   ],
   "source": [
    "solution('안녕하세여','안')"
   ]
  },
  {
   "cell_type": "code",
   "execution_count": 31,
   "id": "e604c77f",
   "metadata": {},
   "outputs": [],
   "source": [
    "def solution(n,k):\n",
    "    return n*12000+(k-n//10)*2000"
   ]
  },
  {
   "cell_type": "code",
   "execution_count": null,
   "id": "4870a535",
   "metadata": {},
   "outputs": [],
   "source": [
    "solution"
   ]
  },
  {
   "cell_type": "code",
   "execution_count": 1,
   "id": "7abc755b",
   "metadata": {},
   "outputs": [],
   "source": [
    "def solution(tri):\n",
    "    min_number=max(tri)-min(tri)\n",
    "    max_number=sum(tri)\n",
    "    \n",
    "    answer=range(min_number,max_number)\n",
    "    return len(answer)-1"
   ]
  },
  {
   "cell_type": "code",
   "execution_count": 14,
   "id": "3138435c",
   "metadata": {},
   "outputs": [],
   "source": [
    "def solution(spell,dic):\n",
    "    def check(x):\n",
    "        return [x.count(y) for y in spell]\n",
    "    answer=[check(x) for x in dic]\n",
    "    return 1 if [1 for x in range(len(spell))] in answer else 2\n",
    "    "
   ]
  },
  {
   "cell_type": "code",
   "execution_count": 15,
   "id": "0096757f",
   "metadata": {},
   "outputs": [
    {
     "data": {
      "text/plain": [
       "2"
      ]
     },
     "execution_count": 15,
     "metadata": {},
     "output_type": "execute_result"
    }
   ],
   "source": [
    "solution([\"p\", \"o\", \"s\"],[\"sod\", \"eocd\", \"qixm\", \"adio\", \"soo\"])"
   ]
  },
  {
   "cell_type": "code",
   "execution_count": 35,
   "id": "fe78fc8d",
   "metadata": {},
   "outputs": [],
   "source": [
    "def solution(n):\n",
    "    def three(k):\n",
    "        if k%3==0 or 3 in [int(x) for x in list(str(k))]:\n",
    "            return True\n",
    "        else:\n",
    "            return False\n",
    "    answer=[]\n",
    "    k=1\n",
    "    while len(answer)<n:\n",
    "        if three(k):\n",
    "            k+=1\n",
    "        else:\n",
    "            answer.append(k)\n",
    "            k+=1\n",
    "    return answer[-1]"
   ]
  },
  {
   "cell_type": "code",
   "execution_count": 19,
   "id": "c9da6c9e",
   "metadata": {},
   "outputs": [
    {
     "data": {
      "text/plain": [
       "[3, 3]"
      ]
     },
     "execution_count": 19,
     "metadata": {},
     "output_type": "execute_result"
    }
   ],
   "source": [
    "k=33\n",
    "[int(x) for x in list(str(k))]"
   ]
  },
  {
   "cell_type": "code",
   "execution_count": 37,
   "id": "0330ce5c",
   "metadata": {},
   "outputs": [
    {
     "data": {
      "text/plain": [
       "76"
      ]
     },
     "execution_count": 37,
     "metadata": {},
     "output_type": "execute_result"
    }
   ],
   "source": [
    "solution(40)"
   ]
  },
  {
   "cell_type": "code",
   "execution_count": 159,
   "id": "4b24ee57",
   "metadata": {},
   "outputs": [],
   "source": [
    "def solution(dots):\n",
    "    def dif(x):\n",
    "        if (x[0][1]-x[1][1])!=0:\n",
    "            return (x[0][0]-x[1][0])/(x[0][1]-x[1][1])\n",
    "        else:\n",
    "            return \"inf\"\n",
    "    com1=[[dots[0],dots[1]],[dots[2],dots[3]]]\n",
    "    com2=[[dots[0],dots[2]],[dots[1],dots[3]]]\n",
    "    com3=[[dots[0],dots[3]],[dots[1],dots[2]]]\n",
    "    com=[com1,com2,com3]\n",
    "    \n",
    "    for c in  com:\n",
    "        if len(set(list(map(dif,c))))==1:\n",
    "            return 1\n",
    "        else:\n",
    "            return 0"
   ]
  },
  {
   "cell_type": "code",
   "execution_count": 160,
   "id": "38f5091a",
   "metadata": {},
   "outputs": [
    {
     "data": {
      "text/plain": [
       "0"
      ]
     },
     "execution_count": 160,
     "metadata": {},
     "output_type": "execute_result"
    }
   ],
   "source": [
    "solution([[3, 4], [1, 4], [3, 8], [3, 6]])"
   ]
  },
  {
   "cell_type": "code",
   "execution_count": 60,
   "id": "103af18d",
   "metadata": {},
   "outputs": [
    {
     "data": {
      "text/plain": [
       "[]"
      ]
     },
     "execution_count": 60,
     "metadata": {},
     "output_type": "execute_result"
    }
   ],
   "source": [
    "list(range(4,4))"
   ]
  },
  {
   "cell_type": "code",
   "execution_count": 74,
   "id": "5827cdd9",
   "metadata": {},
   "outputs": [
    {
     "data": {
      "text/plain": [
       "[0, 3, 6]"
      ]
     },
     "execution_count": 74,
     "metadata": {},
     "output_type": "execute_result"
    }
   ],
   "source": [
    "list(map(lambda x:x*3,[0,1,2]))"
   ]
  },
  {
   "cell_type": "code",
   "execution_count": 97,
   "id": "662ab65d",
   "metadata": {},
   "outputs": [
    {
     "name": "stdout",
     "output_type": "stream",
     "text": [
      "3\n",
      "7\n"
     ]
    }
   ],
   "source": [
    "for i,j in [(1,2),(3,4)]:\n",
    "    print(i+j)"
   ]
  },
  {
   "cell_type": "code",
   "execution_count": 121,
   "id": "2d3a2f92",
   "metadata": {},
   "outputs": [
    {
     "data": {
      "text/plain": [
       "[1, 2, 3, 4, 5, 6]"
      ]
     },
     "execution_count": 121,
     "metadata": {},
     "output_type": "execute_result"
    }
   ],
   "source": [
    "[1,2,3]+[4,5,6]"
   ]
  },
  {
   "cell_type": "code",
   "execution_count": null,
   "id": "b0aca45f",
   "metadata": {},
   "outputs": [],
   "source": []
  },
  {
   "cell_type": "code",
   "execution_count": null,
   "id": "dcf9f097",
   "metadata": {},
   "outputs": [],
   "source": []
  }
 ],
 "metadata": {
  "kernelspec": {
   "display_name": "Python 3 (ipykernel)",
   "language": "python",
   "name": "python3"
  },
  "language_info": {
   "codemirror_mode": {
    "name": "ipython",
    "version": 3
   },
   "file_extension": ".py",
   "mimetype": "text/x-python",
   "name": "python",
   "nbconvert_exporter": "python",
   "pygments_lexer": "ipython3",
   "version": "3.9.13"
  }
 },
 "nbformat": 4,
 "nbformat_minor": 5
}
