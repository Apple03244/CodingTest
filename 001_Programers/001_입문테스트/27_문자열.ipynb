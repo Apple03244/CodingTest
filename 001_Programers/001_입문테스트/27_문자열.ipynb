{
 "cells": [
  {
   "cell_type": "code",
   "execution_count": 24,
   "id": "3dbe85c2",
   "metadata": {},
   "outputs": [
    {
     "ename": "IndentationError",
     "evalue": "expected an indented block (473675616.py, line 6)",
     "output_type": "error",
     "traceback": [
      "\u001b[1;36m  File \u001b[1;32m\"C:\\Users\\SAMSUNG\\AppData\\Local\\Temp\\ipykernel_43484\\473675616.py\"\u001b[1;36m, line \u001b[1;32m6\u001b[0m\n\u001b[1;33m    return num(my_string)\u001b[0m\n\u001b[1;37m    ^\u001b[0m\n\u001b[1;31mIndentationError\u001b[0m\u001b[1;31m:\u001b[0m expected an indented block\n"
     ]
    }
   ],
   "source": [
    "def soluiton(my_string):\n",
    "    def num(string):\n",
    "        try: \n",
    "         result=[int(n) for n in sorted(string)]\n",
    "        except:\n",
    "    return num(my_string)"
   ]
  },
  {
   "cell_type": "code",
   "execution_count": 38,
   "id": "62a63801",
   "metadata": {},
   "outputs": [],
   "source": [
    "def solution(my_string):\n",
    "    result=[]\n",
    "    for letter in sorted(my_string):\n",
    "        if letter in list(map(lambda n :str(n),list(range(10)))):\n",
    "           result.append(int(letter))\n",
    "    return result"
   ]
  },
  {
   "cell_type": "code",
   "execution_count": 39,
   "id": "77b8a5e3",
   "metadata": {},
   "outputs": [
    {
     "data": {
      "text/plain": [
       "[0, 1, 2, 3, 4, 5, 6, 7, 8, 9]"
      ]
     },
     "execution_count": 39,
     "metadata": {},
     "output_type": "execute_result"
    }
   ],
   "source": [
    "list(range(10))"
   ]
  },
  {
   "cell_type": "code",
   "execution_count": 40,
   "id": "89309b47",
   "metadata": {},
   "outputs": [
    {
     "data": {
      "text/plain": [
       "[1, 2, 3, 4]"
      ]
     },
     "execution_count": 40,
     "metadata": {},
     "output_type": "execute_result"
    }
   ],
   "source": [
    "solution('안1녕2하3세4요')"
   ]
  },
  {
   "cell_type": "code",
   "execution_count": 53,
   "id": "e551ac2e",
   "metadata": {},
   "outputs": [],
   "source": [
    "def solution(my_string):\n",
    "    result=[int(my_string[i]) for i in range(len(my_string)) if my_string[i].isdigit()]\n",
    "    return sum(result)"
   ]
  },
  {
   "cell_type": "code",
   "execution_count": 54,
   "id": "5be5e231",
   "metadata": {},
   "outputs": [],
   "source": [
    "a='안녕1하세여'"
   ]
  },
  {
   "cell_type": "code",
   "execution_count": 55,
   "id": "0d1c8e59",
   "metadata": {},
   "outputs": [
    {
     "data": {
      "text/plain": [
       "10"
      ]
     },
     "execution_count": 55,
     "metadata": {},
     "output_type": "execute_result"
    }
   ],
   "source": [
    "solution(\"aAb1B2cC34oOp\")"
   ]
  },
  {
   "cell_type": "code",
   "execution_count": null,
   "id": "f8b60990",
   "metadata": {},
   "outputs": [],
   "source": []
  }
 ],
 "metadata": {
  "kernelspec": {
   "display_name": "Python 3 (ipykernel)",
   "language": "python",
   "name": "python3"
  },
  "language_info": {
   "codemirror_mode": {
    "name": "ipython",
    "version": 3
   },
   "file_extension": ".py",
   "mimetype": "text/x-python",
   "name": "python",
   "nbconvert_exporter": "python",
   "pygments_lexer": "ipython3",
   "version": "3.9.13"
  }
 },
 "nbformat": 4,
 "nbformat_minor": 5
}
