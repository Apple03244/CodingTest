{
 "cells": [
  {
   "cell_type": "code",
   "execution_count": 1,
   "id": "974d1540",
   "metadata": {},
   "outputs": [],
   "source": [
    "# n의 배수 고르기"
   ]
  },
  {
   "cell_type": "code",
   "execution_count": 90,
   "id": "b337a832",
   "metadata": {},
   "outputs": [],
   "source": [
    "def solution(num=int,numlist=list)->list:\n",
    "    return [n for n in numlist if n%num==0]"
   ]
  },
  {
   "cell_type": "code",
   "execution_count": 91,
   "id": "2e9f833f",
   "metadata": {},
   "outputs": [
    {
     "data": {
      "text/plain": [
       "[6, 9, 12]"
      ]
     },
     "execution_count": 91,
     "metadata": {},
     "output_type": "execute_result"
    }
   ],
   "source": [
    "solution(3,[4, 5, 6, 7, 8, 9, 10, 11, 12])"
   ]
  },
  {
   "cell_type": "code",
   "execution_count": 75,
   "id": "894ddc8d",
   "metadata": {},
   "outputs": [
    {
     "data": {
      "text/plain": [
       "[2, 4, 6, 8, 10, 12, 14, 16, 18]"
      ]
     },
     "execution_count": 75,
     "metadata": {},
     "output_type": "execute_result"
    }
   ],
   "source": [
    "# map\n",
    "m=[]\n",
    "for n in range(1,10):\n",
    "    m.append(2*n)\n",
    "m"
   ]
  },
  {
   "cell_type": "code",
   "execution_count": 19,
   "id": "9629c14b",
   "metadata": {},
   "outputs": [
    {
     "data": {
      "text/plain": [
       "[2, 4, 6, 8, 10, 12, 14, 16, 18]"
      ]
     },
     "execution_count": 19,
     "metadata": {},
     "output_type": "execute_result"
    }
   ],
   "source": [
    "m=list(range(1,10))\n",
    "def double(n):\n",
    "    return 2*n\n",
    "list(map(double,m))"
   ]
  },
  {
   "cell_type": "code",
   "execution_count": 92,
   "id": "6e92b96e",
   "metadata": {},
   "outputs": [],
   "source": [
    "# 베스트 솔류션"
   ]
  },
  {
   "cell_type": "code",
   "execution_count": 93,
   "id": "246572b1",
   "metadata": {},
   "outputs": [],
   "source": [
    "def solution(num,numlist):\n",
    "    return list(filter(lambda n:n%num==0,numlist))"
   ]
  },
  {
   "cell_type": "code",
   "execution_count": 95,
   "id": "b1fe9f81",
   "metadata": {},
   "outputs": [
    {
     "data": {
      "text/plain": [
       "[6, 9, 12]"
      ]
     },
     "execution_count": 95,
     "metadata": {},
     "output_type": "execute_result"
    }
   ],
   "source": [
    "solution(3,[4, 5, 6, 7, 8, 9, 10, 11, 12])"
   ]
  },
  {
   "cell_type": "code",
   "execution_count": null,
   "id": "f349fdd4",
   "metadata": {},
   "outputs": [],
   "source": []
  }
 ],
 "metadata": {
  "kernelspec": {
   "display_name": "Python 3 (ipykernel)",
   "language": "python",
   "name": "python3"
  },
  "language_info": {
   "codemirror_mode": {
    "name": "ipython",
    "version": 3
   },
   "file_extension": ".py",
   "mimetype": "text/x-python",
   "name": "python",
   "nbconvert_exporter": "python",
   "pygments_lexer": "ipython3",
   "version": "3.9.13"
  }
 },
 "nbformat": 4,
 "nbformat_minor": 5
}
