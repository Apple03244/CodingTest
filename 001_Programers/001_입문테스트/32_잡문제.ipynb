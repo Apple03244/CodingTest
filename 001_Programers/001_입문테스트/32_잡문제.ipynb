{
 "cells": [
  {
   "cell_type": "code",
   "execution_count": 3,
   "id": "b6ddab56",
   "metadata": {},
   "outputs": [],
   "source": [
    "def solution(s,n1,n2):\n",
    "    return s[:n1]+s[n2]+s[n1+1:n2]+s[n1]+s[n2+1:]"
   ]
  },
  {
   "cell_type": "code",
   "execution_count": 7,
   "id": "7f556aca",
   "metadata": {},
   "outputs": [
    {
     "data": {
      "text/plain": [
       "'heoll'"
      ]
     },
     "execution_count": 7,
     "metadata": {},
     "output_type": "execute_result"
    }
   ],
   "source": [
    "a='안녕하세요'\n",
    "solution('hello',2,4)"
   ]
  },
  {
   "cell_type": "code",
   "execution_count": 22,
   "id": "8e3a746c",
   "metadata": {},
   "outputs": [],
   "source": [
    "def solution(s):\n",
    "    dic=dict(zip(list(s),[s.count(letter) for letter in s]))\n",
    "    return ''.join(sorted([x for x,y in dic.items() if y==1]))"
   ]
  },
  {
   "cell_type": "code",
   "execution_count": 23,
   "id": "ee7092e2",
   "metadata": {},
   "outputs": [
    {
     "data": {
      "text/plain": [
       "'b'"
      ]
     },
     "execution_count": 23,
     "metadata": {},
     "output_type": "execute_result"
    }
   ],
   "source": [
    "solution('banana')"
   ]
  },
  {
   "cell_type": "code",
   "execution_count": null,
   "id": "6aa62f31",
   "metadata": {},
   "outputs": [],
   "source": []
  }
 ],
 "metadata": {
  "kernelspec": {
   "display_name": "Python 3 (ipykernel)",
   "language": "python",
   "name": "python3"
  },
  "language_info": {
   "codemirror_mode": {
    "name": "ipython",
    "version": 3
   },
   "file_extension": ".py",
   "mimetype": "text/x-python",
   "name": "python",
   "nbconvert_exporter": "python",
   "pygments_lexer": "ipython3",
   "version": "3.9.13"
  }
 },
 "nbformat": 4,
 "nbformat_minor": 5
}
