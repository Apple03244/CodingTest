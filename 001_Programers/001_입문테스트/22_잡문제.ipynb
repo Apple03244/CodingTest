{
 "cells": [
  {
   "cell_type": "code",
   "execution_count": 3,
   "id": "af560da9",
   "metadata": {},
   "outputs": [],
   "source": [
    "# 개미\n",
    "def solution(hp):\n",
    "    n1=hp//5\n",
    "    n2=(hp%5)//3\n",
    "    n3=hp%5%3\n",
    "    return n1+n2+n3"
   ]
  },
  {
   "cell_type": "code",
   "execution_count": 11,
   "id": "40a71f42",
   "metadata": {},
   "outputs": [],
   "source": [
    "def solution(mos):\n",
    "    morse = { \n",
    "    '.-':'a','-...':'b','-.-.':'c','-..':'d','.':'e','..-.':'f',\n",
    "    '--.':'g','....':'h','..':'i','.---':'j','-.-':'k','.-..':'l',\n",
    "    '--':'m','-.':'n','---':'o','.--.':'p','--.-':'q','.-.':'r',\n",
    "    '...':'s','-':'t','..-':'u','...-':'v','.--':'w','-..-':'x',\n",
    "    '-.--':'y','--..':'z'\n",
    "}\n",
    "    mos_split=mos.split(' ')\n",
    "    return \"\".join([morse[letter] for letter in mos_split])      "
   ]
  },
  {
   "cell_type": "code",
   "execution_count": 12,
   "id": "6265120b",
   "metadata": {},
   "outputs": [
    {
     "data": {
      "text/plain": [
       "'hello'"
      ]
     },
     "execution_count": 12,
     "metadata": {},
     "output_type": "execute_result"
    }
   ],
   "source": [
    "solution(\".... . .-.. .-.. ---\")"
   ]
  },
  {
   "cell_type": "code",
   "execution_count": 14,
   "id": "24420aef",
   "metadata": {},
   "outputs": [],
   "source": [
    "def solution(rsp):\n",
    "    v_dict={\"2\":\"0\",\"0\":\"5\",\"5\":\"2\"}\n",
    "    return ''.join([v_dict[letter] for letter in rsp])"
   ]
  },
  {
   "cell_type": "code",
   "execution_count": 15,
   "id": "f3479d44",
   "metadata": {},
   "outputs": [],
   "source": [
    "def solution(balls,share):\n",
    "    def num(number):\n",
    "        m=1\n",
    "        for n in range(1,number+1):\n",
    "            m*=n\n",
    "        return m\n",
    "    return int(num(balls)//num(share))"
   ]
  },
  {
   "cell_type": "code",
   "execution_count": null,
   "id": "5e5b9030",
   "metadata": {},
   "outputs": [],
   "source": []
  }
 ],
 "metadata": {
  "kernelspec": {
   "display_name": "Python 3 (ipykernel)",
   "language": "python",
   "name": "python3"
  },
  "language_info": {
   "codemirror_mode": {
    "name": "ipython",
    "version": 3
   },
   "file_extension": ".py",
   "mimetype": "text/x-python",
   "name": "python",
   "nbconvert_exporter": "python",
   "pygments_lexer": "ipython3",
   "version": "3.9.13"
  }
 },
 "nbformat": 4,
 "nbformat_minor": 5
}
