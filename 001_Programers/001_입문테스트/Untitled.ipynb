{
 "cells": [
  {
   "cell_type": "code",
   "execution_count": 1,
   "id": "396d0fd4",
   "metadata": {},
   "outputs": [],
   "source": [
    "# 크기가 작은 문자열"
   ]
  },
  {
   "cell_type": "code",
   "execution_count": 8,
   "id": "e247d2eb",
   "metadata": {},
   "outputs": [],
   "source": [
    "def solution(t,p):\n",
    "    t_split=[t[k:k+len(p)] for k in range(len(t)-len(p)+1)]\n",
    "    return len([n for n in t_split if int(n)<=int(p)])"
   ]
  },
  {
   "cell_type": "code",
   "execution_count": 9,
   "id": "47bafe54",
   "metadata": {},
   "outputs": [
    {
     "data": {
      "text/plain": [
       "2"
      ]
     },
     "execution_count": 9,
     "metadata": {},
     "output_type": "execute_result"
    }
   ],
   "source": [
    "solution('3141592','271')"
   ]
  },
  {
   "cell_type": "code",
   "execution_count": null,
   "id": "b73f2267",
   "metadata": {},
   "outputs": [],
   "source": [
    "\"3141592\"\t\"271\""
   ]
  }
 ],
 "metadata": {
  "kernelspec": {
   "display_name": "Python 3 (ipykernel)",
   "language": "python",
   "name": "python3"
  },
  "language_info": {
   "codemirror_mode": {
    "name": "ipython",
    "version": 3
   },
   "file_extension": ".py",
   "mimetype": "text/x-python",
   "name": "python",
   "nbconvert_exporter": "python",
   "pygments_lexer": "ipython3",
   "version": "3.9.13"
  }
 },
 "nbformat": 4,
 "nbformat_minor": 5
}
