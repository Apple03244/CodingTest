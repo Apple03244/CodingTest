{
 "cells": [
  {
   "cell_type": "code",
   "execution_count": 1,
   "id": "4284a144",
   "metadata": {},
   "outputs": [],
   "source": [
    "# 문제 9"
   ]
  },
  {
   "cell_type": "code",
   "execution_count": 3,
   "id": "6b3becb1",
   "metadata": {},
   "outputs": [],
   "source": [
    "def f(n,t):\n",
    "    return n*(2**t)"
   ]
  },
  {
   "cell_type": "code",
   "execution_count": 4,
   "id": "0e19a978",
   "metadata": {},
   "outputs": [
    {
     "data": {
      "text/plain": [
       "8"
      ]
     },
     "execution_count": 4,
     "metadata": {},
     "output_type": "execute_result"
    }
   ],
   "source": [
    "f(2,2)"
   ]
  },
  {
   "cell_type": "code",
   "execution_count": 5,
   "id": "4954d80c",
   "metadata": {},
   "outputs": [],
   "source": [
    "# 베스트 솔류션"
   ]
  },
  {
   "cell_type": "code",
   "execution_count": 6,
   "id": "da1c4fab",
   "metadata": {},
   "outputs": [],
   "source": [
    "def g(n,t):\n",
    "    return n<<t"
   ]
  },
  {
   "cell_type": "code",
   "execution_count": 7,
   "id": "3449da7c",
   "metadata": {},
   "outputs": [
    {
     "data": {
      "text/plain": [
       "8"
      ]
     },
     "execution_count": 7,
     "metadata": {},
     "output_type": "execute_result"
    }
   ],
   "source": [
    "g(2,2)"
   ]
  },
  {
   "cell_type": "code",
   "execution_count": 8,
   "id": "4a9e43f5",
   "metadata": {},
   "outputs": [
    {
     "data": {
      "text/plain": [
       "16"
      ]
     },
     "execution_count": 8,
     "metadata": {},
     "output_type": "execute_result"
    }
   ],
   "source": [
    "2<<3"
   ]
  },
  {
   "cell_type": "code",
   "execution_count": 9,
   "id": "963b7b13",
   "metadata": {},
   "outputs": [],
   "source": [
    "#비트 쉬프트 연산"
   ]
  },
  {
   "cell_type": "code",
   "execution_count": null,
   "id": "5e2e48e3",
   "metadata": {},
   "outputs": [],
   "source": []
  }
 ],
 "metadata": {
  "kernelspec": {
   "display_name": "Python 3 (ipykernel)",
   "language": "python",
   "name": "python3"
  },
  "language_info": {
   "codemirror_mode": {
    "name": "ipython",
    "version": 3
   },
   "file_extension": ".py",
   "mimetype": "text/x-python",
   "name": "python",
   "nbconvert_exporter": "python",
   "pygments_lexer": "ipython3",
   "version": "3.9.13"
  }
 },
 "nbformat": 4,
 "nbformat_minor": 5
}
