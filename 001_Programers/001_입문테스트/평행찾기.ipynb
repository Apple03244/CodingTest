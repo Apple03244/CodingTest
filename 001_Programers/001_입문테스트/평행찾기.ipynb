{
 "cells": [
  {
   "cell_type": "code",
   "execution_count": 1,
   "id": "2eb229fa",
   "metadata": {},
   "outputs": [],
   "source": [
    "# 평행 여부"
   ]
  },
  {
   "cell_type": "code",
   "execution_count": 8,
   "id": "d594505d",
   "metadata": {},
   "outputs": [],
   "source": [
    "def solution(dots):\n",
    "    com1=[[dots[0],dots[3]],[dots[1],dots[2]]]\n",
    "    com2=[[dots[0],dots[2]],[dots[1],dots[3]]]\n",
    "    com3=[[dots[0],dots[1]],[dots[2],dots[3]]]\n",
    "    com=[com1,com2,com3]\n",
    "    \n",
    "    #문제 사항 1 : 기울기의 분모가 0일 경우\n",
    "    def tan(x):\n",
    "        if x[0][0][0]-x[0][1][0]==0:\n",
    "            if x[1][0][0]-x[1][1][0]==0:\n",
    "                return 1\n",
    "            else:\n",
    "                return 0\n",
    "        else:\n",
    "            if (x[0][0][1]-x[0][1][1])/(x[0][0][0]-x[0][1][0])==(x[1][0][1]-x[1][1][1])/(x[1][0][0]-x[1][1][0]):\n",
    "                return 1\n",
    "            else:\n",
    "                return 0\n",
    "    if sum([tan(x) for x in com])>0:\n",
    "        return 1\n",
    "    else:\n",
    "        return 0"
   ]
  },
  {
   "cell_type": "code",
   "execution_count": 9,
   "id": "4c94c8cc",
   "metadata": {},
   "outputs": [
    {
     "data": {
      "text/plain": [
       "1"
      ]
     },
     "execution_count": 9,
     "metadata": {},
     "output_type": "execute_result"
    }
   ],
   "source": [
    "solution([[1, 4], [9, 2], [3, 8], [11, 6]])"
   ]
  },
  {
   "cell_type": "code",
   "execution_count": null,
   "id": "66c8b579",
   "metadata": {},
   "outputs": [],
   "source": []
  }
 ],
 "metadata": {
  "kernelspec": {
   "display_name": "Python 3 (ipykernel)",
   "language": "python",
   "name": "python3"
  },
  "language_info": {
   "codemirror_mode": {
    "name": "ipython",
    "version": 3
   },
   "file_extension": ".py",
   "mimetype": "text/x-python",
   "name": "python",
   "nbconvert_exporter": "python",
   "pygments_lexer": "ipython3",
   "version": "3.9.13"
  }
 },
 "nbformat": 4,
 "nbformat_minor": 5
}
