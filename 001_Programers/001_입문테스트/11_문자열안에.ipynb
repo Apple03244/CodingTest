{
 "cells": [
  {
   "cell_type": "code",
   "execution_count": 1,
   "id": "1c852dd7",
   "metadata": {},
   "outputs": [],
   "source": [
    "# 문자열 안에 문자열 판별"
   ]
  },
  {
   "cell_type": "code",
   "execution_count": 2,
   "id": "e5e23973",
   "metadata": {},
   "outputs": [],
   "source": [
    "a='abcde'"
   ]
  },
  {
   "cell_type": "code",
   "execution_count": 4,
   "id": "2668eaa7",
   "metadata": {},
   "outputs": [
    {
     "data": {
      "text/plain": [
       "False"
      ]
     },
     "execution_count": 4,
     "metadata": {},
     "output_type": "execute_result"
    }
   ],
   "source": [
    "'bd'in a"
   ]
  },
  {
   "cell_type": "code",
   "execution_count": 6,
   "id": "bd039b15",
   "metadata": {},
   "outputs": [],
   "source": [
    "def f(a,b):\n",
    "    return 1 if b in a else 2"
   ]
  },
  {
   "cell_type": "code",
   "execution_count": 8,
   "id": "53deed3b",
   "metadata": {},
   "outputs": [
    {
     "data": {
      "text/plain": [
       "1"
      ]
     },
     "execution_count": 8,
     "metadata": {},
     "output_type": "execute_result"
    }
   ],
   "source": [
    "f(a,'b')"
   ]
  },
  {
   "cell_type": "code",
   "execution_count": null,
   "id": "a12c950b",
   "metadata": {},
   "outputs": [],
   "source": []
  }
 ],
 "metadata": {
  "kernelspec": {
   "display_name": "Python 3 (ipykernel)",
   "language": "python",
   "name": "python3"
  },
  "language_info": {
   "codemirror_mode": {
    "name": "ipython",
    "version": 3
   },
   "file_extension": ".py",
   "mimetype": "text/x-python",
   "name": "python",
   "nbconvert_exporter": "python",
   "pygments_lexer": "ipython3",
   "version": "3.9.13"
  }
 },
 "nbformat": 4,
 "nbformat_minor": 5
}
