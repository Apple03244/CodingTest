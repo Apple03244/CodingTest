{
 "cells": [
  {
   "cell_type": "code",
   "execution_count": 1,
   "id": "92aab935",
   "metadata": {},
   "outputs": [],
   "source": [
    "# 문제7"
   ]
  },
  {
   "cell_type": "code",
   "execution_count": 81,
   "id": "9ff5833f",
   "metadata": {},
   "outputs": [],
   "source": [
    "def solution(my_string):\n",
    "    result=''\n",
    "    step=sorted(my_string.lower())[::-1]\n",
    "    while len(step)!=0:\n",
    "        result+=step.pop()\n",
    "    return result"
   ]
  },
  {
   "cell_type": "code",
   "execution_count": 82,
   "id": "c1cef430",
   "metadata": {},
   "outputs": [
    {
     "data": {
      "text/plain": [
       "'abcd'"
      ]
     },
     "execution_count": 82,
     "metadata": {},
     "output_type": "execute_result"
    }
   ],
   "source": [
    "a='aDcB'\n",
    "solution(a)"
   ]
  },
  {
   "cell_type": "code",
   "execution_count": 87,
   "id": "74fa68de",
   "metadata": {},
   "outputs": [
    {
     "data": {
      "text/plain": [
       "'1,2,3,4'"
      ]
     },
     "execution_count": 87,
     "metadata": {},
     "output_type": "execute_result"
    }
   ],
   "source": [
    "''.join([\"1,2,3,4\"])"
   ]
  },
  {
   "cell_type": "code",
   "execution_count": 88,
   "id": "740f5504",
   "metadata": {},
   "outputs": [],
   "source": [
    "# 베스트 솔루션"
   ]
  },
  {
   "cell_type": "code",
   "execution_count": 89,
   "id": "2714194c",
   "metadata": {},
   "outputs": [
    {
     "ename": "SyntaxError",
     "evalue": "'return' outside function (2670172779.py, line 1)",
     "output_type": "error",
     "traceback": [
      "\u001b[1;36m  File \u001b[1;32m\"C:\\Users\\SAMSUNG\\AppData\\Local\\Temp\\ipykernel_29108\\2670172779.py\"\u001b[1;36m, line \u001b[1;32m1\u001b[0m\n\u001b[1;33m    return ''.join(sorted(my_string.lower()))\u001b[0m\n\u001b[1;37m    ^\u001b[0m\n\u001b[1;31mSyntaxError\u001b[0m\u001b[1;31m:\u001b[0m 'return' outside function\n"
     ]
    }
   ],
   "source": [
    "return ''.join(sorted(my_string.lower()))"
   ]
  },
  {
   "cell_type": "code",
   "execution_count": null,
   "id": "362670b3",
   "metadata": {},
   "outputs": [],
   "source": []
  }
 ],
 "metadata": {
  "kernelspec": {
   "display_name": "Python 3 (ipykernel)",
   "language": "python",
   "name": "python3"
  },
  "language_info": {
   "codemirror_mode": {
    "name": "ipython",
    "version": 3
   },
   "file_extension": ".py",
   "mimetype": "text/x-python",
   "name": "python",
   "nbconvert_exporter": "python",
   "pygments_lexer": "ipython3",
   "version": "3.9.13"
  }
 },
 "nbformat": 4,
 "nbformat_minor": 5
}
