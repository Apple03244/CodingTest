{
 "cells": [
  {
   "cell_type": "code",
   "execution_count": 1,
   "id": "ffa4c5dc",
   "metadata": {},
   "outputs": [],
   "source": [
    "# 선분의 길이"
   ]
  },
  {
   "cell_type": "code",
   "execution_count": 31,
   "id": "99a23a6b",
   "metadata": {},
   "outputs": [],
   "source": [
    "def solution(dots):\n",
    "    def cross(com):\n",
    "        cross=[]\n",
    "        for x in list(range(com[0][0],com[0][1])):\n",
    "            if x in list(range(com[1][0],com[1][1])):\n",
    "                cross.append(x)\n",
    "        return cross\n",
    "    com=[[dots[0],dots[1]],[dots[0],dots[2]],[dots[1],dots[2]]]\n",
    "    return len(set(list(map(cross,com))[0]+list(map(cross,com))[1]+list(map(cross,com))[2]))"
   ]
  },
  {
   "cell_type": "code",
   "execution_count": 32,
   "id": "f95ae40f",
   "metadata": {},
   "outputs": [
    {
     "data": {
      "text/plain": [
       "8"
      ]
     },
     "execution_count": 32,
     "metadata": {},
     "output_type": "execute_result"
    }
   ],
   "source": [
    "solution([[0, 5], [3, 9], [1, 10]])"
   ]
  },
  {
   "cell_type": "code",
   "execution_count": null,
   "id": "e592fbf9",
   "metadata": {},
   "outputs": [],
   "source": []
  }
 ],
 "metadata": {
  "kernelspec": {
   "display_name": "Python 3 (ipykernel)",
   "language": "python",
   "name": "python3"
  },
  "language_info": {
   "codemirror_mode": {
    "name": "ipython",
    "version": 3
   },
   "file_extension": ".py",
   "mimetype": "text/x-python",
   "name": "python",
   "nbconvert_exporter": "python",
   "pygments_lexer": "ipython3",
   "version": "3.9.13"
  }
 },
 "nbformat": 4,
 "nbformat_minor": 5
}
