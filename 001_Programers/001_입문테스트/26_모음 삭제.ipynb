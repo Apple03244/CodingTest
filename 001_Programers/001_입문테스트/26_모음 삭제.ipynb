{
 "cells": [
  {
   "cell_type": "code",
   "execution_count": 76,
   "id": "e0e3d9bb",
   "metadata": {},
   "outputs": [],
   "source": [
    "def solution(my_string):\n",
    "    def off(n):\n",
    "        if n not in [\"a\",\"e\",\"i\",\"o\",\"u\"]:\n",
    "            return n\n",
    "    return \"\".join(list(filter(None,list(map(off,my_string)))))"
   ]
  },
  {
   "cell_type": "code",
   "execution_count": 77,
   "id": "c34ce011",
   "metadata": {},
   "outputs": [
    {
     "data": {
      "text/plain": [
       "'bnn'"
      ]
     },
     "execution_count": 77,
     "metadata": {},
     "output_type": "execute_result"
    }
   ],
   "source": [
    "solution('banana')"
   ]
  },
  {
   "cell_type": "code",
   "execution_count": 73,
   "id": "ef7102e7",
   "metadata": {},
   "outputs": [
    {
     "ename": "TypeError",
     "evalue": "sequence item 1: expected str instance, NoneType found",
     "output_type": "error",
     "traceback": [
      "\u001b[1;31m---------------------------------------------------------------------------\u001b[0m",
      "\u001b[1;31mTypeError\u001b[0m                                 Traceback (most recent call last)",
      "\u001b[1;32m~\\AppData\\Local\\Temp\\ipykernel_37648\\3340372961.py\u001b[0m in \u001b[0;36m<module>\u001b[1;34m\u001b[0m\n\u001b[1;32m----> 1\u001b[1;33m \u001b[1;34m\"\"\u001b[0m\u001b[1;33m.\u001b[0m\u001b[0mjoin\u001b[0m\u001b[1;33m(\u001b[0m\u001b[1;33m[\u001b[0m\u001b[1;34m'b'\u001b[0m\u001b[1;33m,\u001b[0m \u001b[1;32mNone\u001b[0m\u001b[1;33m,\u001b[0m \u001b[1;34m'n'\u001b[0m\u001b[1;33m,\u001b[0m \u001b[1;32mNone\u001b[0m\u001b[1;33m,\u001b[0m \u001b[1;34m'n'\u001b[0m\u001b[1;33m,\u001b[0m \u001b[1;32mNone\u001b[0m\u001b[1;33m]\u001b[0m\u001b[1;33m)\u001b[0m\u001b[1;33m\u001b[0m\u001b[1;33m\u001b[0m\u001b[0m\n\u001b[0m",
      "\u001b[1;31mTypeError\u001b[0m: sequence item 1: expected str instance, NoneType found"
     ]
    }
   ],
   "source": [
    "\"\".join(['b', None, 'n', None, 'n', None])"
   ]
  },
  {
   "cell_type": "code",
   "execution_count": 45,
   "id": "f489c541",
   "metadata": {},
   "outputs": [],
   "source": [
    "def off(n):\n",
    "    if n not in [\"a\",\"e\",\"i\",\"o\",\"u\"]:\n",
    "        return n"
   ]
  },
  {
   "cell_type": "code",
   "execution_count": 43,
   "id": "07660e8f",
   "metadata": {},
   "outputs": [
    {
     "data": {
      "text/plain": [
       "(None, 'b')"
      ]
     },
     "execution_count": 43,
     "metadata": {},
     "output_type": "execute_result"
    }
   ],
   "source": [
    "off('a'), off('b')"
   ]
  },
  {
   "cell_type": "code",
   "execution_count": 44,
   "id": "d2ffa4d5",
   "metadata": {},
   "outputs": [
    {
     "ename": "SyntaxError",
     "evalue": "invalid syntax (789252803.py, line 2)",
     "output_type": "error",
     "traceback": [
      "\u001b[1;36m  File \u001b[1;32m\"C:\\Users\\SAMSUNG\\AppData\\Local\\Temp\\ipykernel_37648\\789252803.py\"\u001b[1;36m, line \u001b[1;32m2\u001b[0m\n\u001b[1;33m    return n if n in [\"a\",\"e\",\"i\",\"o\",\"u\"]\u001b[0m\n\u001b[1;37m                                          ^\u001b[0m\n\u001b[1;31mSyntaxError\u001b[0m\u001b[1;31m:\u001b[0m invalid syntax\n"
     ]
    }
   ],
   "source": [
    "def off(n):\n",
    "    return n if n in [\"a\",\"e\",\"i\",\"o\",\"u\"]"
   ]
  },
  {
   "cell_type": "code",
   "execution_count": null,
   "id": "b3e8fb7e",
   "metadata": {},
   "outputs": [],
   "source": []
  }
 ],
 "metadata": {
  "kernelspec": {
   "display_name": "Python 3 (ipykernel)",
   "language": "python",
   "name": "python3"
  },
  "language_info": {
   "codemirror_mode": {
    "name": "ipython",
    "version": 3
   },
   "file_extension": ".py",
   "mimetype": "text/x-python",
   "name": "python",
   "nbconvert_exporter": "python",
   "pygments_lexer": "ipython3",
   "version": "3.9.13"
  }
 },
 "nbformat": 4,
 "nbformat_minor": 5
}
