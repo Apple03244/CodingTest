{
 "cells": [
  {
   "cell_type": "code",
   "execution_count": 1,
   "id": "659b6d5e",
   "metadata": {},
   "outputs": [],
   "source": [
    "# 문제2"
   ]
  },
  {
   "cell_type": "code",
   "execution_count": 21,
   "id": "d94e0094",
   "metadata": {},
   "outputs": [],
   "source": [
    "def test(s):\n",
    "    m=[]\n",
    "    n=[]\n",
    "    for a in range(0,len(s)-1):\n",
    "        m.append(s[a+1]-s[a])\n",
    "    for a in range(0,len(s)-1):\n",
    "        n.append(s[a+1]//s[a])\n",
    "\n",
    "    if len(set(m))==1: #등차수열일때\n",
    "        s[-1]+=m[0]\n",
    "    else:\n",
    "        s[-1]=s[-1]*n[0]\n",
    "    return s[-1]"
   ]
  },
  {
   "cell_type": "code",
   "execution_count": 22,
   "id": "89a7f531",
   "metadata": {},
   "outputs": [
    {
     "data": {
      "text/plain": [
       "6"
      ]
     },
     "execution_count": 22,
     "metadata": {},
     "output_type": "execute_result"
    }
   ],
   "source": [
    "test([1,2,3,4,5])"
   ]
  },
  {
   "cell_type": "code",
   "execution_count": 23,
   "id": "3596f50d",
   "metadata": {},
   "outputs": [
    {
     "data": {
      "text/plain": [
       "256"
      ]
     },
     "execution_count": 23,
     "metadata": {},
     "output_type": "execute_result"
    }
   ],
   "source": [
    "test([1,4,16,64])"
   ]
  },
  {
   "cell_type": "code",
   "execution_count": 24,
   "id": "992999b3",
   "metadata": {},
   "outputs": [],
   "source": [
    "def test(common):\n",
    "    def ari(common):\n",
    "        first=common[1]-common[0]\n",
    "        for i,a in enumerate(common):\n",
    "            if i==0:\n",
    "                continue\n",
    "            if first==common[i]-common[i-1]:\n",
    "                return True\n",
    "    if ari(common)==True:\n",
    "        return common[-1]+(common[1]-common[0])\n",
    "    else:\n",
    "        return common[-1]*(common[1]//common[0])"
   ]
  },
  {
   "cell_type": "code",
   "execution_count": 17,
   "id": "cdbc4d24",
   "metadata": {},
   "outputs": [],
   "source": [
    "def test(common):\n",
    "    def ari(common):\n",
    "        first=common[1]-common[0]\n",
    "        for i,a in enumerate(common):\n",
    "            if i==0:\n",
    "                continue\n",
    "            if first!=common[i]-common[i-1]:\n",
    "                return False\n",
    "        return True\n",
    "    if ari(common)==True:\n",
    "        d=common[1]-common[0]\n",
    "        return common[-1]+d\n",
    "    else:\n",
    "        r=common[1]//common[0]\n",
    "        return common[-1]*r"
   ]
  },
  {
   "cell_type": "code",
   "execution_count": 20,
   "id": "b04305da",
   "metadata": {},
   "outputs": [
    {
     "data": {
      "text/plain": [
       "15"
      ]
     },
     "execution_count": 20,
     "metadata": {},
     "output_type": "execute_result"
    }
   ],
   "source": [
    "test([3,6,9,12])"
   ]
  },
  {
   "cell_type": "code",
   "execution_count": 18,
   "id": "1271647c",
   "metadata": {},
   "outputs": [
    {
     "data": {
      "text/plain": [
       "16"
      ]
     },
     "execution_count": 18,
     "metadata": {},
     "output_type": "execute_result"
    }
   ],
   "source": [
    "test([1,2,4,8])"
   ]
  },
  {
   "cell_type": "code",
   "execution_count": 21,
   "id": "b31fcfd6",
   "metadata": {},
   "outputs": [
    {
     "data": {
      "text/plain": [
       "2511"
      ]
     },
     "execution_count": 21,
     "metadata": {},
     "output_type": "execute_result"
    }
   ],
   "source": [
    "test([9,81,279])"
   ]
  },
  {
   "cell_type": "code",
   "execution_count": null,
   "id": "a4e7cdfd",
   "metadata": {},
   "outputs": [],
   "source": []
  }
 ],
 "metadata": {
  "kernelspec": {
   "display_name": "Python 3 (ipykernel)",
   "language": "python",
   "name": "python3"
  },
  "language_info": {
   "codemirror_mode": {
    "name": "ipython",
    "version": 3
   },
   "file_extension": ".py",
   "mimetype": "text/x-python",
   "name": "python",
   "nbconvert_exporter": "python",
   "pygments_lexer": "ipython3",
   "version": "3.9.13"
  }
 },
 "nbformat": 4,
 "nbformat_minor": 5
}
