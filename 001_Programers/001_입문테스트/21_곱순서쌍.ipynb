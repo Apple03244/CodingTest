{
 "cells": [
  {
   "cell_type": "code",
   "execution_count": 19,
   "id": "b1c8a18c",
   "metadata": {},
   "outputs": [],
   "source": [
    "def solution(number):\n",
    "    def numlist(number):\n",
    "        for n1,n2 in range(number),range(number):\n",
    "            if n1*n2!=number:\n",
    "                pass\n",
    "            else:\n",
    "                "
   ]
  },
  {
   "cell_type": "code",
   "execution_count": 32,
   "id": "14a675b1",
   "metadata": {},
   "outputs": [],
   "source": [
    "def solution(number):\n",
    "    return len([n for n in range(1,number+1) if number%n==0])"
   ]
  },
  {
   "cell_type": "code",
   "execution_count": 33,
   "id": "90be5555",
   "metadata": {},
   "outputs": [
    {
     "data": {
      "text/plain": [
       "6"
      ]
     },
     "execution_count": 33,
     "metadata": {},
     "output_type": "execute_result"
    }
   ],
   "source": [
    "solution(20)"
   ]
  },
  {
   "cell_type": "code",
   "execution_count": null,
   "id": "0df1a98a",
   "metadata": {},
   "outputs": [],
   "source": []
  }
 ],
 "metadata": {
  "kernelspec": {
   "display_name": "Python 3 (ipykernel)",
   "language": "python",
   "name": "python3"
  },
  "language_info": {
   "codemirror_mode": {
    "name": "ipython",
    "version": 3
   },
   "file_extension": ".py",
   "mimetype": "text/x-python",
   "name": "python",
   "nbconvert_exporter": "python",
   "pygments_lexer": "ipython3",
   "version": "3.9.13"
  }
 },
 "nbformat": 4,
 "nbformat_minor": 5
}
