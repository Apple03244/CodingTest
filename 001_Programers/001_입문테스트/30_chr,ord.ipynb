{
 "cells": [
  {
   "cell_type": "code",
   "execution_count": 5,
   "id": "6cba0890",
   "metadata": {},
   "outputs": [],
   "source": [
    "def solution(s):\n",
    "    return 1 if sorted(s)[2]<sorted(s)[0]+sorted(s)[1] else 2"
   ]
  },
  {
   "cell_type": "code",
   "execution_count": 55,
   "id": "4f61ade3",
   "metadata": {},
   "outputs": [],
   "source": [
    "def solution(s=list,n=int):\n",
    "    dic=dict(zip(s,list(map(lambda x : abs(x-n),s))))\n",
    "    for x in dic.keys():\n",
    "        if dic[x]==min(dic.values()):\n",
    "            return x"
   ]
  },
  {
   "cell_type": "code",
   "execution_count": 101,
   "id": "479550cc",
   "metadata": {},
   "outputs": [],
   "source": [
    "def solution(s):\n",
    "    return len(list(filter(lambda n: int(n)%3==0 and int(n)!=0 ,list(str(s)))))"
   ]
  },
  {
   "cell_type": "code",
   "execution_count": 116,
   "id": "5a669e01",
   "metadata": {},
   "outputs": [],
   "source": [
    "a=\"안녕 하세요\""
   ]
  },
  {
   "cell_type": "code",
   "execution_count": 117,
   "id": "b78e8395",
   "metadata": {},
   "outputs": [
    {
     "data": {
      "text/plain": [
       "[(0, '안'), (1, '녕'), (2, ' '), (3, '하'), (4, '세'), (5, '요')]"
      ]
     },
     "execution_count": 117,
     "metadata": {},
     "output_type": "execute_result"
    },
    {
     "data": {
      "text/plain": [
       "[(0, '안'), (1, '녕'), (2, ' '), (3, '하'), (4, '세'), (5, '요')]"
      ]
     },
     "execution_count": 117,
     "metadata": {},
     "output_type": "execute_result"
    }
   ],
   "source": [
    "list(enumerate(a))"
   ]
  },
  {
   "cell_type": "code",
   "execution_count": 121,
   "id": "9b66cf1a",
   "metadata": {},
   "outputs": [],
   "source": [
    "def solution(c,n):\n",
    "    return \"\".join([b for a,b in list(enumerate(c)) if (a+1)%n==0])"
   ]
  },
  {
   "cell_type": "code",
   "execution_count": 122,
   "id": "a2bc6e36",
   "metadata": {},
   "outputs": [
    {
     "data": {
      "text/plain": [
       "' 요'"
      ]
     },
     "execution_count": 122,
     "metadata": {},
     "output_type": "execute_result"
    },
    {
     "data": {
      "text/plain": [
       "' 요'"
      ]
     },
     "execution_count": 122,
     "metadata": {},
     "output_type": "execute_result"
    }
   ],
   "source": [
    "solution(a,3)"
   ]
  },
  {
   "cell_type": "code",
   "execution_count": 125,
   "id": "825b1344",
   "metadata": {},
   "outputs": [
    {
     "data": {
      "text/plain": [
       "(97, 122, 65, 90)"
      ]
     },
     "execution_count": 125,
     "metadata": {},
     "output_type": "execute_result"
    },
    {
     "data": {
      "text/plain": [
       "(97, 122, 65, 90)"
      ]
     },
     "execution_count": 125,
     "metadata": {},
     "output_type": "execute_result"
    }
   ],
   "source": [
    "ord(\"a\"),ord(\"z\"),ord(\"A\"),ord(\"Z\")"
   ]
  },
  {
   "cell_type": "code",
   "execution_count": 126,
   "id": "19ac03be",
   "metadata": {},
   "outputs": [],
   "source": [
    "a=\"CCC\""
   ]
  },
  {
   "cell_type": "code",
   "execution_count": 135,
   "id": "565b14a1",
   "metadata": {},
   "outputs": [],
   "source": [
    "def solution(s):\n",
    "    def ex(letter):\n",
    "        return chr(ord(letter)+32) if ord(letter)<=90 else chr(ord(letter)-32)\n",
    "    return \"\".join(list(map(ex,list(s))))"
   ]
  },
  {
   "cell_type": "code",
   "execution_count": 130,
   "id": "cfe6e360",
   "metadata": {},
   "outputs": [],
   "source": [
    " def ex(letter):\n",
    "        return ord(letter)+32 if ord(letter)<=90 else -32"
   ]
  },
  {
   "cell_type": "code",
   "execution_count": 136,
   "id": "e1746bb8",
   "metadata": {},
   "outputs": [
    {
     "data": {
      "text/plain": [
       "'cccCCC'"
      ]
     },
     "execution_count": 136,
     "metadata": {},
     "output_type": "execute_result"
    },
    {
     "data": {
      "text/plain": [
       "'cccCCC'"
      ]
     },
     "execution_count": 136,
     "metadata": {},
     "output_type": "execute_result"
    }
   ],
   "source": [
    "solution(\"CCCccc\")"
   ]
  },
  {
   "cell_type": "code",
   "execution_count": null,
   "id": "3aa0b1f8",
   "metadata": {},
   "outputs": [],
   "source": []
  }
 ],
 "metadata": {
  "kernelspec": {
   "display_name": "Python 3 (ipykernel)",
   "language": "python",
   "name": "python3"
  },
  "language_info": {
   "codemirror_mode": {
    "name": "ipython",
    "version": 3
   },
   "file_extension": ".py",
   "mimetype": "text/x-python",
   "name": "python",
   "nbconvert_exporter": "python",
   "pygments_lexer": "ipython3",
   "version": "3.9.13"
  }
 },
 "nbformat": 4,
 "nbformat_minor": 5
}
