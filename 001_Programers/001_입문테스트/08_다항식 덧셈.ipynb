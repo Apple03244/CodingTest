{
 "cells": [
  {
   "cell_type": "code",
   "execution_count": 84,
   "id": "7cb80e26",
   "metadata": {},
   "outputs": [
    {
     "ename": "SyntaxError",
     "evalue": "invalid syntax (3447407585.py, line 7)",
     "output_type": "error",
     "traceback": [
      "\u001b[1;36m  File \u001b[1;32m\"C:\\Users\\SAMSUNG\\AppData\\Local\\Temp\\ipykernel_23688\\3447407585.py\"\u001b[1;36m, line \u001b[1;32m7\u001b[0m\n\u001b[1;33m    elif p_number==[]:\u001b[0m\n\u001b[1;37m    ^\u001b[0m\n\u001b[1;31mSyntaxError\u001b[0m\u001b[1;31m:\u001b[0m invalid syntax\n"
     ]
    }
   ],
   "source": [
    "def solution(polymonial):\n",
    "    p_x=[x for x in polymonial.split(\" + \") if 'x' in x]\n",
    "    p_x=list(map(lambda l:l.replace(\"x\",\"1\") if l==\"x\" else l.replace(\"x\",\"\"),p_x))\n",
    "    p_number=[x for x in polymonial.split(\" + \") if not 'x' in x]\n",
    "    if p_x==[]:\n",
    "        return str(sum(p_number)\n",
    "    elif p_number==[]:\n",
    "        return str(sum([int(x) for x in p_x]))+\"x\"\n",
    "    else:\n",
    "        p_x=list(map(lambda l:l.replace(\"x\",\"1\") if l==\"x\" else l.replace(\"x\",\"\"),p_x))\n",
    "        return str(sum([int(x) for x in p_x]))+\"x\"+\" + \"+str(sum([int(y) for y in p_number])).replace(\"0\",\"\")"
   ]
  },
  {
   "cell_type": "code",
   "execution_count": 83,
   "id": "c62eafe1",
   "metadata": {},
   "outputs": [],
   "source": [
    "a=\"101x + x + x + 7 + 102\"\t"
   ]
  },
  {
   "cell_type": "code",
   "execution_count": 71,
   "id": "e3cf63b7",
   "metadata": {},
   "outputs": [],
   "source": [
    "a=\"7 + 14\""
   ]
  },
  {
   "cell_type": "code",
   "execution_count": 79,
   "id": "b0247ade",
   "metadata": {},
   "outputs": [
    {
     "data": {
      "text/plain": [
       "'103x + 19'"
      ]
     },
     "execution_count": 79,
     "metadata": {},
     "output_type": "execute_result"
    }
   ],
   "source": [
    "solution(a)"
   ]
  },
  {
   "cell_type": "code",
   "execution_count": 104,
   "id": "66dfcda8",
   "metadata": {},
   "outputs": [],
   "source": [
    "def solution(polymonial):\n",
    "    p_x=list(map(lambda l:l.replace(\"x\",\"1\") if l==\"x\" else l.replace(\"x\",\"\"),\n",
    "                 [x for x in polymonial.split(\" + \") if 'x' in x]))\n",
    "    p_number=[x for x in polymonial.split(\" + \") if not 'x' in x]\n",
    "    idx_x,idx_number=sum(map(int,p_x)),sum(map(int,p_number))\n",
    "    if idx_x==0 and idx_number==0:\n",
    "        return 0\n",
    "    elif idx_x!=0 and idx_number==0:\n",
    "        if idx_x==1:\n",
    "            return \"x\"\n",
    "        else:\n",
    "            return str(idx_x)+\"x\"\n",
    "    elif idx_x==0 and idx_number!=0:\n",
    "        return str(idx_number)\n",
    "    else:\n",
    "        if idx_x==1:\n",
    "            return \"x\"+\" + \"+ str(idx_number)\n",
    "        else: \n",
    "            return str(idx_x)+\"x\"+\" + \"+ str(idx_number)"
   ]
  },
  {
   "cell_type": "code",
   "execution_count": 105,
   "id": "32317db7",
   "metadata": {},
   "outputs": [
    {
     "data": {
      "text/plain": [
       "'x + 108'"
      ]
     },
     "execution_count": 105,
     "metadata": {},
     "output_type": "execute_result"
    }
   ],
   "source": [
    "solution(\"7 + x + 101\")"
   ]
  },
  {
   "cell_type": "code",
   "execution_count": null,
   "id": "dac7a0ae",
   "metadata": {},
   "outputs": [],
   "source": []
  }
 ],
 "metadata": {
  "kernelspec": {
   "display_name": "Python 3 (ipykernel)",
   "language": "python",
   "name": "python3"
  },
  "language_info": {
   "codemirror_mode": {
    "name": "ipython",
    "version": 3
   },
   "file_extension": ".py",
   "mimetype": "text/x-python",
   "name": "python",
   "nbconvert_exporter": "python",
   "pygments_lexer": "ipython3",
   "version": "3.9.13"
  }
 },
 "nbformat": 4,
 "nbformat_minor": 5
}
