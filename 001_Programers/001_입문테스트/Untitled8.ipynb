{
 "cells": [
  {
   "cell_type": "code",
   "execution_count": null,
   "id": "288de9b4",
   "metadata": {},
   "outputs": [],
   "source": [
    "n=int(input())\n",
    "print(*)"
   ]
  },
  {
   "cell_type": "code",
   "execution_count": null,
   "id": "4d07287f",
   "metadata": {},
   "outputs": [],
   "source": [
    "a=\"*\""
   ]
  },
  {
   "cell_type": "code",
   "execution_count": null,
   "id": "317084d2",
   "metadata": {},
   "outputs": [],
   "source": [
    "1+2"
   ]
  },
  {
   "cell_type": "code",
   "execution_count": null,
   "id": "824dd69f",
   "metadata": {},
   "outputs": [],
   "source": []
  }
 ],
 "metadata": {
  "kernelspec": {
   "display_name": "Python 3 (ipykernel)",
   "language": "python",
   "name": "python3"
  },
  "language_info": {
   "codemirror_mode": {
    "name": "ipython",
    "version": 3
   },
   "file_extension": ".py",
   "mimetype": "text/x-python",
   "name": "python",
   "nbconvert_exporter": "python",
   "pygments_lexer": "ipython3",
   "version": "3.9.13"
  }
 },
 "nbformat": 4,
 "nbformat_minor": 5
}
