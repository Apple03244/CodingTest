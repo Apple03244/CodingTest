{
 "cells": [
  {
   "cell_type": "code",
   "execution_count": 22,
   "id": "d1b1972f",
   "metadata": {},
   "outputs": [],
   "source": [
    "def solution(numbers):\n",
    "    x=sorted(numbers)\n",
    "    return max(x[0]*x[1],x[-1]*x[-2])"
   ]
  },
  {
   "cell_type": "code",
   "execution_count": 23,
   "id": "6bf35c23",
   "metadata": {},
   "outputs": [
    {
     "data": {
      "text/plain": [
       "240"
      ]
     },
     "execution_count": 23,
     "metadata": {},
     "output_type": "execute_result"
    }
   ],
   "source": [
    "solution([0, -31, 24, 10, 1, 9])"
   ]
  },
  {
   "cell_type": "code",
   "execution_count": null,
   "id": "9fa29f2a",
   "metadata": {},
   "outputs": [],
   "source": [
    "def solution()"
   ]
  }
 ],
 "metadata": {
  "kernelspec": {
   "display_name": "Python 3 (ipykernel)",
   "language": "python",
   "name": "python3"
  },
  "language_info": {
   "codemirror_mode": {
    "name": "ipython",
    "version": 3
   },
   "file_extension": ".py",
   "mimetype": "text/x-python",
   "name": "python",
   "nbconvert_exporter": "python",
   "pygments_lexer": "ipython3",
   "version": "3.9.13"
  }
 },
 "nbformat": 4,
 "nbformat_minor": 5
}
