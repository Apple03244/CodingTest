{
 "cells": [
  {
   "cell_type": "code",
   "execution_count": 36,
   "id": "5ce42270",
   "metadata": {},
   "outputs": [],
   "source": [
    "a=[1,6,3]"
   ]
  },
  {
   "cell_type": "code",
   "execution_count": 37,
   "id": "b84f8272",
   "metadata": {},
   "outputs": [],
   "source": [
    "b=a.copy()"
   ]
  },
  {
   "cell_type": "code",
   "execution_count": 38,
   "id": "bf3a55b6",
   "metadata": {},
   "outputs": [
    {
     "data": {
      "text/plain": [
       "[3, 6, 1]"
      ]
     },
     "execution_count": 38,
     "metadata": {},
     "output_type": "execute_result"
    }
   ],
   "source": [
    "b[::-1]"
   ]
  },
  {
   "cell_type": "code",
   "execution_count": 11,
   "id": "256224a9",
   "metadata": {},
   "outputs": [],
   "source": [
    "# 기준은 a"
   ]
  },
  {
   "cell_type": "code",
   "execution_count": 13,
   "id": "46aa83b4",
   "metadata": {},
   "outputs": [
    {
     "data": {
      "text/plain": [
       "[1, 3, 2]"
      ]
     },
     "execution_count": 13,
     "metadata": {},
     "output_type": "execute_result"
    }
   ],
   "source": [
    "[b.index(i)+1 for i in a]"
   ]
  },
  {
   "cell_type": "code",
   "execution_count": 40,
   "id": "cc363cc7",
   "metadata": {},
   "outputs": [],
   "source": [
    "def solution(emergancy):\n",
    "    num=emergancy.copy()\n",
    "    num.sort()\n",
    "    return [num[::-1].index(i)+1 for i in emergancy]"
   ]
  },
  {
   "cell_type": "code",
   "execution_count": 41,
   "id": "8f660a1d",
   "metadata": {},
   "outputs": [
    {
     "data": {
      "text/plain": [
       "[3, 1, 2]"
      ]
     },
     "execution_count": 41,
     "metadata": {},
     "output_type": "execute_result"
    }
   ],
   "source": [
    "solution([3, 76, 24])"
   ]
  },
  {
   "cell_type": "code",
   "execution_count": null,
   "id": "f5061750",
   "metadata": {},
   "outputs": [],
   "source": []
  },
  {
   "cell_type": "code",
   "execution_count": null,
   "id": "98e5fd5f",
   "metadata": {},
   "outputs": [],
   "source": []
  }
 ],
 "metadata": {
  "kernelspec": {
   "display_name": "Python 3 (ipykernel)",
   "language": "python",
   "name": "python3"
  },
  "language_info": {
   "codemirror_mode": {
    "name": "ipython",
    "version": 3
   },
   "file_extension": ".py",
   "mimetype": "text/x-python",
   "name": "python",
   "nbconvert_exporter": "python",
   "pygments_lexer": "ipython3",
   "version": "3.9.13"
  }
 },
 "nbformat": 4,
 "nbformat_minor": 5
}
