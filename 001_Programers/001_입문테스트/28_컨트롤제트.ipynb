{
 "cells": [
  {
   "cell_type": "code",
   "execution_count": 45,
   "id": "099d3589",
   "metadata": {},
   "outputs": [],
   "source": [
    "def solution(s):\n",
    "    s=s.split(\" \")\n",
    "    for i in range(1,len(s)):\n",
    "        s[i]=str(-int(s[i-1])) if s[i]=='Z' else s[i]\n",
    "    return sum([int(x) for x in s])"
   ]
  },
  {
   "cell_type": "code",
   "execution_count": 41,
   "id": "4e0f70c4",
   "metadata": {},
   "outputs": [],
   "source": [
    "a='1 2 Z 4'"
   ]
  },
  {
   "cell_type": "code",
   "execution_count": 32,
   "id": "f4002362",
   "metadata": {},
   "outputs": [],
   "source": [
    "b=a.split(' ')"
   ]
  },
  {
   "cell_type": "code",
   "execution_count": 36,
   "id": "0279e2bc",
   "metadata": {},
   "outputs": [],
   "source": [
    "for i in range(1,len(b)):\n",
    "    b[i]=str(-int(b[i-1])) if b[i]==\"Z\" else b[i]"
   ]
  },
  {
   "cell_type": "code",
   "execution_count": 38,
   "id": "03ffa5c1",
   "metadata": {},
   "outputs": [
    {
     "data": {
      "text/plain": [
       "['1', '2', '-2', '4']"
      ]
     },
     "execution_count": 38,
     "metadata": {},
     "output_type": "execute_result"
    }
   ],
   "source": [
    "b"
   ]
  },
  {
   "cell_type": "code",
   "execution_count": 46,
   "id": "04ab6777",
   "metadata": {},
   "outputs": [
    {
     "data": {
      "text/plain": [
       "5"
      ]
     },
     "execution_count": 46,
     "metadata": {},
     "output_type": "execute_result"
    }
   ],
   "source": [
    "solution(a)"
   ]
  },
  {
   "cell_type": "code",
   "execution_count": 8,
   "id": "2a4eda87",
   "metadata": {},
   "outputs": [
    {
     "data": {
      "text/plain": [
       "['1', '2', 'Z', '4']"
      ]
     },
     "execution_count": 8,
     "metadata": {},
     "output_type": "execute_result"
    }
   ],
   "source": [
    "a.split(' ')"
   ]
  }
 ],
 "metadata": {
  "kernelspec": {
   "display_name": "Python 3 (ipykernel)",
   "language": "python",
   "name": "python3"
  },
  "language_info": {
   "codemirror_mode": {
    "name": "ipython",
    "version": 3
   },
   "file_extension": ".py",
   "mimetype": "text/x-python",
   "name": "python",
   "nbconvert_exporter": "python",
   "pygments_lexer": "ipython3",
   "version": "3.9.13"
  }
 },
 "nbformat": 4,
 "nbformat_minor": 5
}
