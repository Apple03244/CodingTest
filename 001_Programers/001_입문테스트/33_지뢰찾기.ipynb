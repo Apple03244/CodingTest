{
 "cells": [
  {
   "cell_type": "code",
   "execution_count": 144,
   "id": "7cf989e9",
   "metadata": {},
   "outputs": [],
   "source": [
    "import numpy as np\n",
    "\n",
    "def solution(a): \n",
    "    size=len(a)\n",
    "    a=np.array(a)\n",
    "    b=np.zeros([size,size])\n",
    "    def plus(A,i,j):\n",
    "        if i==0:\n",
    "            for x in range(i,i+2):\n",
    "                if j==0:\n",
    "                    for y in range(j,j+2):\n",
    "                        A[x,y]+=1\n",
    "                elif j==size:\n",
    "                    for y in range(j-1,j+1):\n",
    "                        A[x,y]+=1\n",
    "                else:\n",
    "                    for y in range(j-1,j+2):\n",
    "                        A[x,y]+=1\n",
    "        elif i==size:\n",
    "            for x in range(i-1,i+1):\n",
    "                if j==0:\n",
    "                    for y in range(j,j+2):\n",
    "                        A[x,y]+=1\n",
    "                elif j==size:\n",
    "                    for y in range(j-1,j+1):\n",
    "                        A[x,y]+=1\n",
    "                else:\n",
    "                    for y in range(j-1,j+2):\n",
    "                        A[x,y]+=1\n",
    "        else:\n",
    "            for x in range(i-1,i+2):\n",
    "                if j==0:\n",
    "                    for y in range(j,j+2):\n",
    "                        A[x,y]+=1\n",
    "                elif j==size:\n",
    "                    for y in range(j-1,j+1):\n",
    "                        A[x,y]+=1\n",
    "                else:\n",
    "                    for y in range(j-1,j+2):\n",
    "                        A[x,y]+=1\n",
    "    for i in range(size-1):\n",
    "        for j in range(size-1):\n",
    "            if a[i,j]!=0:\n",
    "                plus(b,i,j)\n",
    "    return a, b, sum(([list(list(b)[i]).count(0) for i in range(size)]))"
   ]
  },
  {
   "cell_type": "code",
   "execution_count": 5,
   "id": "9e47799d",
   "metadata": {},
   "outputs": [],
   "source": [
    "import numpy as np"
   ]
  },
  {
   "cell_type": "code",
   "execution_count": 146,
   "id": "cfaf67fe",
   "metadata": {},
   "outputs": [],
   "source": [
    "a=[[0, 0, 0, 0, 0], [0, 0, 0, 0, 0], [0, 0, 0, 0, 0], [0, 0, 1, 1, 0], [0, 0, 0, 0, 0]]"
   ]
  },
  {
   "cell_type": "code",
   "execution_count": 147,
   "id": "d8573acf",
   "metadata": {},
   "outputs": [
    {
     "data": {
      "text/plain": [
       "(array([[0, 0, 0, 0, 0],\n",
       "        [0, 0, 0, 0, 0],\n",
       "        [0, 0, 0, 0, 0],\n",
       "        [0, 0, 1, 1, 0],\n",
       "        [0, 0, 0, 0, 0]]),\n",
       " array([[0., 0., 0., 0., 0.],\n",
       "        [0., 0., 0., 0., 0.],\n",
       "        [0., 1., 2., 2., 1.],\n",
       "        [0., 1., 2., 2., 1.],\n",
       "        [0., 1., 2., 2., 1.]]),\n",
       " 13)"
      ]
     },
     "execution_count": 147,
     "metadata": {},
     "output_type": "execute_result"
    }
   ],
   "source": [
    "solution(a)"
   ]
  },
  {
   "cell_type": "code",
   "execution_count": 50,
   "id": "eb36125e",
   "metadata": {},
   "outputs": [
    {
     "data": {
      "text/plain": [
       "array([[0., 0., 0.],\n",
       "       [0., 0., 0.],\n",
       "       [0., 0., 0.]])"
      ]
     },
     "execution_count": 50,
     "metadata": {},
     "output_type": "execute_result"
    }
   ],
   "source": [
    "b=np.zeros([3,3])\n",
    "b"
   ]
  },
  {
   "cell_type": "code",
   "execution_count": 105,
   "id": "64ae0686",
   "metadata": {},
   "outputs": [
    {
     "data": {
      "text/plain": [
       "[0]"
      ]
     },
     "execution_count": 105,
     "metadata": {},
     "output_type": "execute_result"
    }
   ],
   "source": [
    "[i for i in range(1)]"
   ]
  },
  {
   "cell_type": "code",
   "execution_count": null,
   "id": "664c9ffc",
   "metadata": {},
   "outputs": [],
   "source": []
  }
 ],
 "metadata": {
  "kernelspec": {
   "display_name": "Python 3 (ipykernel)",
   "language": "python",
   "name": "python3"
  },
  "language_info": {
   "codemirror_mode": {
    "name": "ipython",
    "version": 3
   },
   "file_extension": ".py",
   "mimetype": "text/x-python",
   "name": "python",
   "nbconvert_exporter": "python",
   "pygments_lexer": "ipython3",
   "version": "3.9.13"
  }
 },
 "nbformat": 4,
 "nbformat_minor": 5
}
