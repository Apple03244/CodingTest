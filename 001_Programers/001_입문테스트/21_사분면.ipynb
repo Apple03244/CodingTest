{
 "cells": [
  {
   "cell_type": "code",
   "execution_count": 18,
   "id": "e2eaaf17",
   "metadata": {},
   "outputs": [],
   "source": [
    "def solution(dot=list):\n",
    "    def f(a):\n",
    "        return True if a>0 else False\n",
    "    division={(True,True):1,(False,True):2,\n",
    "              (False,False):3,(True,False):4}\n",
    "    return division[tuple(map(f,dot))]"
   ]
  },
  {
   "cell_type": "code",
   "execution_count": 19,
   "id": "527b4945",
   "metadata": {},
   "outputs": [
    {
     "data": {
      "text/plain": [
       "1"
      ]
     },
     "execution_count": 19,
     "metadata": {},
     "output_type": "execute_result"
    }
   ],
   "source": [
    "solution([2,4])"
   ]
  },
  {
   "cell_type": "code",
   "execution_count": null,
   "id": "479a5731",
   "metadata": {},
   "outputs": [],
   "source": []
  }
 ],
 "metadata": {
  "kernelspec": {
   "display_name": "Python 3 (ipykernel)",
   "language": "python",
   "name": "python3"
  },
  "language_info": {
   "codemirror_mode": {
    "name": "ipython",
    "version": 3
   },
   "file_extension": ".py",
   "mimetype": "text/x-python",
   "name": "python",
   "nbconvert_exporter": "python",
   "pygments_lexer": "ipython3",
   "version": "3.9.13"
  }
 },
 "nbformat": 4,
 "nbformat_minor": 5
}
