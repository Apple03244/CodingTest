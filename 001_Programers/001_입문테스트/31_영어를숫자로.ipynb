{
 "cells": [
  {
   "cell_type": "code",
   "execution_count": 89,
   "id": "13c1134a",
   "metadata": {},
   "outputs": [],
   "source": [
    "def solution(s):\n",
    "    dic=dic=dict(zip([\"zero\", \"one\", \"two\", \"three\", \"four\", \"five\", \"six\", \"seven\", \"eight\", \"nine\"]\n",
    "                     ,[str(num) for num in range(10)]))\n",
    "    for x in dic.keys():\n",
    "        s=s.replace(x,dic[x])\n",
    "    return s"
   ]
  },
  {
   "cell_type": "code",
   "execution_count": 91,
   "id": "d51c3d7a",
   "metadata": {},
   "outputs": [
    {
     "data": {
      "text/plain": [
       "'120'"
      ]
     },
     "execution_count": 91,
     "metadata": {},
     "output_type": "execute_result"
    }
   ],
   "source": [
    "solution(\"onetwozero\")"
   ]
  },
  {
   "cell_type": "code",
   "execution_count": 61,
   "id": "9afcb283",
   "metadata": {},
   "outputs": [],
   "source": [
    "a='onetwothreezeroone'"
   ]
  },
  {
   "cell_type": "code",
   "execution_count": 79,
   "id": "21e00ae6",
   "metadata": {},
   "outputs": [
    {
     "data": {
      "text/plain": [
       "'1twothreezero1'"
      ]
     },
     "execution_count": 79,
     "metadata": {},
     "output_type": "execute_result"
    }
   ],
   "source": [
    "a.replace('one',\"1\")"
   ]
  },
  {
   "cell_type": "code",
   "execution_count": null,
   "id": "ee36cf58",
   "metadata": {},
   "outputs": [],
   "source": []
  }
 ],
 "metadata": {
  "kernelspec": {
   "display_name": "Python 3 (ipykernel)",
   "language": "python",
   "name": "python3"
  },
  "language_info": {
   "codemirror_mode": {
    "name": "ipython",
    "version": 3
   },
   "file_extension": ".py",
   "mimetype": "text/x-python",
   "name": "python",
   "nbconvert_exporter": "python",
   "pygments_lexer": "ipython3",
   "version": "3.9.13"
  }
 },
 "nbformat": 4,
 "nbformat_minor": 5
}
