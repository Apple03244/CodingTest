{
 "cells": [
  {
   "cell_type": "code",
   "execution_count": 1,
   "id": "692e6263",
   "metadata": {},
   "outputs": [],
   "source": [
    "a=[1,2,3,4]"
   ]
  },
  {
   "cell_type": "code",
   "execution_count": 27,
   "id": "684ccbf3",
   "metadata": {},
   "outputs": [],
   "source": [
    "def solution(numbers,direction):\n",
    "    if direction=='left':\n",
    "        return a[1:]+[a[0]]\n",
    "    else:\n",
    "        return [a[-1]]+a[:-1]"
   ]
  },
  {
   "cell_type": "code",
   "execution_count": 28,
   "id": "1dfe573b",
   "metadata": {},
   "outputs": [
    {
     "data": {
      "text/plain": [
       "[2, 3, 4, 1]"
      ]
     },
     "execution_count": 28,
     "metadata": {},
     "output_type": "execute_result"
    }
   ],
   "source": [
    "solution([1,2,3],'left')"
   ]
  },
  {
   "cell_type": "code",
   "execution_count": 38,
   "id": "7fdd59de",
   "metadata": {},
   "outputs": [],
   "source": [
    "def solution(box,n):\n",
    "    num=list(map(lambda a:a//n,box))\n",
    "    return num[0]*num[1]*num[2]\n",
    "    "
   ]
  },
  {
   "cell_type": "code",
   "execution_count": 39,
   "id": "751f8c9d",
   "metadata": {},
   "outputs": [],
   "source": [
    "def solution(n):\n",
    "    for i in range(n+1):\n",
    "        if i==1:\n",
    "            pass\n",
    "        else:\n",
    "            divmod\n",
    "    return set()"
   ]
  },
  {
   "cell_type": "code",
   "execution_count": 40,
   "id": "81325163",
   "metadata": {},
   "outputs": [
    {
     "data": {
      "text/plain": [
       "(3, 1)"
      ]
     },
     "execution_count": 40,
     "metadata": {},
     "output_type": "execute_result"
    }
   ],
   "source": [
    "divmod(10,3)"
   ]
  },
  {
   "cell_type": "code",
   "execution_count": null,
   "id": "e971a142",
   "metadata": {},
   "outputs": [],
   "source": []
  }
 ],
 "metadata": {
  "kernelspec": {
   "display_name": "Python 3 (ipykernel)",
   "language": "python",
   "name": "python3"
  },
  "language_info": {
   "codemirror_mode": {
    "name": "ipython",
    "version": 3
   },
   "file_extension": ".py",
   "mimetype": "text/x-python",
   "name": "python",
   "nbconvert_exporter": "python",
   "pygments_lexer": "ipython3",
   "version": "3.9.13"
  }
 },
 "nbformat": 4,
 "nbformat_minor": 5
}
