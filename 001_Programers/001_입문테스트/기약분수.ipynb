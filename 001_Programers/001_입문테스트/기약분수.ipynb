{
 "cells": [
  {
   "cell_type": "code",
   "execution_count": 1,
   "id": "50694a59",
   "metadata": {},
   "outputs": [],
   "source": [
    "# 유한 소수 판별 : a/b"
   ]
  },
  {
   "cell_type": "code",
   "execution_count": 6,
   "id": "7beaa18f",
   "metadata": {},
   "outputs": [],
   "source": [
    "# 조건을 생각해보자.\n",
    "# 1. b=2^a * 5^b 이 꼴이여야함.\n",
    "# 기약분수로 나타내야함.\n",
    "# fraction 사용 ㄱ"
   ]
  },
  {
   "cell_type": "code",
   "execution_count": 43,
   "id": "d837885b",
   "metadata": {},
   "outputs": [],
   "source": [
    "from fractions import Fraction\n",
    "def solution(a,b):\n",
    "    f_b=Fraction(a,b).denominator\n",
    "    def factorization(n):\n",
    "        d=2\n",
    "        result=[]\n",
    "        while d<=n:\n",
    "            if n%d==0:\n",
    "                result.append(d)\n",
    "                n=int(n/d)\n",
    "            else:\n",
    "                d+=1\n",
    "        return set(result)\n",
    "    answer=[x for x in factorization(f_b)]\n",
    "    if 2 in answer:\n",
    "        answer.remove(2)\n",
    "    if 5 in answer:\n",
    "        answer.remove(5)\n",
    "    return 2 if len(answer)!=0 else 1"
   ]
  },
  {
   "cell_type": "code",
   "execution_count": 44,
   "id": "f89daf1a",
   "metadata": {},
   "outputs": [
    {
     "data": {
      "text/plain": [
       "1"
      ]
     },
     "execution_count": 44,
     "metadata": {},
     "output_type": "execute_result"
    }
   ],
   "source": [
    "solution(7,20)"
   ]
  },
  {
   "cell_type": "code",
   "execution_count": 41,
   "id": "15dd362c",
   "metadata": {},
   "outputs": [],
   "source": [
    "def factorization(n):\n",
    "        d=2\n",
    "        result=[]\n",
    "        while d<=n:\n",
    "            if n%d==0:\n",
    "                result.append(d)\n",
    "                n=int(n/d)\n",
    "            else:\n",
    "                d+=1\n",
    "        return set(result)"
   ]
  },
  {
   "cell_type": "code",
   "execution_count": 42,
   "id": "b8a82ee3",
   "metadata": {},
   "outputs": [
    {
     "data": {
      "text/plain": [
       "{2, 5}"
      ]
     },
     "execution_count": 42,
     "metadata": {},
     "output_type": "execute_result"
    }
   ],
   "source": [
    "factorization(20)"
   ]
  },
  {
   "cell_type": "code",
   "execution_count": null,
   "id": "5be74627",
   "metadata": {},
   "outputs": [],
   "source": []
  }
 ],
 "metadata": {
  "kernelspec": {
   "display_name": "Python 3 (ipykernel)",
   "language": "python",
   "name": "python3"
  },
  "language_info": {
   "codemirror_mode": {
    "name": "ipython",
    "version": 3
   },
   "file_extension": ".py",
   "mimetype": "text/x-python",
   "name": "python",
   "nbconvert_exporter": "python",
   "pygments_lexer": "ipython3",
   "version": "3.9.13"
  }
 },
 "nbformat": 4,
 "nbformat_minor": 5
}
