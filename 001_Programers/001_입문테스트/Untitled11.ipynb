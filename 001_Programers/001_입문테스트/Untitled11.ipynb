{
 "cells": [
  {
   "cell_type": "code",
   "execution_count": 1,
   "id": "7a4c53ad",
   "metadata": {},
   "outputs": [],
   "source": [
    "#list"
   ]
  },
  {
   "cell_type": "code",
   "execution_count": 4,
   "id": "76bc784c",
   "metadata": {},
   "outputs": [],
   "source": [
    "A=[1,2,\"안녕\",1,1,1,1,2]"
   ]
  },
  {
   "cell_type": "code",
   "execution_count": 3,
   "id": "dfd47f3c",
   "metadata": {},
   "outputs": [],
   "source": [
    "import collections as col"
   ]
  },
  {
   "cell_type": "code",
   "execution_count": 6,
   "id": "7449ff18",
   "metadata": {},
   "outputs": [],
   "source": [
    "B=col.Counter(A)"
   ]
  },
  {
   "cell_type": "code",
   "execution_count": 7,
   "id": "99fca87a",
   "metadata": {},
   "outputs": [
    {
     "data": {
      "text/plain": [
       "Counter({1: 5, 2: 2, '안녕': 1})"
      ]
     },
     "execution_count": 7,
     "metadata": {},
     "output_type": "execute_result"
    }
   ],
   "source": [
    "B"
   ]
  },
  {
   "cell_type": "code",
   "execution_count": 8,
   "id": "99a74113",
   "metadata": {},
   "outputs": [],
   "source": [
    "C=dict.fromkeys(A)"
   ]
  },
  {
   "cell_type": "code",
   "execution_count": 10,
   "id": "b3ffc402",
   "metadata": {},
   "outputs": [],
   "source": [
    "a=[1,2,3]\n",
    "b=[\"a\",\"b\",\"c\"]"
   ]
  },
  {
   "cell_type": "code",
   "execution_count": 11,
   "id": "b851bdd6",
   "metadata": {},
   "outputs": [],
   "source": [
    "dc=dict(zip(a,b))"
   ]
  }
 ],
 "metadata": {
  "kernelspec": {
   "display_name": "Python 3 (ipykernel)",
   "language": "python",
   "name": "python3"
  },
  "language_info": {
   "codemirror_mode": {
    "name": "ipython",
    "version": 3
   },
   "file_extension": ".py",
   "mimetype": "text/x-python",
   "name": "python",
   "nbconvert_exporter": "python",
   "pygments_lexer": "ipython3",
   "version": "3.9.13"
  }
 },
 "nbformat": 4,
 "nbformat_minor": 5
}
