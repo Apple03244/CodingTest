{
 "cells": [
  {
   "cell_type": "code",
   "execution_count": 1,
   "id": "8cea1c13",
   "metadata": {},
   "outputs": [],
   "source": [
    "# 2023년 카카오 블라인드"
   ]
  },
  {
   "cell_type": "code",
   "execution_count": 2,
   "id": "76061d44",
   "metadata": {},
   "outputs": [],
   "source": [
    "# 문제 파악\n",
    "def solution(today,terms,privacies):\n",
    "    #전처리\n",
    "    today=today.split(\".\")\n",
    "    terms=[t.split() for t in terms]\n",
    "    privacies=[]\n",
    "    for a in terms:\n",
    "        a.split()"
   ]
  },
  {
   "cell_type": "code",
   "execution_count": 4,
   "id": "ba2e78df",
   "metadata": {},
   "outputs": [
    {
     "data": {
      "text/plain": [
       "['2022', '12', '13']"
      ]
     },
     "execution_count": 4,
     "metadata": {},
     "output_type": "execute_result"
    }
   ],
   "source": [
    "a=\"2022.12.13\"\n",
    "a.split(\".\")"
   ]
  },
  {
   "cell_type": "code",
   "execution_count": null,
   "id": "6d3ad34b",
   "metadata": {},
   "outputs": [],
   "source": []
  }
 ],
 "metadata": {
  "kernelspec": {
   "display_name": "Python 3 (ipykernel)",
   "language": "python",
   "name": "python3"
  },
  "language_info": {
   "codemirror_mode": {
    "name": "ipython",
    "version": 3
   },
   "file_extension": ".py",
   "mimetype": "text/x-python",
   "name": "python",
   "nbconvert_exporter": "python",
   "pygments_lexer": "ipython3",
   "version": "3.9.13"
  }
 },
 "nbformat": 4,
 "nbformat_minor": 5
}
