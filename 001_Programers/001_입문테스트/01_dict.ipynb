{
 "cells": [
  {
   "cell_type": "code",
   "execution_count": 5,
   "id": "11620eae",
   "metadata": {},
   "outputs": [],
   "source": [
    "def solution(s):\n",
    "    result=[]\n",
    "    dic=dict.fromkeys(list(s))\n",
    "    #계산\n",
    "    for i in range(len(s)):\n",
    "        if dic[s[i]]==None:\n",
    "            result.append(-1)\n",
    "            dic[s[i]]=i\n",
    "        else:\n",
    "            result.append(i-dic[s[i]])\n",
    "            dic[s[i]]=i\n",
    "    return result"
   ]
  },
  {
   "cell_type": "code",
   "execution_count": 6,
   "id": "b875de37",
   "metadata": {},
   "outputs": [
    {
     "data": {
      "text/plain": [
       "[-1, -1, -1, 2, 2, 2]"
      ]
     },
     "execution_count": 6,
     "metadata": {},
     "output_type": "execute_result"
    }
   ],
   "source": [
    "solution('banana')"
   ]
  },
  {
   "cell_type": "code",
   "execution_count": null,
   "id": "031b22f8",
   "metadata": {},
   "outputs": [],
   "source": []
  }
 ],
 "metadata": {
  "kernelspec": {
   "display_name": "Python 3 (ipykernel)",
   "language": "python",
   "name": "python3"
  },
  "language_info": {
   "codemirror_mode": {
    "name": "ipython",
    "version": 3
   },
   "file_extension": ".py",
   "mimetype": "text/x-python",
   "name": "python",
   "nbconvert_exporter": "python",
   "pygments_lexer": "ipython3",
   "version": "3.9.13"
  }
 },
 "nbformat": 4,
 "nbformat_minor": 5
}
