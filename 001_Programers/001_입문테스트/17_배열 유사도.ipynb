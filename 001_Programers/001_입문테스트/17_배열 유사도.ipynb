{
 "cells": [
  {
   "cell_type": "code",
   "execution_count": 1,
   "id": "bfc744ce",
   "metadata": {},
   "outputs": [],
   "source": [
    "# 배열의 유사도"
   ]
  },
  {
   "cell_type": "code",
   "execution_count": 4,
   "id": "d1c22dd7",
   "metadata": {},
   "outputs": [],
   "source": [
    "def solution(array1,array2):\n",
    "    result=[a for a in array1 if a in array2]\n",
    "    return len(result)"
   ]
  },
  {
   "cell_type": "code",
   "execution_count": 5,
   "id": "5376c0a0",
   "metadata": {},
   "outputs": [
    {
     "data": {
      "text/plain": [
       "2"
      ]
     },
     "execution_count": 5,
     "metadata": {},
     "output_type": "execute_result"
    }
   ],
   "source": [
    "solution(['a','b','c'], [\"com\", \"b\", \"d\", \"p\", \"c\"]\t)"
   ]
  },
  {
   "cell_type": "code",
   "execution_count": 6,
   "id": "20dd67ba",
   "metadata": {},
   "outputs": [],
   "source": [
    "# best solution"
   ]
  },
  {
   "cell_type": "code",
   "execution_count": 7,
   "id": "8d17caee",
   "metadata": {},
   "outputs": [],
   "source": [
    "def best_solution(array1,array2):\n",
    "    return len(set(array1)&set(array2))"
   ]
  },
  {
   "cell_type": "code",
   "execution_count": 8,
   "id": "3a8f45ca",
   "metadata": {},
   "outputs": [
    {
     "data": {
      "text/plain": [
       "2"
      ]
     },
     "execution_count": 8,
     "metadata": {},
     "output_type": "execute_result"
    }
   ],
   "source": [
    "best_solution(['a','b','c'], [\"com\", \"b\", \"d\", \"p\", \"c\"])"
   ]
  },
  {
   "cell_type": "code",
   "execution_count": null,
   "id": "1b310505",
   "metadata": {},
   "outputs": [],
   "source": []
  }
 ],
 "metadata": {
  "kernelspec": {
   "display_name": "Python 3 (ipykernel)",
   "language": "python",
   "name": "python3"
  },
  "language_info": {
   "codemirror_mode": {
    "name": "ipython",
    "version": 3
   },
   "file_extension": ".py",
   "mimetype": "text/x-python",
   "name": "python",
   "nbconvert_exporter": "python",
   "pygments_lexer": "ipython3",
   "version": "3.9.13"
  }
 },
 "nbformat": 4,
 "nbformat_minor": 5
}
