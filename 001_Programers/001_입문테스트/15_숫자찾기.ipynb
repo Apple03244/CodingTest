{
 "cells": [
  {
   "cell_type": "code",
   "execution_count": 1,
   "id": "e1fd2b02",
   "metadata": {},
   "outputs": [],
   "source": [
    "# 숫자찾기"
   ]
  },
  {
   "cell_type": "code",
   "execution_count": 43,
   "id": "63fc46a2",
   "metadata": {},
   "outputs": [],
   "source": [
    "def solution(num=int,k=int):\n",
    "    num_set=[int(i) for i in str(num)]\n",
    "    return num_set.index(k)+1 if k in num_set else -1"
   ]
  },
  {
   "cell_type": "code",
   "execution_count": 40,
   "id": "1dedd116",
   "metadata": {},
   "outputs": [],
   "source": [
    "# def solution(num=int,k=int):\n",
    "#     num_set=[i for i in str(num)]\n",
    "#     return num_set"
   ]
  },
  {
   "cell_type": "code",
   "execution_count": 10,
   "id": "9df12afe",
   "metadata": {},
   "outputs": [],
   "source": [
    "a=[1,2,3,4]"
   ]
  },
  {
   "cell_type": "code",
   "execution_count": 8,
   "id": "700a1d08",
   "metadata": {},
   "outputs": [
    {
     "data": {
      "text/plain": [
       "0"
      ]
     },
     "execution_count": 8,
     "metadata": {},
     "output_type": "execute_result"
    }
   ],
   "source": [
    "a.index(1)"
   ]
  },
  {
   "cell_type": "code",
   "execution_count": 44,
   "id": "04062070",
   "metadata": {},
   "outputs": [
    {
     "data": {
      "text/plain": [
       "4"
      ]
     },
     "execution_count": 44,
     "metadata": {},
     "output_type": "execute_result"
    }
   ],
   "source": [
    "solution(232443,4)"
   ]
  },
  {
   "cell_type": "code",
   "execution_count": 45,
   "id": "49c29e2c",
   "metadata": {},
   "outputs": [
    {
     "data": {
      "text/plain": [
       "3"
      ]
     },
     "execution_count": 45,
     "metadata": {},
     "output_type": "execute_result"
    }
   ],
   "source": [
    "solution(29183,1)"
   ]
  },
  {
   "cell_type": "code",
   "execution_count": null,
   "id": "7a6d7e79",
   "metadata": {},
   "outputs": [],
   "source": []
  }
 ],
 "metadata": {
  "kernelspec": {
   "display_name": "Python 3 (ipykernel)",
   "language": "python",
   "name": "python3"
  },
  "language_info": {
   "codemirror_mode": {
    "name": "ipython",
    "version": 3
   },
   "file_extension": ".py",
   "mimetype": "text/x-python",
   "name": "python",
   "nbconvert_exporter": "python",
   "pygments_lexer": "ipython3",
   "version": "3.9.13"
  }
 },
 "nbformat": 4,
 "nbformat_minor": 5
}
