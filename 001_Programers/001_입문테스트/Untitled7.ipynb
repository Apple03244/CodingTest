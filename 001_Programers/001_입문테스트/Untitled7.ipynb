{
 "cells": [
  {
   "cell_type": "code",
   "execution_count": 56,
   "id": "50516d37",
   "metadata": {},
   "outputs": [],
   "source": [
    "def solution(numlist,n):\n",
    "    distance=list(map(lambda x:abs(x-n),numlist))\n",
    "    idx=[]\n",
    "    i=0\n",
    "    while i<len(numlist)-1:\n",
    "        if distance.coint(min(distance))>1:\n",
    "            "
   ]
  },
  {
   "cell_type": "code",
   "execution_count": 58,
   "id": "236ae77b",
   "metadata": {},
   "outputs": [
    {
     "data": {
      "text/plain": [
       "[36, 40, 20, 47, 50, 54, 7000, 10000]"
      ]
     },
     "execution_count": 58,
     "metadata": {},
     "output_type": "execute_result"
    }
   ],
   "source": [
    "solution([10000,20,36,47,40,6,10,7000],30)"
   ]
  },
  {
   "cell_type": "code",
   "execution_count": 5,
   "id": "4c38a861",
   "metadata": {},
   "outputs": [
    {
     "data": {
      "text/plain": [
       "10"
      ]
     },
     "execution_count": 5,
     "metadata": {},
     "output_type": "execute_result"
    }
   ],
   "source": [
    "abs(-10)"
   ]
  },
  {
   "cell_type": "code",
   "execution_count": 63,
   "id": "eeb199b3",
   "metadata": {},
   "outputs": [],
   "source": [
    "A=[-1,3,3,5,1]"
   ]
  },
  {
   "cell_type": "code",
   "execution_count": 60,
   "id": "3fe004da",
   "metadata": {},
   "outputs": [
    {
     "data": {
      "text/plain": [
       "5"
      ]
     },
     "execution_count": 60,
     "metadata": {},
     "output_type": "execute_result"
    }
   ],
   "source": [
    "len(A)"
   ]
  },
  {
   "cell_type": "code",
   "execution_count": 64,
   "id": "18f3a120",
   "metadata": {},
   "outputs": [
    {
     "data": {
      "text/plain": [
       "1"
      ]
     },
     "execution_count": 64,
     "metadata": {},
     "output_type": "execute_result"
    }
   ],
   "source": [
    "A.index(3)"
   ]
  },
  {
   "cell_type": "code",
   "execution_count": null,
   "id": "06856bcc",
   "metadata": {},
   "outputs": [],
   "source": []
  }
 ],
 "metadata": {
  "kernelspec": {
   "display_name": "Python 3 (ipykernel)",
   "language": "python",
   "name": "python3"
  },
  "language_info": {
   "codemirror_mode": {
    "name": "ipython",
    "version": 3
   },
   "file_extension": ".py",
   "mimetype": "text/x-python",
   "name": "python",
   "nbconvert_exporter": "python",
   "pygments_lexer": "ipython3",
   "version": "3.9.13"
  }
 },
 "nbformat": 4,
 "nbformat_minor": 5
}
