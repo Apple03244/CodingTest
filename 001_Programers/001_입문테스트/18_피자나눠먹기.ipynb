{
 "cells": [
  {
   "cell_type": "code",
   "execution_count": 1,
   "id": "f2175f9b",
   "metadata": {},
   "outputs": [],
   "source": [
    "# 피자 나누어먹기"
   ]
  },
  {
   "cell_type": "code",
   "execution_count": 12,
   "id": "2090cb90",
   "metadata": {},
   "outputs": [],
   "source": [
    "def solution(price):\n",
    "    if price>=100000:\n",
    "        discount=0.95\n",
    "    else:\n",
    "        return price\n",
    "    if price>=300000:\n",
    "        discount=0.9\n",
    "    if price>=500000:\n",
    "        discount=0.8\n",
    "    return int(discount*price)"
   ]
  },
  {
   "cell_type": "code",
   "execution_count": 13,
   "id": "706b9bd8",
   "metadata": {},
   "outputs": [
    {
     "data": {
      "text/plain": [
       "142500"
      ]
     },
     "execution_count": 13,
     "metadata": {},
     "output_type": "execute_result"
    }
   ],
   "source": [
    "solution(150000)"
   ]
  },
  {
   "cell_type": "code",
   "execution_count": null,
   "id": "55f8d438",
   "metadata": {},
   "outputs": [],
   "source": []
  }
 ],
 "metadata": {
  "kernelspec": {
   "display_name": "Python 3 (ipykernel)",
   "language": "python",
   "name": "python3"
  },
  "language_info": {
   "codemirror_mode": {
    "name": "ipython",
    "version": 3
   },
   "file_extension": ".py",
   "mimetype": "text/x-python",
   "name": "python",
   "nbconvert_exporter": "python",
   "pygments_lexer": "ipython3",
   "version": "3.9.13"
  }
 },
 "nbformat": 4,
 "nbformat_minor": 5
}
