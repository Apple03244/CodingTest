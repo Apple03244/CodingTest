{
 "cells": [
  {
   "cell_type": "code",
   "execution_count": 26,
   "id": "98a7d348",
   "metadata": {},
   "outputs": [],
   "source": [
    "def solution(number):\n",
    "    num_set=[n for n in range(2,number) if number%n==0]\n",
    "    def check(n):\n",
    "        return n if all([n%m for m in range(2,n)]) else None\n",
    "    return list(filter(check,num_set)) if bool(list(filter(check,num_set))) else [number]"
   ]
  },
  {
   "cell_type": "code",
   "execution_count": 27,
   "id": "217c3ab3",
   "metadata": {},
   "outputs": [
    {
     "data": {
      "text/plain": [
       "[2, 3]"
      ]
     },
     "execution_count": 27,
     "metadata": {},
     "output_type": "execute_result"
    }
   ],
   "source": [
    "solution(12)"
   ]
  },
  {
   "cell_type": "code",
   "execution_count": 20,
   "id": "0dec8e20",
   "metadata": {},
   "outputs": [],
   "source": [
    "# 소수 판별하기\n",
    "def check(n):\n",
    "        return n if all([n%m for m in range(2,n)]) else None"
   ]
  },
  {
   "cell_type": "code",
   "execution_count": 18,
   "id": "75a9fce8",
   "metadata": {},
   "outputs": [
    {
     "name": "stdout",
     "output_type": "stream",
     "text": [
      "2\n"
     ]
    }
   ],
   "source": [
    "print(2) if bool(2) else print('싫어')"
   ]
  },
  {
   "cell_type": "code",
   "execution_count": 22,
   "id": "56353551",
   "metadata": {},
   "outputs": [
    {
     "data": {
      "text/plain": [
       "7"
      ]
     },
     "execution_count": 22,
     "metadata": {},
     "output_type": "execute_result"
    }
   ],
   "source": [
    "check(7)"
   ]
  },
  {
   "cell_type": "code",
   "execution_count": null,
   "id": "ffe71bc6",
   "metadata": {},
   "outputs": [],
   "source": []
  }
 ],
 "metadata": {
  "kernelspec": {
   "display_name": "Python 3 (ipykernel)",
   "language": "python",
   "name": "python3"
  },
  "language_info": {
   "codemirror_mode": {
    "name": "ipython",
    "version": 3
   },
   "file_extension": ".py",
   "mimetype": "text/x-python",
   "name": "python",
   "nbconvert_exporter": "python",
   "pygments_lexer": "ipython3",
   "version": "3.9.13"
  }
 },
 "nbformat": 4,
 "nbformat_minor": 5
}
