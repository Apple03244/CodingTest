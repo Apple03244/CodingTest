{
 "cells": [
  {
   "cell_type": "code",
   "execution_count": 4,
   "id": "7cc9e70b",
   "metadata": {},
   "outputs": [],
   "source": [
    "def solution(num_list):\n",
    "    odd_num=[i for i in num_list if i%2!=0]\n",
    "    return (len(num_list)-len(odd_num),len(odd_num))"
   ]
  },
  {
   "cell_type": "code",
   "execution_count": 5,
   "id": "4a6e2eee",
   "metadata": {},
   "outputs": [
    {
     "data": {
      "text/plain": [
       "(2, 3)"
      ]
     },
     "execution_count": 5,
     "metadata": {},
     "output_type": "execute_result"
    }
   ],
   "source": [
    "solution([1,2,3,4,5])"
   ]
  },
  {
   "cell_type": "code",
   "execution_count": 27,
   "id": "4ce273ba",
   "metadata": {},
   "outputs": [],
   "source": [
    "def solution(my_string=str,n=int):\n",
    "    answer=''\n",
    "    for i in range(len(my_string)):\n",
    "        answer+=my_string[i]*n\n",
    "    return answer"
   ]
  },
  {
   "cell_type": "code",
   "execution_count": 28,
   "id": "60be3c6a",
   "metadata": {},
   "outputs": [
    {
     "data": {
      "text/plain": [
       "'hhheeellllllooo'"
      ]
     },
     "execution_count": 28,
     "metadata": {},
     "output_type": "execute_result"
    }
   ],
   "source": [
    "solution('hello',3)"
   ]
  },
  {
   "cell_type": "code",
   "execution_count": 29,
   "id": "66bbdb21",
   "metadata": {},
   "outputs": [],
   "source": [
    "def solution(my_string,letter):\n",
    "    return ''.join([n for n in my_string if n!=letter])"
   ]
  },
  {
   "cell_type": "code",
   "execution_count": 30,
   "id": "82b7aef9",
   "metadata": {},
   "outputs": [
    {
     "data": {
      "text/plain": [
       "'녕하세여'"
      ]
     },
     "execution_count": 30,
     "metadata": {},
     "output_type": "execute_result"
    }
   ],
   "source": [
    "solution('안녕하세여','안')"
   ]
  },
  {
   "cell_type": "code",
   "execution_count": 31,
   "id": "e604c77f",
   "metadata": {},
   "outputs": [],
   "source": [
    "def solution(n,k):\n",
    "    return n*12000+(k-n//10)*2000"
   ]
  },
  {
   "cell_type": "code",
   "execution_count": null,
   "id": "4870a535",
   "metadata": {},
   "outputs": [],
   "source": [
    "solution"
   ]
  },
  {
   "cell_type": "code",
   "execution_count": 1,
   "id": "7c895bf3",
   "metadata": {},
   "outputs": [],
   "source": [
    "def solution(tri):\n",
    "    min_number=max(tri)-min(tri)\n",
    "    max_number=sum(tri)\n",
    "    \n",
    "    answer=range(min_number,max_number)\n",
    "    return len(answer)-1"
   ]
  },
  {
   "cell_type": "code",
   "execution_count": 14,
   "id": "9ed5cfa2",
   "metadata": {},
   "outputs": [],
   "source": [
    "def solution(spell,dic):\n",
    "    def check(x):\n",
    "        return [x.count(y) for y in spell]\n",
    "    answer=[check(x) for x in dic]\n",
    "    return 1 if [1 for x in range(len(spell))] in answer else 2\n",
    "    "
   ]
  },
  {
   "cell_type": "code",
   "execution_count": 15,
   "id": "72d65909",
   "metadata": {},
   "outputs": [
    {
     "data": {
      "text/plain": [
       "2"
      ]
     },
     "execution_count": 15,
     "metadata": {},
     "output_type": "execute_result"
    }
   ],
   "source": [
    "solution([\"p\", \"o\", \"s\"],[\"sod\", \"eocd\", \"qixm\", \"adio\", \"soo\"])"
   ]
  },
  {
   "cell_type": "code",
   "execution_count": 35,
   "id": "3c5e2671",
   "metadata": {},
   "outputs": [],
   "source": [
    "def solution(n):\n",
    "    def three(k):\n",
    "        if k%3==0 or 3 in [int(x) for x in list(str(k))]:\n",
    "            return True\n",
    "        else:\n",
    "            return False\n",
    "    answer=[]\n",
    "    k=1\n",
    "    while len(answer)<n:\n",
    "        if three(k):\n",
    "            k+=1\n",
    "        else:\n",
    "            answer.append(k)\n",
    "            k+=1\n",
    "    return answer[-1]"
   ]
  },
  {
   "cell_type": "code",
   "execution_count": 19,
   "id": "186fbd98",
   "metadata": {},
   "outputs": [
    {
     "data": {
      "text/plain": [
       "[3, 3]"
      ]
     },
     "execution_count": 19,
     "metadata": {},
     "output_type": "execute_result"
    }
   ],
   "source": [
    "k=33\n",
    "[int(x) for x in list(str(k))]"
   ]
  },
  {
   "cell_type": "code",
   "execution_count": 37,
   "id": "209f1295",
   "metadata": {},
   "outputs": [
    {
     "data": {
      "text/plain": [
       "76"
      ]
     },
     "execution_count": 37,
     "metadata": {},
     "output_type": "execute_result"
    }
   ],
   "source": [
    "solution(40)"
   ]
  },
  {
   "cell_type": "code",
   "execution_count": 40,
   "id": "e718f5cc",
   "metadata": {},
   "outputs": [],
   "source": [
    "def solution(dots):\n",
    "    diff=[]\n",
    "    for x in dots:\n",
    "        for y in dots:\n",
    "            diff.append([x[0]-y[0],x[1]-y[1]])\n",
    "    return diff"
   ]
  },
  {
   "cell_type": "code",
   "execution_count": null,
   "id": "950497c8",
   "metadata": {},
   "outputs": [],
   "source": []
  }
 ],
 "metadata": {
  "kernelspec": {
   "display_name": "Python 3 (ipykernel)",
   "language": "python",
   "name": "python3"
  },
  "language_info": {
   "codemirror_mode": {
    "name": "ipython",
    "version": 3
   },
   "file_extension": ".py",
   "mimetype": "text/x-python",
   "name": "python",
   "nbconvert_exporter": "python",
   "pygments_lexer": "ipython3",
   "version": "3.9.13"
  }
 },
 "nbformat": 4,
 "nbformat_minor": 5
}
