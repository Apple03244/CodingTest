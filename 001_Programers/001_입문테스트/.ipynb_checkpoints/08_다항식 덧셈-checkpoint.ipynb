{
 "cells": [
  {
   "cell_type": "code",
   "execution_count": 84,
   "id": "487f55b1",
   "metadata": {},
   "outputs": [
    {
     "ename": "SyntaxError",
     "evalue": "invalid syntax (3447407585.py, line 7)",
     "output_type": "error",
     "traceback": [
      "\u001b[1;36m  File \u001b[1;32m\"C:\\Users\\SAMSUNG\\AppData\\Local\\Temp\\ipykernel_23688\\3447407585.py\"\u001b[1;36m, line \u001b[1;32m7\u001b[0m\n\u001b[1;33m    elif p_number==[]:\u001b[0m\n\u001b[1;37m    ^\u001b[0m\n\u001b[1;31mSyntaxError\u001b[0m\u001b[1;31m:\u001b[0m invalid syntax\n"
     ]
    }
   ],
   "source": [
    "def solution(polymonial):\n",
    "    p_x=[x for x in polymonial.split(\" + \") if 'x' in x]\n",
    "    p_x=list(map(lambda l:l.replace(\"x\",\"1\") if l==\"x\" else l.replace(\"x\",\"\"),p_x))\n",
    "    p_number=[x for x in polymonial.split(\" + \") if not 'x' in x]\n",
    "    if p_x==[]:\n",
    "        return str(sum(p_number)\n",
    "    elif p_number==[]:\n",
    "        return str(sum([int(x) for x in p_x]))+\"x\"\n",
    "    else:\n",
    "        p_x=list(map(lambda l:l.replace(\"x\",\"1\") if l==\"x\" else l.replace(\"x\",\"\"),p_x))\n",
    "        return str(sum([int(x) for x in p_x]))+\"x\"+\" + \"+str(sum([int(y) for y in p_number])).replace(\"0\",\"\")"
   ]
  },
  {
   "cell_type": "code",
   "execution_count": 83,
   "id": "eac8d5d2",
   "metadata": {},
   "outputs": [],
   "source": [
    "a=\"101x + x + x + 7 + 102\"\t"
   ]
  },
  {
   "cell_type": "code",
   "execution_count": 71,
   "id": "9cd57731",
   "metadata": {},
   "outputs": [],
   "source": [
    "a=\"7 + 14\""
   ]
  },
  {
   "cell_type": "code",
   "execution_count": 79,
   "id": "4109aa2e",
   "metadata": {},
   "outputs": [
    {
     "data": {
      "text/plain": [
       "'103x + 19'"
      ]
     },
     "execution_count": 79,
     "metadata": {},
     "output_type": "execute_result"
    }
   ],
   "source": [
    "solution(a)"
   ]
  },
  {
   "cell_type": "code",
   "execution_count": 86,
   "id": "a3cd78de",
   "metadata": {},
   "outputs": [],
   "source": [
    "def solution(polymonial):\n",
    "    p_x=[x for x in polymonial.split(\" + \") if 'x' in x]\n",
    "    p_x=list(map(lambda l:l.replace(\"x\",\"1\") if l==\"x\" else l.replace(\"x\",\"\"),p_x))\n",
    "    p_number=[x for x in polymonial.split(\" + \") if not 'x' in x]\n",
    "    return p_x, p_number"
   ]
  },
  {
   "cell_type": "code",
   "execution_count": null,
   "id": "540ecc3e",
   "metadata": {},
   "outputs": [],
   "source": []
  }
 ],
 "metadata": {
  "kernelspec": {
   "display_name": "Python 3 (ipykernel)",
   "language": "python",
   "name": "python3"
  },
  "language_info": {
   "codemirror_mode": {
    "name": "ipython",
    "version": 3
   },
   "file_extension": ".py",
   "mimetype": "text/x-python",
   "name": "python",
   "nbconvert_exporter": "python",
   "pygments_lexer": "ipython3",
   "version": "3.9.13"
  }
 },
 "nbformat": 4,
 "nbformat_minor": 5
}
