{
 "cells": [
  {
   "cell_type": "code",
   "execution_count": 1,
   "id": "9dc8380d",
   "metadata": {},
   "outputs": [],
   "source": [
    "# OX퀴즈"
   ]
  },
  {
   "cell_type": "code",
   "execution_count": 56,
   "id": "3bb265ec",
   "metadata": {},
   "outputs": [],
   "source": [
    "a='3 - 1 = 4'\n",
    "b='12 - 15 = -3'"
   ]
  },
  {
   "cell_type": "code",
   "execution_count": 67,
   "id": "c65cbe62",
   "metadata": {},
   "outputs": [],
   "source": [
    "def test(a):\n",
    "    num=(a.replace(' ','')).split('=')\n",
    "    return 'O' if int(float(num[0]))==int(float(num[1])) else 'X'"
   ]
  },
  {
   "cell_type": "code",
   "execution_count": 90,
   "id": "9d13af1b",
   "metadata": {},
   "outputs": [
    {
     "data": {
      "text/plain": [
       "True"
      ]
     },
     "execution_count": 90,
     "metadata": {},
     "output_type": "execute_result"
    }
   ],
   "source": [
    "a='3-1==4'\n",
    "(\"12-15\")"
   ]
  },
  {
   "cell_type": "code",
   "execution_count": 66,
   "id": "d7c0ab81",
   "metadata": {},
   "outputs": [],
   "source": [
    "s=[1,2,3,4]"
   ]
  },
  {
   "cell_type": "code",
   "execution_count": 57,
   "id": "f2912c2f",
   "metadata": {},
   "outputs": [
    {
     "data": {
      "text/plain": [
       "['3', '-', '1', '=', '4']"
      ]
     },
     "execution_count": 57,
     "metadata": {},
     "output_type": "execute_result"
    }
   ],
   "source": [
    "a.split(' ')"
   ]
  },
  {
   "cell_type": "code",
   "execution_count": 45,
   "id": "e8eeaafe",
   "metadata": {},
   "outputs": [
    {
     "data": {
      "text/plain": [
       "'12-15'"
      ]
     },
     "execution_count": 45,
     "metadata": {},
     "output_type": "execute_result"
    }
   ],
   "source": [
    "(b.replace(' ','')).split('=')[0]"
   ]
  },
  {
   "cell_type": "code",
   "execution_count": 35,
   "id": "0f98923f",
   "metadata": {},
   "outputs": [],
   "source": [
    "def solution(quiz):\n",
    "    result=[]\n",
    "    def test(a):\n",
    "        num=(a.replace(' ','')).split('=')\n",
    "        return \"O\" if num[0]==num[1] else \"X\"\n",
    "    for i in quiz:\n",
    "        result.append(test(quiz[i]))\n",
    "    return result"
   ]
  },
  {
   "cell_type": "code",
   "execution_count": 36,
   "id": "7f4b675d",
   "metadata": {},
   "outputs": [
    {
     "ename": "TypeError",
     "evalue": "list indices must be integers or slices, not str",
     "output_type": "error",
     "traceback": [
      "\u001b[1;31m---------------------------------------------------------------------------\u001b[0m",
      "\u001b[1;31mTypeError\u001b[0m                                 Traceback (most recent call last)",
      "\u001b[1;32m~\\AppData\\Local\\Temp\\ipykernel_23540\\1600910398.py\u001b[0m in \u001b[0;36m<module>\u001b[1;34m\u001b[0m\n\u001b[1;32m----> 1\u001b[1;33m \u001b[0msolution\u001b[0m\u001b[1;33m(\u001b[0m\u001b[1;33m[\u001b[0m\u001b[1;34m\"3 - 4 = -3\"\u001b[0m\u001b[1;33m,\u001b[0m \u001b[1;34m\"5 + 6 = 11\"\u001b[0m\u001b[1;33m]\u001b[0m\u001b[1;33m)\u001b[0m\u001b[1;33m\u001b[0m\u001b[1;33m\u001b[0m\u001b[0m\n\u001b[0m",
      "\u001b[1;32m~\\AppData\\Local\\Temp\\ipykernel_23540\\3056528717.py\u001b[0m in \u001b[0;36msolution\u001b[1;34m(quiz)\u001b[0m\n\u001b[0;32m      5\u001b[0m         \u001b[1;32mreturn\u001b[0m \u001b[1;34m\"O\"\u001b[0m \u001b[1;32mif\u001b[0m \u001b[0mnum\u001b[0m\u001b[1;33m[\u001b[0m\u001b[1;36m0\u001b[0m\u001b[1;33m]\u001b[0m\u001b[1;33m==\u001b[0m\u001b[0mnum\u001b[0m\u001b[1;33m[\u001b[0m\u001b[1;36m1\u001b[0m\u001b[1;33m]\u001b[0m \u001b[1;32melse\u001b[0m \u001b[1;34m\"X\"\u001b[0m\u001b[1;33m\u001b[0m\u001b[1;33m\u001b[0m\u001b[0m\n\u001b[0;32m      6\u001b[0m     \u001b[1;32mfor\u001b[0m \u001b[0mi\u001b[0m \u001b[1;32min\u001b[0m \u001b[0mquiz\u001b[0m\u001b[1;33m:\u001b[0m\u001b[1;33m\u001b[0m\u001b[1;33m\u001b[0m\u001b[0m\n\u001b[1;32m----> 7\u001b[1;33m         \u001b[0mresult\u001b[0m\u001b[1;33m.\u001b[0m\u001b[0mappend\u001b[0m\u001b[1;33m(\u001b[0m\u001b[0mtest\u001b[0m\u001b[1;33m(\u001b[0m\u001b[0mquiz\u001b[0m\u001b[1;33m[\u001b[0m\u001b[0mi\u001b[0m\u001b[1;33m]\u001b[0m\u001b[1;33m)\u001b[0m\u001b[1;33m)\u001b[0m\u001b[1;33m\u001b[0m\u001b[1;33m\u001b[0m\u001b[0m\n\u001b[0m\u001b[0;32m      8\u001b[0m     \u001b[1;32mreturn\u001b[0m \u001b[0mresult\u001b[0m\u001b[1;33m\u001b[0m\u001b[1;33m\u001b[0m\u001b[0m\n",
      "\u001b[1;31mTypeError\u001b[0m: list indices must be integers or slices, not str"
     ]
    }
   ],
   "source": [
    "solution([\"3 - 4 = -3\", \"5 + 6 = 11\"])"
   ]
  },
  {
   "cell_type": "code",
   "execution_count": null,
   "id": "0166865c",
   "metadata": {},
   "outputs": [],
   "source": []
  }
 ],
 "metadata": {
  "kernelspec": {
   "display_name": "Python 3 (ipykernel)",
   "language": "python",
   "name": "python3"
  },
  "language_info": {
   "codemirror_mode": {
    "name": "ipython",
    "version": 3
   },
   "file_extension": ".py",
   "mimetype": "text/x-python",
   "name": "python",
   "nbconvert_exporter": "python",
   "pygments_lexer": "ipython3",
   "version": "3.9.13"
  }
 },
 "nbformat": 4,
 "nbformat_minor": 5
}
