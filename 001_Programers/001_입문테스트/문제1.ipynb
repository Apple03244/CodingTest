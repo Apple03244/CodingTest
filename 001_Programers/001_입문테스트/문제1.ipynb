{
 "cells": [
  {
   "cell_type": "code",
   "execution_count": 76,
   "id": "28517fde",
   "metadata": {},
   "outputs": [],
   "source": [
    "def solution(babbling):\n",
    "    test_set=['aya','woo','ye','ma']\n",
    "    for word in babbling: # 하나의 str 추출\n",
    "        for test in test_set:\n",
    "            word=word.replace(test,' ')\n",
    "        word=word.strip()\n",
    "    result=babbling.count('')\n",
    "    return result"
   ]
  },
  {
   "cell_type": "code",
   "execution_count": 80,
   "id": "4a388882",
   "metadata": {},
   "outputs": [
    {
     "ename": "NameError",
     "evalue": "name 'babbling' is not defined",
     "output_type": "error",
     "traceback": [
      "\u001b[1;31m---------------------------------------------------------------------------\u001b[0m",
      "\u001b[1;31mNameError\u001b[0m                                 Traceback (most recent call last)",
      "\u001b[1;32m~\\AppData\\Local\\Temp\\ipykernel_16328\\351416157.py\u001b[0m in \u001b[0;36m<module>\u001b[1;34m\u001b[0m\n\u001b[1;32m----> 1\u001b[1;33m \u001b[0msolution\u001b[0m\u001b[1;33m(\u001b[0m\u001b[1;33m[\u001b[0m\u001b[1;34m\"aya\"\u001b[0m\u001b[1;33m,\u001b[0m \u001b[1;34m\"yee\"\u001b[0m\u001b[1;33m,\u001b[0m \u001b[1;34m\"u\"\u001b[0m\u001b[1;33m,\u001b[0m \u001b[1;34m\"maa\"\u001b[0m\u001b[1;33m,\u001b[0m \u001b[1;34m\"wyeoo\"\u001b[0m\u001b[1;33m]\u001b[0m\u001b[1;33m)\u001b[0m\u001b[1;33m\u001b[0m\u001b[1;33m\u001b[0m\u001b[0m\n\u001b[0m",
      "\u001b[1;32m~\\AppData\\Local\\Temp\\ipykernel_16328\\49634485.py\u001b[0m in \u001b[0;36msolution\u001b[1;34m(babbilng)\u001b[0m\n\u001b[0;32m      2\u001b[0m \u001b[1;32mdef\u001b[0m \u001b[0msolution\u001b[0m\u001b[1;33m(\u001b[0m\u001b[0mbabbilng\u001b[0m\u001b[1;33m)\u001b[0m\u001b[1;33m:\u001b[0m\u001b[1;33m\u001b[0m\u001b[1;33m\u001b[0m\u001b[0m\n\u001b[0;32m      3\u001b[0m     \u001b[0mtest_set\u001b[0m\u001b[1;33m=\u001b[0m\u001b[1;33m[\u001b[0m\u001b[1;34m'aya'\u001b[0m\u001b[1;33m,\u001b[0m\u001b[1;34m'woo'\u001b[0m\u001b[1;33m,\u001b[0m\u001b[1;34m'ye'\u001b[0m\u001b[1;33m,\u001b[0m\u001b[1;34m'ma'\u001b[0m\u001b[1;33m]\u001b[0m\u001b[1;33m\u001b[0m\u001b[1;33m\u001b[0m\u001b[0m\n\u001b[1;32m----> 4\u001b[1;33m     \u001b[1;32mfor\u001b[0m \u001b[0mword\u001b[0m \u001b[1;32min\u001b[0m \u001b[0mbabbling\u001b[0m\u001b[1;33m:\u001b[0m \u001b[1;31m# 하나의 str 추출\u001b[0m\u001b[1;33m\u001b[0m\u001b[1;33m\u001b[0m\u001b[0m\n\u001b[0m\u001b[0;32m      5\u001b[0m         \u001b[1;32mif\u001b[0m \u001b[1;34m'aya'\u001b[0m \u001b[1;32min\u001b[0m \u001b[0mword\u001b[0m\u001b[1;33m:\u001b[0m\u001b[1;33m\u001b[0m\u001b[1;33m\u001b[0m\u001b[0m\n\u001b[0;32m      6\u001b[0m             \u001b[0mword\u001b[0m\u001b[1;33m=\u001b[0m\u001b[0mword\u001b[0m\u001b[1;33m.\u001b[0m\u001b[0mreplace\u001b[0m\u001b[1;33m(\u001b[0m\u001b[1;34m'aya'\u001b[0m\u001b[1;33m,\u001b[0m\u001b[1;34m' '\u001b[0m\u001b[1;33m)\u001b[0m\u001b[1;33m\u001b[0m\u001b[1;33m\u001b[0m\u001b[0m\n",
      "\u001b[1;31mNameError\u001b[0m: name 'babbling' is not defined"
     ]
    }
   ],
   "source": [
    "solution([\"aya\", \"yee\", \"u\", \"maa\", \"wyeoo\"])"
   ]
  },
  {
   "cell_type": "code",
   "execution_count": 83,
   "id": "f08d80bd",
   "metadata": {},
   "outputs": [],
   "source": [
    "# 좃같네\n",
    "def solution(babbling):\n",
    "    test_set=['aya','woo','ye','ma']\n",
    "    for word in babbling: # 하나의 str 추출\n",
    "        if 'aya' in word:\n",
    "            word=word.replace('aya',' ')\n",
    "        if 'woo' in word:\n",
    "            word=word.replace('woo', ' ')\n",
    "        if 'ye' in word:\n",
    "            word=word.replace('ye', ' ')\n",
    "        if 'ma' in word:\n",
    "            word=word.replace('ma',' ')\n",
    "        print(word)"
   ]
  },
  {
   "cell_type": "code",
   "execution_count": 110,
   "id": "92a74ac6",
   "metadata": {},
   "outputs": [],
   "source": [
    "# 좃같네_2\n",
    "def solution(babbling):\n",
    "    result=[]\n",
    "    test_set=['aya','woo','ye','ma']\n",
    "    for word in babbling: # 하나의 str 추출\n",
    "        for i in test_set:\n",
    "            if i in word:\n",
    "                word=word.replace(i,' ')\n",
    "        word=word.replace(' ','')\n",
    "        result.append(len(word))\n",
    "    return result.count(0)"
   ]
  },
  {
   "cell_type": "code",
   "execution_count": 111,
   "id": "c1085b50",
   "metadata": {},
   "outputs": [
    {
     "data": {
      "text/plain": [
       "1"
      ]
     },
     "execution_count": 111,
     "metadata": {},
     "output_type": "execute_result"
    }
   ],
   "source": [
    "solution([\"aya\", \"yee\", \"u\", \"maa\", \"wyeoo\"])"
   ]
  },
  {
   "cell_type": "code",
   "execution_count": 112,
   "id": "a9125c71",
   "metadata": {},
   "outputs": [
    {
     "data": {
      "text/plain": [
       "3"
      ]
     },
     "execution_count": 112,
     "metadata": {},
     "output_type": "execute_result"
    }
   ],
   "source": [
    "solution([\"ayaye\", \"uuuma\", \"ye\", \"yemawoo\", \"ayaa\"])"
   ]
  },
  {
   "cell_type": "code",
   "execution_count": 54,
   "id": "f563661a",
   "metadata": {},
   "outputs": [],
   "source": [
    "k='abcd'"
   ]
  },
  {
   "cell_type": "code",
   "execution_count": 59,
   "id": "4c6de4ab",
   "metadata": {},
   "outputs": [
    {
     "data": {
      "text/plain": [
       "4"
      ]
     },
     "execution_count": 59,
     "metadata": {},
     "output_type": "execute_result"
    }
   ],
   "source": [
    "len(k.replace('a',' '))"
   ]
  },
  {
   "cell_type": "code",
   "execution_count": 60,
   "id": "a7c23d57",
   "metadata": {},
   "outputs": [],
   "source": [
    "k_2=k.replace('a',' ')"
   ]
  },
  {
   "cell_type": "code",
   "execution_count": 62,
   "id": "461c76c6",
   "metadata": {},
   "outputs": [
    {
     "data": {
      "text/plain": [
       "3"
      ]
     },
     "execution_count": 62,
     "metadata": {},
     "output_type": "execute_result"
    }
   ],
   "source": [
    "len(k_2.strip())"
   ]
  },
  {
   "cell_type": "code",
   "execution_count": 71,
   "id": "0d684a6a",
   "metadata": {},
   "outputs": [],
   "source": [
    "l=['a','a','c','c']"
   ]
  },
  {
   "cell_type": "code",
   "execution_count": 72,
   "id": "5412e3d6",
   "metadata": {},
   "outputs": [
    {
     "data": {
      "text/plain": [
       "2"
      ]
     },
     "execution_count": 72,
     "metadata": {},
     "output_type": "execute_result"
    }
   ],
   "source": [
    "l.count('a')"
   ]
  },
  {
   "cell_type": "code",
   "execution_count": null,
   "id": "a450cf97",
   "metadata": {},
   "outputs": [],
   "source": []
  }
 ],
 "metadata": {
  "kernelspec": {
   "display_name": "Python 3 (ipykernel)",
   "language": "python",
   "name": "python3"
  },
  "language_info": {
   "codemirror_mode": {
    "name": "ipython",
    "version": 3
   },
   "file_extension": ".py",
   "mimetype": "text/x-python",
   "name": "python",
   "nbconvert_exporter": "python",
   "pygments_lexer": "ipython3",
   "version": "3.9.13"
  }
 },
 "nbformat": 4,
 "nbformat_minor": 5
}
