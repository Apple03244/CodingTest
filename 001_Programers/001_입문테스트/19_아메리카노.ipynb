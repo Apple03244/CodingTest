{
 "cells": [
  {
   "cell_type": "code",
   "execution_count": 1,
   "id": "21b20e98",
   "metadata": {},
   "outputs": [],
   "source": [
    "# 아메리카노"
   ]
  },
  {
   "cell_type": "code",
   "execution_count": 4,
   "id": "cbd87d69",
   "metadata": {},
   "outputs": [],
   "source": [
    "solution=lambda money:[money//5500,money%5500]"
   ]
  },
  {
   "cell_type": "code",
   "execution_count": 5,
   "id": "584ca162",
   "metadata": {},
   "outputs": [
    {
     "data": {
      "text/plain": [
       "[1, 0]"
      ]
     },
     "execution_count": 5,
     "metadata": {},
     "output_type": "execute_result"
    }
   ],
   "source": [
    "solution(5500)"
   ]
  },
  {
   "cell_type": "code",
   "execution_count": 9,
   "id": "932c34c4",
   "metadata": {},
   "outputs": [],
   "source": [
    "a=[1,2,3,4]"
   ]
  },
  {
   "cell_type": "code",
   "execution_count": 10,
   "id": "32cedcc0",
   "metadata": {},
   "outputs": [
    {
     "data": {
      "text/plain": [
       "[1, 2, 3, 4]"
      ]
     },
     "execution_count": 10,
     "metadata": {},
     "output_type": "execute_result"
    }
   ],
   "source": [
    "a"
   ]
  },
  {
   "cell_type": "code",
   "execution_count": 14,
   "id": "7bf44fcb",
   "metadata": {},
   "outputs": [],
   "source": [
    "a.reverse()"
   ]
  },
  {
   "cell_type": "code",
   "execution_count": 29,
   "id": "d0795d7a",
   "metadata": {},
   "outputs": [
    {
     "data": {
      "text/plain": [
       "[1, 2, 3, 4]"
      ]
     },
     "execution_count": 29,
     "metadata": {},
     "output_type": "execute_result"
    }
   ],
   "source": [
    "a"
   ]
  },
  {
   "cell_type": "code",
   "execution_count": 24,
   "id": "c4cb314c",
   "metadata": {},
   "outputs": [],
   "source": [
    "solution=lambda a:a.reverse()"
   ]
  },
  {
   "cell_type": "code",
   "execution_count": 25,
   "id": "6cf73d7e",
   "metadata": {},
   "outputs": [],
   "source": [
    "def solution(num):\n",
    "    num_copy=num.reverse()\n",
    "    return num_copy"
   ]
  },
  {
   "cell_type": "code",
   "execution_count": 30,
   "id": "eb6f4595",
   "metadata": {},
   "outputs": [],
   "source": [
    "num=a.reverse()"
   ]
  },
  {
   "cell_type": "code",
   "execution_count": 31,
   "id": "de7d9db5",
   "metadata": {},
   "outputs": [
    {
     "data": {
      "text/plain": [
       "([4, 3, 2, 1], None)"
      ]
     },
     "execution_count": 31,
     "metadata": {},
     "output_type": "execute_result"
    }
   ],
   "source": [
    "a, num"
   ]
  },
  {
   "cell_type": "code",
   "execution_count": null,
   "id": "31125d55",
   "metadata": {},
   "outputs": [],
   "source": []
  }
 ],
 "metadata": {
  "kernelspec": {
   "display_name": "Python 3 (ipykernel)",
   "language": "python",
   "name": "python3"
  },
  "language_info": {
   "codemirror_mode": {
    "name": "ipython",
    "version": 3
   },
   "file_extension": ".py",
   "mimetype": "text/x-python",
   "name": "python",
   "nbconvert_exporter": "python",
   "pygments_lexer": "ipython3",
   "version": "3.9.13"
  }
 },
 "nbformat": 4,
 "nbformat_minor": 5
}
