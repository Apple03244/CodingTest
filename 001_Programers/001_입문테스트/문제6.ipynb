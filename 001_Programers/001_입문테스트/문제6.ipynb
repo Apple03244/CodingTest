{
 "cells": [
  {
   "cell_type": "code",
   "execution_count": 38,
   "id": "53c0c981",
   "metadata": {},
   "outputs": [],
   "source": [
    "def solution(sentance,n):\n",
    "    result=[]\n",
    "    def cut(sentance):\n",
    "        return sentance[:n]\n",
    "    while len(sentance)>=n:\n",
    "        result.append(cut(sentance))\n",
    "        sentance=sentance[n:]\n",
    "        if 0<len(sentance)<n:\n",
    "            result.append(sentance)\n",
    "    return result"
   ]
  },
  {
   "cell_type": "code",
   "execution_count": 39,
   "id": "ae25f67a",
   "metadata": {},
   "outputs": [],
   "source": [
    "a='abcdefg'"
   ]
  },
  {
   "cell_type": "code",
   "execution_count": 40,
   "id": "5ca7ffad",
   "metadata": {},
   "outputs": [
    {
     "data": {
      "text/plain": [
       "2"
      ]
     },
     "execution_count": 40,
     "metadata": {},
     "output_type": "execute_result"
    }
   ],
   "source": [
    "len(\"abc1Addfggg4556b\")//6"
   ]
  },
  {
   "cell_type": "code",
   "execution_count": 41,
   "id": "da48bc0a",
   "metadata": {},
   "outputs": [
    {
     "data": {
      "text/plain": [
       "['abc1Ad', 'dfggg4', '556b']"
      ]
     },
     "execution_count": 41,
     "metadata": {},
     "output_type": "execute_result"
    }
   ],
   "source": [
    "solution(\"abc1Addfggg4556b\",6)"
   ]
  },
  {
   "cell_type": "code",
   "execution_count": 42,
   "id": "e141bc8b",
   "metadata": {},
   "outputs": [
    {
     "data": {
      "text/plain": [
       "['abc', 'def', '123']"
      ]
     },
     "execution_count": 42,
     "metadata": {},
     "output_type": "execute_result"
    }
   ],
   "source": [
    "solution(\"abcdef123\",3)"
   ]
  },
  {
   "cell_type": "code",
   "execution_count": null,
   "id": "318c223b",
   "metadata": {},
   "outputs": [],
   "source": []
  }
 ],
 "metadata": {
  "kernelspec": {
   "display_name": "Python 3 (ipykernel)",
   "language": "python",
   "name": "python3"
  },
  "language_info": {
   "codemirror_mode": {
    "name": "ipython",
    "version": 3
   },
   "file_extension": ".py",
   "mimetype": "text/x-python",
   "name": "python",
   "nbconvert_exporter": "python",
   "pygments_lexer": "ipython3",
   "version": "3.9.13"
  }
 },
 "nbformat": 4,
 "nbformat_minor": 5
}
