{
 "cells": [
  {
   "cell_type": "code",
   "execution_count": 17,
   "id": "61ec1e1d",
   "metadata": {},
   "outputs": [],
   "source": [
    "def solution(s):\n",
    "    x=[y for x,y in list(enumerate(s)) if s.index(y)==x]\n",
    "    return \"\".join(x)"
   ]
  },
  {
   "cell_type": "code",
   "execution_count": 15,
   "id": "49101cec",
   "metadata": {},
   "outputs": [],
   "source": [
    "a='We are the world'"
   ]
  },
  {
   "cell_type": "code",
   "execution_count": 18,
   "id": "1ec1bdda",
   "metadata": {},
   "outputs": [
    {
     "data": {
      "text/plain": [
       "'We arthwold'"
      ]
     },
     "execution_count": 18,
     "metadata": {},
     "output_type": "execute_result"
    }
   ],
   "source": [
    "solution(a)"
   ]
  },
  {
   "cell_type": "code",
   "execution_count": 13,
   "id": "0678efe2",
   "metadata": {},
   "outputs": [
    {
     "data": {
      "text/plain": [
       "[(0, 'W'),\n",
       " (1, 'e'),\n",
       " (2, ' '),\n",
       " (3, 'a'),\n",
       " (4, 'r'),\n",
       " (5, 'e'),\n",
       " (6, ' '),\n",
       " (7, 't'),\n",
       " (8, 'h'),\n",
       " (9, 'e'),\n",
       " (10, ' '),\n",
       " (11, 'w'),\n",
       " (12, 'o'),\n",
       " (13, 'r'),\n",
       " (14, 'l'),\n",
       " (15, 'd')]"
      ]
     },
     "execution_count": 13,
     "metadata": {},
     "output_type": "execute_result"
    }
   ],
   "source": [
    "list(enumerate(a))"
   ]
  },
  {
   "cell_type": "code",
   "execution_count": null,
   "id": "e98f6819",
   "metadata": {},
   "outputs": [],
   "source": []
  }
 ],
 "metadata": {
  "kernelspec": {
   "display_name": "Python 3 (ipykernel)",
   "language": "python",
   "name": "python3"
  },
  "language_info": {
   "codemirror_mode": {
    "name": "ipython",
    "version": 3
   },
   "file_extension": ".py",
   "mimetype": "text/x-python",
   "name": "python",
   "nbconvert_exporter": "python",
   "pygments_lexer": "ipython3",
   "version": "3.9.13"
  }
 },
 "nbformat": 4,
 "nbformat_minor": 5
}
