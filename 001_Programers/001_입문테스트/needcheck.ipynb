{
 "cells": [
  {
   "cell_type": "code",
   "execution_count": 2,
   "id": "09672b0a",
   "metadata": {},
   "outputs": [],
   "source": [
    "subjects = (\"국어\", \"영어\", \"수학\")"
   ]
  },
  {
   "cell_type": "code",
   "execution_count": 4,
   "id": "a347fe6d",
   "metadata": {},
   "outputs": [
    {
     "data": {
      "text/plain": [
       "'국어&영어&수학'"
      ]
     },
     "execution_count": 4,
     "metadata": {},
     "output_type": "execute_result"
    }
   ],
   "source": [
    "\"&\".join(subjects)"
   ]
  },
  {
   "cell_type": "code",
   "execution_count": 105,
   "id": "402a0837",
   "metadata": {},
   "outputs": [
    {
     "name": "stdout",
     "output_type": "stream",
     "text": [
      "15\n",
      "10\n"
     ]
    }
   ],
   "source": [
    "a=15\n",
    "def f():\n",
    "    global a\n",
    "    a=10\n",
    "print(a)\n",
    "f()\n",
    "print(a)"
   ]
  },
  {
   "cell_type": "code",
   "execution_count": 94,
   "id": "25198963",
   "metadata": {},
   "outputs": [
    {
     "data": {
      "text/plain": [
       "10"
      ]
     },
     "execution_count": 94,
     "metadata": {},
     "output_type": "execute_result"
    }
   ],
   "source": [
    "a=15\n",
    "a\n",
    "a=10\n",
    "a"
   ]
  },
  {
   "cell_type": "code",
   "execution_count": 86,
   "id": "2c29505f",
   "metadata": {},
   "outputs": [
    {
     "name": "stdout",
     "output_type": "stream",
     "text": [
      "['False', 'None', 'True', '__peg_parser__', 'and', 'as', 'assert', 'async', 'await', 'break', 'class', 'continue', 'def', 'del', 'elif', 'else', 'except', 'finally', 'for', 'from', 'global', 'if', 'import', 'in', 'is', 'lambda', 'nonlocal', 'not', 'or', 'pass', 'raise', 'return', 'try', 'while', 'with', 'yield']\n"
     ]
    }
   ],
   "source": [
    "import keyword\n",
    "print(keyword.kwlist)"
   ]
  },
  {
   "cell_type": "code",
   "execution_count": 60,
   "id": "55d31a9b",
   "metadata": {},
   "outputs": [
    {
     "data": {
      "text/plain": [
       "15"
      ]
     },
     "execution_count": 60,
     "metadata": {},
     "output_type": "execute_result"
    }
   ],
   "source": [
    "f()\n",
    "a"
   ]
  },
  {
   "cell_type": "code",
   "execution_count": 27,
   "id": "03e24f1b",
   "metadata": {},
   "outputs": [],
   "source": [
    "A=set([1,2,3])\n",
    "B=set([3,4,5])"
   ]
  },
  {
   "cell_type": "code",
   "execution_count": 28,
   "id": "e9605b65",
   "metadata": {},
   "outputs": [
    {
     "data": {
      "text/plain": [
       "{1, 2}"
      ]
     },
     "execution_count": 28,
     "metadata": {},
     "output_type": "execute_result"
    }
   ],
   "source": [
    "A.difference(B)"
   ]
  },
  {
   "cell_type": "code",
   "execution_count": 40,
   "id": "728d04ae",
   "metadata": {},
   "outputs": [],
   "source": [
    "a='d i s a p p ear'"
   ]
  },
  {
   "cell_type": "code",
   "execution_count": 30,
   "id": "ca5fb556",
   "metadata": {},
   "outputs": [
    {
     "data": {
      "text/plain": [
       "str"
      ]
     },
     "execution_count": 30,
     "metadata": {},
     "output_type": "execute_result"
    }
   ],
   "source": [
    "type(a)"
   ]
  },
  {
   "cell_type": "code",
   "execution_count": 43,
   "id": "da61a07b",
   "metadata": {},
   "outputs": [
    {
     "data": {
      "text/plain": [
       "['d', 'i', 's a p p ear']"
      ]
     },
     "execution_count": 43,
     "metadata": {},
     "output_type": "execute_result"
    }
   ],
   "source": [
    "a.split(\" \",2)"
   ]
  },
  {
   "cell_type": "code",
   "execution_count": 61,
   "id": "1f9ba205",
   "metadata": {},
   "outputs": [],
   "source": [
    "samples1 = [(10, 6, 3, 7), (1, 2, 3), (1, 5, 3), (2, 3), (8, 2, 1, 4, 9)]\n",
    "samples2 = [(1, 2, 8), (5, 8), (7, 0, 2), (8, 3, 6, 9), (3, 5, 8)]"
   ]
  },
  {
   "cell_type": "code",
   "execution_count": 68,
   "id": "c2b1c614",
   "metadata": {},
   "outputs": [
    {
     "name": "stdout",
     "output_type": "stream",
     "text": [
      "[(1, 2, 3), (2, 3), (1, 5, 3), (10, 6, 3, 7), (8, 2, 1, 4, 9)]\n"
     ]
    }
   ],
   "source": [
    "samples1.sort(key=lambda x:(x[-1],x[-2]))\n",
    "print(samples1)"
   ]
  },
  {
   "cell_type": "code",
   "execution_count": 72,
   "id": "48ce0052",
   "metadata": {},
   "outputs": [
    {
     "name": "stdout",
     "output_type": "stream",
     "text": [
      "[5.0, 6.0, 7.0, 8.0]\n",
      "[11.0, 21.0, 31.0]\n",
      "[18.0, 19.0]\n"
     ]
    }
   ],
   "source": [
    "def calc_mean(values,axis=0):\n",
    "    result = []\n",
    " \n",
    "    if axis==0:\n",
    "        for idx in range(len(values[0])):\n",
    "            sum_value = 0\n",
    "            cnt = 0\n",
    "            for item in values:\n",
    "                sum_value += item[idx]\n",
    "                cnt += 1\n",
    "            result.append(sum_value/cnt)\n",
    " \n",
    " \n",
    "    elif axis==1:\n",
    "        for items in values:\n",
    "            sum_value = 0\n",
    "            for item in items:\n",
    "                sum_value += item\n",
    "            result.append(sum_value/len(items))\n",
    " \n",
    "    return result\n",
    "    \n",
    " \n",
    "inputs1 = [[1, 2, 3, 4], [5, 6, 7, 8], [9, 10, 11, 12]]\n",
    "inputs2 = [[10, 11, 12], [20, 21, 22], [30, 31, 32]]\n",
    "inputs3 = [[15, 16], [17, 18], [19, 20], [21, 22]]\n",
    " \n",
    "print(calc_mean(inputs1, axis=0))\n",
    "print(calc_mean(inputs2, axis=1))\n",
    "print(calc_mean(inputs3))"
   ]
  },
  {
   "cell_type": "code",
   "execution_count": null,
   "id": "ab236b43",
   "metadata": {},
   "outputs": [],
   "source": []
  }
 ],
 "metadata": {
  "kernelspec": {
   "display_name": "Python 3 (ipykernel)",
   "language": "python",
   "name": "python3"
  },
  "language_info": {
   "codemirror_mode": {
    "name": "ipython",
    "version": 3
   },
   "file_extension": ".py",
   "mimetype": "text/x-python",
   "name": "python",
   "nbconvert_exporter": "python",
   "pygments_lexer": "ipython3",
   "version": "3.9.13"
  }
 },
 "nbformat": 4,
 "nbformat_minor": 5
}
