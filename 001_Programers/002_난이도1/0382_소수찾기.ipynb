{
 "cells": [
  {
   "cell_type": "code",
   "execution_count": 21,
   "metadata": {},
   "outputs": [],
   "source": [
    "def solution(N):\n",
    "    i=1 # <- 예외\n",
    "    result=[]\n",
    "    while i<N:\n",
    "        i+=1\n",
    "        test=True\n",
    "        for j in result:\n",
    "            if j>i**(0.5):\n",
    "                break\n",
    "            if not i%j:\n",
    "                test=False\n",
    "                break\n",
    "        if test:\n",
    "            result.append(i)\n",
    "    return result\n",
    "        "
   ]
  },
  {
   "cell_type": "code",
   "execution_count": 22,
   "metadata": {},
   "outputs": [
    {
     "data": {
      "text/plain": [
       "[2, 3, 5, 7]"
      ]
     },
     "execution_count": 22,
     "metadata": {},
     "output_type": "execute_result"
    }
   ],
   "source": [
    "solution(10)"
   ]
  },
  {
   "cell_type": "code",
   "execution_count": 17,
   "metadata": {},
   "outputs": [],
   "source": [
    "def soltution(N):\n",
    "    def delp(p,numlist): #지우기\n",
    "        return [number for number in numlist if (number%p!=0) and (number>p)]\n",
    "    def YesP(n,numlist): #소수확인\n",
    "        count=0\n",
    "        result=True\n",
    "        for num in numlist:\n",
    "            if num>=n**(0.5):\n",
    "                break\n",
    "            if count>1:\n",
    "                result=False\n",
    "                break\n",
    "            if not n%num:\n",
    "                count+=1\n",
    "        return result\n",
    "    nums=list(range(1,N+1))\n",
    "    i=1\n",
    "    while True:\n",
    "        try:\n",
    "            if YesP(nums[i],nums)==True:\n",
    "                nums=delp(nums[i],nums)\n",
    "                i+=1\n",
    "                print(nums)\n",
    "            else:\n",
    "                continue\n",
    "        except:\n",
    "            break\n",
    "    return nums\n"
   ]
  },
  {
   "cell_type": "code",
   "execution_count": 19,
   "metadata": {},
   "outputs": [
    {
     "name": "stdout",
     "output_type": "stream",
     "text": [
      "[3, 5, 7, 9]\n",
      "[9]\n"
     ]
    },
    {
     "data": {
      "text/plain": [
       "[9]"
      ]
     },
     "execution_count": 19,
     "metadata": {},
     "output_type": "execute_result"
    }
   ],
   "source": [
    "soltution(10)"
   ]
  },
  {
   "cell_type": "code",
   "execution_count": null,
   "metadata": {},
   "outputs": [],
   "source": []
  }
 ],
 "metadata": {
  "kernelspec": {
   "display_name": "Python 3",
   "language": "python",
   "name": "python3"
  },
  "language_info": {
   "codemirror_mode": {
    "name": "ipython",
    "version": 3
   },
   "file_extension": ".py",
   "mimetype": "text/x-python",
   "name": "python",
   "nbconvert_exporter": "python",
   "pygments_lexer": "ipython3",
   "version": "3.11.3"
  },
  "orig_nbformat": 4
 },
 "nbformat": 4,
 "nbformat_minor": 2
}
