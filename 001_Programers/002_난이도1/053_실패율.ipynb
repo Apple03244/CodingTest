{
 "cells": [
  {
   "cell_type": "code",
   "execution_count": 63,
   "metadata": {},
   "outputs": [],
   "source": [
    "def solution(N,stage):\n",
    "    i=0\n",
    "    result=dict.fromkeys(range(1,N+1),None)\n",
    "    while i<N:\n",
    "    #    if not stage:\n",
    "    #        break\n",
    "        i+=1\n",
    "        M=len(stage)\n",
    "        if M:\n",
    "            stage=[x-1 for x in stage if x>1]\n",
    "            result[i]=(M-len(stage))/M\n",
    "        else:\n",
    "            result[i]=0\n",
    "    final=list(result.keys())\n",
    "    final.sort(key=lambda x:1-result[x])\n",
    "    return final"
   ]
  },
  {
   "cell_type": "code",
   "execution_count": 50,
   "metadata": {},
   "outputs": [
    {
     "data": {
      "text/plain": [
       "'\\ndef soltutoin(N,stage):\\n    # 너무 귀찮은데...numpy 쓰면..편한데..\\n    i=0\\n    result={}\\n    while True:\\n        if not stage:\\n            break\\n        i+=1\\n        #\\n        result[i]=len([x-1 for x in stage if x>=1])\\n        stage=[x-1 for x in stage if x>1]\\n    final=list(result.keys())\\n    return result,final'"
      ]
     },
     "execution_count": 50,
     "metadata": {},
     "output_type": "execute_result"
    }
   ],
   "source": [
    "'''\n",
    "def soltutoin(N,stage):\n",
    "    # 너무 귀찮은데...numpy 쓰면..편한데..\n",
    "    i=0\n",
    "    result={}\n",
    "    while True:\n",
    "        if not stage:\n",
    "            break\n",
    "        i+=1\n",
    "        #\n",
    "        result[i]=len([x-1 for x in stage if x>=1])\n",
    "        stage=[x-1 for x in stage if x>1]\n",
    "    final=list(result.keys())\n",
    "    return result,final'''"
   ]
  },
  {
   "cell_type": "code",
   "execution_count": 59,
   "metadata": {},
   "outputs": [
    {
     "name": "stdout",
     "output_type": "stream",
     "text": [
      "a\n"
     ]
    }
   ],
   "source": [
    "if not None:\n",
    "    print(\"a\")"
   ]
  },
  {
   "cell_type": "code",
   "execution_count": 64,
   "metadata": {},
   "outputs": [
    {
     "data": {
      "text/plain": [
       "([6, 3, 4, 2, 1, 5, 7],\n",
       " {1: 0.125, 2: 0.42857142857142855, 3: 0.5, 4: 0.5, 5: 0.0, 6: 1.0, 7: 0})"
      ]
     },
     "execution_count": 64,
     "metadata": {},
     "output_type": "execute_result"
    }
   ],
   "source": [
    "solution(7,[2, 1, 2, 6, 2, 4, 3, 3])"
   ]
  },
  {
   "cell_type": "code",
   "execution_count": null,
   "metadata": {},
   "outputs": [],
   "source": [
    "def soltutoin(N,stage):\n",
    "    i=0\n",
    "    result=dict.fromkeys(range(1,N+1),None)\n",
    "    for i in result:\n",
    "        result[i]=stage\n",
    "    \n",
    "    return result"
   ]
  }
 ],
 "metadata": {
  "kernelspec": {
   "display_name": "Python 3",
   "language": "python",
   "name": "python3"
  },
  "language_info": {
   "codemirror_mode": {
    "name": "ipython",
    "version": 3
   },
   "file_extension": ".py",
   "mimetype": "text/x-python",
   "name": "python",
   "nbconvert_exporter": "python",
   "pygments_lexer": "ipython3",
   "version": "3.11.3"
  },
  "orig_nbformat": 4
 },
 "nbformat": 4,
 "nbformat_minor": 2
}
