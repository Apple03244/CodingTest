{
 "cells": [
  {
   "cell_type": "code",
   "execution_count": 1,
   "metadata": {},
   "outputs": [],
   "source": [
    "def solution(n,m,nlist):\n",
    "    #빈칸 사이 거리 구하기\n",
    "    step1=[nlist[i+1]-nlist[i]+1 for i in range(len(nlist)-1)]\n",
    "    #각 원소는 빈칸을 둘다 칠하기 위해 필요한 최소의 m값과 같음.\n",
    "    result=[]\n",
    "    while step1:\n",
    "        #둘 사이의 거리가 충분히 작을떄\n",
    "        temp=step1.pop()\n",
    "        while temp<=m:\n",
    "            try:\n",
    "                temp+=step1.pop()-1\n",
    "            except:\n",
    "                break\n",
    "        result.append(temp)\n",
    "    print(result)\n",
    "    #len(result)-1 #겹치는 부분\n",
    "    #list(map(lambda x:(x//m)+1,result))-len(result)+1\n",
    "    return sum(map(lambda x:2 if x>m else 1,result))-len(result)+1"
   ]
  },
  {
   "cell_type": "code",
   "execution_count": 2,
   "metadata": {},
   "outputs": [
    {
     "name": "stdout",
     "output_type": "stream",
     "text": [
      "[5]\n"
     ]
    },
    {
     "data": {
      "text/plain": [
       "2"
      ]
     },
     "execution_count": 2,
     "metadata": {},
     "output_type": "execute_result"
    }
   ],
   "source": [
    "solution(8,4,[2,3,6,7,8])"
   ]
  },
  {
   "cell_type": "code",
   "execution_count": null,
   "metadata": {},
   "outputs": [],
   "source": []
  }
 ],
 "metadata": {
  "kernelspec": {
   "display_name": "Python 3",
   "language": "python",
   "name": "python3"
  },
  "language_info": {
   "codemirror_mode": {
    "name": "ipython",
    "version": 3
   },
   "file_extension": ".py",
   "mimetype": "text/x-python",
   "name": "python",
   "nbconvert_exporter": "python",
   "pygments_lexer": "ipython3",
   "version": "3.11.3"
  },
  "orig_nbformat": 4
 },
 "nbformat": 4,
 "nbformat_minor": 2
}
