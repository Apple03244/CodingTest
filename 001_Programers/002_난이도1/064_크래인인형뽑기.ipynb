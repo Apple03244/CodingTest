{
 "cells": [
  {
   "cell_type": "code",
   "execution_count": 18,
   "metadata": {},
   "outputs": [],
   "source": [
    "def solution(board, moves):\n",
    "    # 잘 봐야함\n",
    "    dols={i+1:[x[i] for x in board if x[i]][::-1] for i in range(len(board[0]))}\n",
    "    pick=[]\n",
    "    for move in moves:\n",
    "        if dols[move]:\n",
    "            pick.append(dols[move].pop())\n",
    "        else:\n",
    "            continue\n",
    "    result,temp=0,[]\n",
    "    for pick_dol in pick:\n",
    "        if temp:\n",
    "            if temp[-1]==pick_dol:\n",
    "                temp.pop()\n",
    "                result+=2\n",
    "            else:\n",
    "                temp.append(pick_dol)\n",
    "        else:\n",
    "            temp.append(pick_dol)\n",
    "    return result\n"
   ]
  },
  {
   "cell_type": "code",
   "execution_count": 19,
   "metadata": {},
   "outputs": [
    {
     "data": {
      "text/plain": [
       "4"
      ]
     },
     "execution_count": 19,
     "metadata": {},
     "output_type": "execute_result"
    }
   ],
   "source": [
    "solution([[0,0,0,0,0],[0,0,1,0,3],[0,2,5,0,1],[4,2,4,4,2],[3,5,1,3,1]],[1,5,3,5,1,2,1,4])"
   ]
  },
  {
   "cell_type": "markdown",
   "metadata": {},
   "source": [
    "# 문제풀이"
   ]
  },
  {
   "cell_type": "markdown",
   "metadata": {},
   "source": [
    "위의 문제는 각 줄에서 빈칸을 0으로 표시함에 있다.           \n",
    "효율을 위해서 각 줄의 인형의 형태를 담은 리스트를 value, 줄의 순서를 key로 기억하는         \n",
    "딕셔너리를 만는다면 참 좋을텐데..           \n",
    "pop()을 사용해 인형이 뽑히는 과정을 설명하고 싶기떄문에 0이라는 숫자가 있으면 안된다.           \n",
    "\n",
    "두번쨰는 그 인형들이 만나면 어떻게 계산할거냐는 것인데,         \n",
    "이 문제는 while 문으로 접근하면 어떤 문제가 있냐면, 처음부터 계속 탐색해야한다는 문제가 있다            \n",
    "따라서 문제가 요구하는 형태의 <최종형태로 남은 인형들>이 되는 temp리스트를 만들어 계산하였다.           \n",
    "물론 while을 써도 비슷했을것도 같지만...            "
   ]
  },
  {
   "cell_type": "markdown",
   "metadata": {},
   "source": []
  }
 ],
 "metadata": {
  "kernelspec": {
   "display_name": "Python 3",
   "language": "python",
   "name": "python3"
  },
  "language_info": {
   "codemirror_mode": {
    "name": "ipython",
    "version": 3
   },
   "file_extension": ".py",
   "mimetype": "text/x-python",
   "name": "python",
   "nbconvert_exporter": "python",
   "pygments_lexer": "ipython3",
   "version": "3.11.3"
  },
  "orig_nbformat": 4
 },
 "nbformat": 4,
 "nbformat_minor": 2
}
