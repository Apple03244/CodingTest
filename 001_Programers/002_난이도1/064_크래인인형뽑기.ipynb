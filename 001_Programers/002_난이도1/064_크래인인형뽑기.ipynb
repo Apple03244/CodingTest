{
 "cells": [
  {
   "cell_type": "code",
   "execution_count": 18,
   "metadata": {},
   "outputs": [],
   "source": [
    "def solution(board, moves):\n",
    "    # 잘 봐야함\n",
    "    dols={i+1:[x[i] for x in board if x[i]][::-1] for i in range(len(board[0]))}\n",
    "    pick=[]\n",
    "    for move in moves:\n",
    "        if dols[move]:\n",
    "            pick.append(dols[move].pop())\n",
    "        else:\n",
    "            continue\n",
    "    result,temp=0,[]\n",
    "    for pick_dol in pick:\n",
    "        if temp:\n",
    "            if temp[-1]==pick_dol:\n",
    "                temp.pop()\n",
    "                result+=2\n",
    "            else:\n",
    "                temp.append(pick_dol)\n",
    "        else:\n",
    "            temp.append(pick_dol)\n",
    "    return result\n"
   ]
  },
  {
   "cell_type": "code",
   "execution_count": 19,
   "metadata": {},
   "outputs": [
    {
     "data": {
      "text/plain": [
       "4"
      ]
     },
     "execution_count": 19,
     "metadata": {},
     "output_type": "execute_result"
    }
   ],
   "source": [
    "solution([[0,0,0,0,0],[0,0,1,0,3],[0,2,5,0,1],[4,2,4,4,2],[3,5,1,3,1]],[1,5,3,5,1,2,1,4])"
   ]
  },
  {
   "cell_type": "code",
   "execution_count": null,
   "metadata": {},
   "outputs": [],
   "source": []
  }
 ],
 "metadata": {
  "kernelspec": {
   "display_name": "Python 3",
   "language": "python",
   "name": "python3"
  },
  "language_info": {
   "codemirror_mode": {
    "name": "ipython",
    "version": 3
   },
   "file_extension": ".py",
   "mimetype": "text/x-python",
   "name": "python",
   "nbconvert_exporter": "python",
   "pygments_lexer": "ipython3",
   "version": "3.11.3"
  },
  "orig_nbformat": 4
 },
 "nbformat": 4,
 "nbformat_minor": 2
}
