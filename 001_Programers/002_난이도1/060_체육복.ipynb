{
 "cells": [
  {
   "cell_type": "code",
   "execution_count": 38,
   "metadata": {},
   "outputs": [],
   "source": [
    "def solution(n,lost,reserve):\n",
    "    lost,reserve=list(set(lost)-set(reserve)),list(set(reserve)-set(lost))\n",
    "    real_lost=len(lost)\n",
    "    if all([lost,reserve]):\n",
    "        l,r=lost.pop(),reserve.pop()\n",
    "        while True:\n",
    "            try:\n",
    "                if l<r-1: # 빌려주기 실패\n",
    "                    r=reserve.pop()\n",
    "                    continue\n",
    "                elif l>r+1: #빌리기 실패\n",
    "                    l=lost.pop()\n",
    "                    continue\n",
    "                else:\n",
    "                    real_lost-=1\n",
    "                    try:\n",
    "                        l,r=lost.pop(),reserve.pop()\n",
    "                    except:\n",
    "                        break\n",
    "            except:\n",
    "                break\n",
    "        return n-real_lost\n",
    "    else:\n",
    "        return n-real_lost"
   ]
  },
  {
   "cell_type": "code",
   "execution_count": 63,
   "metadata": {},
   "outputs": [],
   "source": [
    "def solution(n,lost,reserve):\n",
    "    l,r=set(lost)-set(reserve),set(reserve)-set(lost)\n",
    "    pe={}\n",
    "    for i in range(1,n+1):\n",
    "        if i in l:\n",
    "            pe[i]=0\n",
    "        elif i in r:\n",
    "            pe[i]=2\n",
    "        else:\n",
    "            pe[i]=1\n",
    "    if not r:\n",
    "        return n-len(l)\n",
    "    for j in r:\n",
    "        try:\n",
    "            if not pe[j-1]:\n",
    "                pe[j-1]+=1\n",
    "                pe[j]-=1\n",
    "                continue\n",
    "            elif not pe[j+1]:\n",
    "                pe[j+1]+=1\n",
    "                pe[j]-=1\n",
    "        except:\n",
    "            if j==1:\n",
    "                if not pe[j+1]:\n",
    "                    pe[j+1]+=1\n",
    "                    pe[j]-=1\n",
    "            if j==n:\n",
    "                if not pe[j-1]:\n",
    "                    pe[j-1]+=1\n",
    "                    pe[j]-=1\n",
    "                    continue\n",
    "            continue\n",
    "    return len([x for x in pe if pe[x]!=0])"
   ]
  },
  {
   "cell_type": "code",
   "execution_count": 61,
   "metadata": {},
   "outputs": [
    {
     "data": {
      "text/plain": [
       "9"
      ]
     },
     "execution_count": 61,
     "metadata": {},
     "output_type": "execute_result"
    }
   ],
   "source": [
    "solution(10,[1,2,3,4],[1,3,5])"
   ]
  },
  {
   "cell_type": "code",
   "execution_count": null,
   "metadata": {},
   "outputs": [],
   "source": []
  }
 ],
 "metadata": {
  "kernelspec": {
   "display_name": "Python 3",
   "language": "python",
   "name": "python3"
  },
  "language_info": {
   "codemirror_mode": {
    "name": "ipython",
    "version": 3
   },
   "file_extension": ".py",
   "mimetype": "text/x-python",
   "name": "python",
   "nbconvert_exporter": "python",
   "pygments_lexer": "ipython3",
   "version": "3.11.3"
  },
  "orig_nbformat": 4
 },
 "nbformat": 4,
 "nbformat_minor": 2
}
