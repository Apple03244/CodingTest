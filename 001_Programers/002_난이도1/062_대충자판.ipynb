{
 "cells": [
  {
   "cell_type": "code",
   "execution_count": 57,
   "metadata": {},
   "outputs": [],
   "source": [
    "def solution(X,Y):\n",
    "    result=[0]*len(Y)\n",
    "    #key_dic={}\n",
    "    def countletter(S:str,letter:str):\n",
    "        temp,result=len(S),S.replace(letter,\"\")\n",
    "        return {\"count\":temp-len(result),\"result\":result}\n",
    "    i=0\n",
    "    while [x[i] for x in X if len(x)>=i+1]:\n",
    "        key_dic={}\n",
    "        #키맵 만들기\n",
    "        for l in [x[i] for x in X if len(x)>=i+1]:\n",
    "            if l not in key_dic:\n",
    "                key_dic[l]=i+1\n",
    "        #문자열 탐색\n",
    "        if not key_dic:\n",
    "            continue\n",
    "        for j in range(len(Y)):\n",
    "            for letter in key_dic:\n",
    "                result[j]+=countletter(Y[j],letter)[\"count\"]*key_dic[letter]\n",
    "                Y[j]=countletter(Y[j],letter)[\"result\"]\n",
    "                # print(Y,result)\n",
    "        i+=1\n",
    "    for num in range(len(Y)):\n",
    "        if Y[num]:\n",
    "            Y[num]=-1\n",
    "        else:\n",
    "            Y[num]=result[num]\n",
    "        # print(key_dic)\n",
    "        # print(\"-----------------------------------\")\n",
    "    return Y"
   ]
  },
  {
   "cell_type": "code",
   "execution_count": 27,
   "metadata": {},
   "outputs": [],
   "source": [
    "A=\"\""
   ]
  },
  {
   "cell_type": "code",
   "execution_count": 8,
   "metadata": {},
   "outputs": [],
   "source": [
    "A={1:-3}"
   ]
  },
  {
   "cell_type": "code",
   "execution_count": 58,
   "metadata": {},
   "outputs": [
    {
     "data": {
      "text/plain": [
       "[-1]"
      ]
     },
     "execution_count": 58,
     "metadata": {},
     "output_type": "execute_result"
    }
   ],
   "source": [
    "solution([\"AD\"],[\"B\"]\t)"
   ]
  },
  {
   "cell_type": "code",
   "execution_count": 28,
   "metadata": {},
   "outputs": [
    {
     "data": {
      "text/plain": [
       "''"
      ]
     },
     "execution_count": 28,
     "metadata": {},
     "output_type": "execute_result"
    }
   ],
   "source": [
    "A.replace(\"a\",\"\")"
   ]
  },
  {
   "cell_type": "code",
   "execution_count": null,
   "metadata": {},
   "outputs": [],
   "source": []
  }
 ],
 "metadata": {
  "kernelspec": {
   "display_name": "Python 3",
   "language": "python",
   "name": "python3"
  },
  "language_info": {
   "codemirror_mode": {
    "name": "ipython",
    "version": 3
   },
   "file_extension": ".py",
   "mimetype": "text/x-python",
   "name": "python",
   "nbconvert_exporter": "python",
   "pygments_lexer": "ipython3",
   "version": "3.11.3"
  },
  "orig_nbformat": 4
 },
 "nbformat": 4,
 "nbformat_minor": 2
}
