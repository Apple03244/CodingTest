{
 "cells": [
  {
   "cell_type": "code",
   "execution_count": 70,
   "metadata": {},
   "outputs": [],
   "source": [
    "def solution(survey, choices):\n",
    "    # 4->0점을 기준으로 바꿔주기\n",
    "    choices=list(map(lambda x:x-4,choices))\n",
    "    strs=[\"RT\",\"CF\",\"JM\",\"AN\"]\n",
    "    # 문자를 순서로 보내줌\n",
    "    str_num={}\n",
    "    for i in range(len(strs)):\n",
    "        str_num.update(dict.fromkeys(list(strs[i]),i))\n",
    "    # 해당번쨰의 순서 -> 해당 성향& 그들의 점수\n",
    "    score={}\n",
    "    for i in range(len(strs)):\n",
    "        score[i]=dict(zip(list(strs[i]),[0,0]))\n",
    "    # 점수채점 방식\n",
    "    def test(x):\n",
    "        if x<0:\n",
    "            return (0,abs(x))\n",
    "        elif x>0:\n",
    "            return (1,abs(x))\n",
    "        else:\n",
    "            return \"nothing\"\n",
    "    # 채점하기\n",
    "    for i in range(len(choices)):\n",
    "        if test(choices[i])!=\"nothing\":\n",
    "            letter,num=survey[i][test(choices[i])[0]],test(choices[i])[1]\n",
    "            score[str_num[letter]][letter]+=num\n",
    "            #print(score)\n",
    "    # 점수결과 확인\n",
    "    def test_result(x:dict):\n",
    "        if set(x.values())==1:\n",
    "            return x.keys()\n",
    "        else:\n",
    "            sub_result=[k for k in x.items()]\n",
    "            sub_result.sort(key=lambda x:x[1],reverse=True)\n",
    "            return sub_result[0][0]\n",
    "    return \"\".join([test_result(score[key]) for key in score])"
   ]
  },
  {
   "cell_type": "code",
   "execution_count": 72,
   "metadata": {},
   "outputs": [
    {
     "name": "stdout",
     "output_type": "stream",
     "text": [
      "{0: {'R': 3, 'T': 0}, 1: {'C': 0, 'F': 0}, 2: {'J': 0, 'M': 0}, 3: {'A': 0, 'N': 0}}\n",
      "{0: {'R': 6, 'T': 0}, 1: {'C': 0, 'F': 0}, 2: {'J': 0, 'M': 0}, 3: {'A': 0, 'N': 0}}\n",
      "{0: {'R': 6, 'T': 1}, 1: {'C': 0, 'F': 0}, 2: {'J': 0, 'M': 0}, 3: {'A': 0, 'N': 0}}\n"
     ]
    },
    {
     "data": {
      "text/plain": [
       "'RCJA'"
      ]
     },
     "execution_count": 72,
     "metadata": {},
     "output_type": "execute_result"
    }
   ],
   "source": [
    "solution([\"TR\", \"RT\", \"TR\"],[7, 1, 3])"
   ]
  },
  {
   "cell_type": "code",
   "execution_count": 57,
   "metadata": {},
   "outputs": [
    {
     "data": {
      "text/plain": [
       "dict_keys(['R', 'T'])"
      ]
     },
     "execution_count": 57,
     "metadata": {},
     "output_type": "execute_result"
    }
   ],
   "source": [
    "{\"R\":1,\"T\":2}.keys()"
   ]
  },
  {
   "cell_type": "code",
   "execution_count": null,
   "metadata": {},
   "outputs": [],
   "source": []
  }
 ],
 "metadata": {
  "kernelspec": {
   "display_name": "Python 3",
   "language": "python",
   "name": "python3"
  },
  "language_info": {
   "codemirror_mode": {
    "name": "ipython",
    "version": 3
   },
   "file_extension": ".py",
   "mimetype": "text/x-python",
   "name": "python",
   "nbconvert_exporter": "python",
   "pygments_lexer": "ipython3",
   "version": "3.11.3"
  },
  "orig_nbformat": 4
 },
 "nbformat": 4,
 "nbformat_minor": 2
}
