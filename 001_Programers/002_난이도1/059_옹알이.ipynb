{
 "cells": [
  {
   "cell_type": "code",
   "execution_count": 10,
   "metadata": {},
   "outputs": [],
   "source": [
    "def solution(babbling):\n",
    "    bab=dict(zip([\"aya\", \"ye\", \"woo\", \"ma\"],range(4)))\n",
    "    def babycan(s):\n",
    "        for bb in bab:\n",
    "            s=s.replace(bb,str(bab[bb]))\n",
    "        if s.isnumeric():\n",
    "            return s\n",
    "        else:\n",
    "            return 0\n",
    "    return [letters for letters in map(babycan,babbling) if letters]\n",
    "    # step1=[letters for letters in map(babycan,babbling) if letters]\n",
    "    # result=0\n",
    "    # for x in step1:\n",
    "    #     if len(x)==1:\n",
    "    #         result+=1\n",
    "    #     else:\n",
    "    #         for i in range(len(x)-1):\n",
    "    #             if x[i]==x[i+1]:\n",
    "    #                 break\n",
    "    #         result+=1\n",
    "    # return result"
   ]
  },
  {
   "cell_type": "code",
   "execution_count": 11,
   "metadata": {},
   "outputs": [
    {
     "data": {
      "text/plain": [
       "['0']"
      ]
     },
     "execution_count": 11,
     "metadata": {},
     "output_type": "execute_result"
    }
   ],
   "source": [
    "solution([\"aya\", \"yee\", \"u\", \"maa\"])"
   ]
  },
  {
   "cell_type": "code",
   "execution_count": null,
   "metadata": {},
   "outputs": [],
   "source": []
  }
 ],
 "metadata": {
  "kernelspec": {
   "display_name": "Python 3",
   "language": "python",
   "name": "python3"
  },
  "language_info": {
   "codemirror_mode": {
    "name": "ipython",
    "version": 3
   },
   "file_extension": ".py",
   "mimetype": "text/x-python",
   "name": "python",
   "nbconvert_exporter": "python",
   "pygments_lexer": "ipython3",
   "version": "3.11.3"
  },
  "orig_nbformat": 4
 },
 "nbformat": 4,
 "nbformat_minor": 2
}
