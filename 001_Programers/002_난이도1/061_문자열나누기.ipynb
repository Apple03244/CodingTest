{
 "cells": [
  {
   "cell_type": "code",
   "execution_count": 30,
   "metadata": {},
   "outputs": [],
   "source": [
    "def solution(s):\n",
    "    result,s=0,list(s)[::-1]\n",
    "    while s:\n",
    "        first=s.pop()\n",
    "        letter_dic={\"others\":0,first:1}\n",
    "        while letter_dic[\"others\"]!=letter_dic[first]:\n",
    "            if not s:\n",
    "                break\n",
    "            if s.pop()==first:\n",
    "                letter_dic[first]+=1\n",
    "            else:\n",
    "                letter_dic[\"others\"]+=1\n",
    "        result+=1\n",
    "    return result"
   ]
  },
  {
   "cell_type": "code",
   "execution_count": null,
   "metadata": {},
   "outputs": [],
   "source": []
  }
 ],
 "metadata": {
  "kernelspec": {
   "display_name": "Python 3",
   "language": "python",
   "name": "python3"
  },
  "language_info": {
   "codemirror_mode": {
    "name": "ipython",
    "version": 3
   },
   "file_extension": ".py",
   "mimetype": "text/x-python",
   "name": "python",
   "nbconvert_exporter": "python",
   "pygments_lexer": "ipython3",
   "version": "3.11.3"
  },
  "orig_nbformat": 4
 },
 "nbformat": 4,
 "nbformat_minor": 2
}
