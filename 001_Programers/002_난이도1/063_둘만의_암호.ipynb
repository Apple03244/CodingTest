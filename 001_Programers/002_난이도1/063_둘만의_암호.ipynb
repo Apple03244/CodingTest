{
 "cells": [
  {
   "cell_type": "code",
   "execution_count": 43,
   "metadata": {},
   "outputs": [],
   "source": [
    "def solution(s,skip,index):\n",
    "    len_num=26-len(skip)\n",
    "    # 각각의 딕셔너리의 기능을 잘 보자\n",
    "    n_to_l=dict(zip(range(len_num),[chr(x) for x in range(97,97+26) if chr(x) not in skip]))\n",
    "    l_to_n={y:(x+index)%len_num for x,y in n_to_l.items()}\n",
    "    def change_letter(letter):\n",
    "        return n_to_l[l_to_n[letter]]\n",
    "    return \"\".join(map(change_letter,s))"
   ]
  },
  {
   "cell_type": "markdown",
   "metadata": {},
   "source": [
    "## 문제설명"
   ]
  },
  {
   "cell_type": "markdown",
   "metadata": {},
   "source": [
    "### step 1.\n",
    "n_to_l : 숫자를 문자로 바꿔주는 딕셔너리            \n",
    "이떄 코딩을 보면 알수 있겠지만 skip에 해당하는 문자는 제거하고 카운트함         \n",
    "\n",
    "l_to_n : 문자를 숫자로 바꿔주는 딕셔너리            \n",
    "이때 코딩을 보면 문자에서 숫자로 반환될떄 n_to_l에서 할당받은 자신의 번호에 index를         \n",
    "더해서 반환함           \n",
    "\n",
    "따라서 문제가 준 문자를 <문자->숫자->문자>로 반환하면 쉽게 풀림\n",
    "\n"
   ]
  },
  {
   "cell_type": "markdown",
   "metadata": {},
   "source": []
  }
 ],
 "metadata": {
  "kernelspec": {
   "display_name": "Python 3",
   "language": "python",
   "name": "python3"
  },
  "language_info": {
   "codemirror_mode": {
    "name": "ipython",
    "version": 3
   },
   "file_extension": ".py",
   "mimetype": "text/x-python",
   "name": "python",
   "nbconvert_exporter": "python",
   "pygments_lexer": "ipython3",
   "version": "3.11.3"
  },
  "orig_nbformat": 4
 },
 "nbformat": 4,
 "nbformat_minor": 2
}
