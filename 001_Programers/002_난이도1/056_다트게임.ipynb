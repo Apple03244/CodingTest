{
 "cells": [
  {
   "cell_type": "code",
   "execution_count": 33,
   "metadata": {},
   "outputs": [],
   "source": [
    "def solution(X):\n",
    "    rule=dict(zip([\"S\",\"D\",\"T\"],[1,2,3]))\n",
    "    letters=[(x,y) for x,y in enumerate(X) if y.isalpha() or (not y.isnumeric() and not y.isalpha())]\n",
    "    numbers=[]\n",
    "    temp=0\n",
    "    # 숫자 추출\n",
    "    for i in range(len(letters)):\n",
    "        if temp!=letters[i][0]:\n",
    "            numbers.append(X[temp:letters[i][0]])\n",
    "            temp=letters[i][0]+1\n",
    "        else:\n",
    "            temp=letters[i][0]+1\n",
    "            pass\n",
    "    # 알파벳 추출\n",
    "    for j in letters:\n",
    "        if j[1] in rule:\n",
    "            \n",
    "\n",
    "    return numbers"
   ]
  },
  {
   "cell_type": "code",
   "execution_count": 36,
   "metadata": {},
   "outputs": [
    {
     "data": {
      "text/plain": [
       "['10', '2', '3']"
      ]
     },
     "execution_count": 36,
     "metadata": {},
     "output_type": "execute_result"
    }
   ],
   "source": [
    "solution(A)"
   ]
  },
  {
   "cell_type": "code",
   "execution_count": 1,
   "metadata": {},
   "outputs": [],
   "source": [
    "def solution(S):\n",
    "    rule=dict(zip([\"S\",\"D\",\"T\"],[1,2,3]))\n",
    "    split=[]\n",
    "    temp=0\n",
    "    for i in range(len(S)-1):\n",
    "        if tuple(map(lambda x : x.isnumeric(),(S[i],S[i+1])))==(False,True):\n",
    "            split.append(S[temp:i+1])\n",
    "            temp=i+1\n",
    "    split.append(S[temp:])\n",
    "    print(split)\n",
    "    def num(x:str):\n",
    "        n,event=0,\"\"\n",
    "        if x[-1] in [\"*\",\"#\"]:\n",
    "            #temp=x[-2]\n",
    "            n=int(x[:-2])**(rule[x[-2]])\n",
    "            event=x[-1]\n",
    "        else:\n",
    "            #temp=x[-1]\n",
    "            n=int(x[:-1])**(rule[x[-1]])\n",
    "        return n,event\n",
    "    result,last_num,now=0,0,0\n",
    "    for x in list(map(num,split)):\n",
    "        now=x[0]\n",
    "        if \"*\"in x[1]:\n",
    "            last_num*=2\n",
    "            now*=2\n",
    "        if \"#\" in x[1]:\n",
    "            now*=-1\n",
    "        result+=last_num\n",
    "        last_num=now\n",
    "    result+=last_num\n",
    "    return result"
   ]
  },
  {
   "cell_type": "code",
   "execution_count": 2,
   "metadata": {},
   "outputs": [
    {
     "name": "stdout",
     "output_type": "stream",
     "text": [
      "['1S', '2D*', '3T']\n"
     ]
    },
    {
     "data": {
      "text/plain": [
       "37"
      ]
     },
     "execution_count": 2,
     "metadata": {},
     "output_type": "execute_result"
    }
   ],
   "source": [
    "solution('1S2D*3T')"
   ]
  },
  {
   "cell_type": "code",
   "execution_count": null,
   "metadata": {},
   "outputs": [],
   "source": []
  }
 ],
 "metadata": {
  "kernelspec": {
   "display_name": "Python 3",
   "language": "python",
   "name": "python3"
  },
  "language_info": {
   "codemirror_mode": {
    "name": "ipython",
    "version": 3
   },
   "file_extension": ".py",
   "mimetype": "text/x-python",
   "name": "python",
   "nbconvert_exporter": "python",
   "pygments_lexer": "ipython3",
   "version": "3.11.3"
  },
  "orig_nbformat": 4
 },
 "nbformat": 4,
 "nbformat_minor": 2
}
