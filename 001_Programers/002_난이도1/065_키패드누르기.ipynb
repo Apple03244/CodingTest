{
 "cells": [
  {
   "cell_type": "code",
   "execution_count": 45,
   "metadata": {},
   "outputs": [],
   "source": [
    "def solution(numbers, hand):\n",
    "    button={x:{y-1:f'{3*x+y}' for y in range(1,4)} for x in range(3)}\n",
    "    button[3]={0:\"*\",1:\"0\",2:\"#\"}\n",
    "    # 버튼의 좌표\n",
    "    keyboard={}\n",
    "    for x in button:\n",
    "        for y in button[x]:\n",
    "            keyboard[button[x][y]]=(x,y)\n",
    "    # 손가락 위치\n",
    "    location={\"L\":\"*\",\"R\":\"#\"}\n",
    "    # 거리 계산\n",
    "    def distance(x:tuple,y:tuple):\n",
    "        return abs(x[0]-y[0])+abs(x[1]-y[1])\n",
    "    def movewhat(x,hand):\n",
    "        print(location)\n",
    "        if x in \"369\":\n",
    "            location[\"R\"]=x\n",
    "            return \"R\"\n",
    "        elif x in \"147\":\n",
    "            location[\"L\"]=x\n",
    "            return \"L\"\n",
    "        else:\n",
    "            dis={t:distance(keyboard[location[t]],keyboard[x]) for t in [\"L\",\"R\"]}\n",
    "            if dis[\"L\"]<dis[\"R\"]:\n",
    "                location[\"L\"]=x\n",
    "                return \"L\"\n",
    "            elif dis[\"L\"]>dis[\"R\"]:\n",
    "                location[\"R\"]=x\n",
    "                return \"R\"\n",
    "            else:\n",
    "                location[hand[0].upper()]=x\n",
    "                return hand[0].upper()\n",
    "    numbers=list(map(str,numbers))\n",
    "    result=[]\n",
    "    for num in numbers:\n",
    "        result.append(movewhat(num,hand))\n",
    "    return \"\".join(result)"
   ]
  },
  {
   "cell_type": "code",
   "execution_count": 46,
   "metadata": {},
   "outputs": [
    {
     "name": "stdout",
     "output_type": "stream",
     "text": [
      "{'L': '*', 'R': '#'}\n",
      "{'L': '7', 'R': '#'}\n",
      "{'L': '7', 'R': '0'}\n",
      "{'L': '8', 'R': '0'}\n",
      "{'L': '2', 'R': '0'}\n",
      "{'L': '2', 'R': '8'}\n",
      "{'L': '2', 'R': '3'}\n",
      "{'L': '1', 'R': '3'}\n",
      "{'L': '5', 'R': '3'}\n",
      "{'L': '7', 'R': '3'}\n",
      "{'L': '7', 'R': '6'}\n"
     ]
    },
    {
     "data": {
      "text/plain": [
       "'LRLLRRLLLRR'"
      ]
     },
     "execution_count": 46,
     "metadata": {},
     "output_type": "execute_result"
    }
   ],
   "source": [
    "solution([7, 0, 8, 2, 8, 3, 1, 5, 7, 6, 2],\"left\")"
   ]
  },
  {
   "cell_type": "code",
   "execution_count": null,
   "metadata": {},
   "outputs": [],
   "source": [
    "def solution(numbers, hand):\n",
    "    button={x:{y-1:f'{3*x+y}' for y in range(1,4)} for x in range(3)}\n",
    "    button[3]={0:\"*\",1:\"0\",2:\"#\"}\n",
    "    # 버튼의 좌표\n",
    "    keyboard={}\n",
    "    for x in button:\n",
    "        for y in button[x]:\n",
    "            keyboard[button[x][y]]=(x,y)\n",
    "    # 손가락 위치\n",
    "    location={\"L\":\"*\",\"R\":\"#\"}\n",
    "    # 거리 계산\n",
    "    def distance(x:tuple,y:tuple):\n",
    "        return abs(x[0]-y[0])+abs(x[1]-y[1])\n",
    "    def movefinger(x,hand):\n",
    "        if x in \"369\":\n",
    "            location[\"R\"]=x\n",
    "            return \"R\"\n",
    "        elif x in \"147\":\n",
    "            location[\"L\"]=x\n",
    "            return \"L\"\n",
    "        else:\n",
    "            \n",
    "        \n",
    "\n",
    "\n",
    "\n",
    "\n",
    "\n",
    "\n"
   ]
  }
 ],
 "metadata": {
  "kernelspec": {
   "display_name": "Python 3",
   "language": "python",
   "name": "python3"
  },
  "language_info": {
   "codemirror_mode": {
    "name": "ipython",
    "version": 3
   },
   "file_extension": ".py",
   "mimetype": "text/x-python",
   "name": "python",
   "nbconvert_exporter": "python",
   "pygments_lexer": "ipython3",
   "version": "3.11.3"
  },
  "orig_nbformat": 4
 },
 "nbformat": 4,
 "nbformat_minor": 2
}
