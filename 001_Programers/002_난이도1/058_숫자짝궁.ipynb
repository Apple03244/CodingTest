{
 "cells": [
  {
   "cell_type": "code",
   "execution_count": 1,
   "metadata": {},
   "outputs": [],
   "source": [
    "A=\"000000\""
   ]
  },
  {
   "cell_type": "code",
   "execution_count": 2,
   "metadata": {},
   "outputs": [
    {
     "data": {
      "text/plain": [
       "'0'"
      ]
     },
     "execution_count": 2,
     "metadata": {},
     "output_type": "execute_result"
    }
   ],
   "source": [
    "str(int(A))"
   ]
  },
  {
   "cell_type": "code",
   "execution_count": 50,
   "metadata": {},
   "outputs": [],
   "source": [
    "def solution(X, Y):\n",
    "    X=sorted(list(X))\n",
    "    Y=\"\".join(sorted(list(Y)))\n",
    "    result=\"\"\n",
    "    for x in X:\n",
    "        if x in Y:\n",
    "            result=x+result\n",
    "            if Y.find(x)!=len(Y)-1:\n",
    "                Y=Y[Y.find(x)+1:]\n",
    "            else:\n",
    "                break\n",
    "        else:\n",
    "            pass\n",
    "    if not result:\n",
    "        return \"-1\"\n",
    "    else:\n",
    "        return str(int(result))"
   ]
  },
  {
   "cell_type": "code",
   "execution_count": 32,
   "metadata": {},
   "outputs": [],
   "source": [
    "#아이디어를 합쳐보자\n",
    "def solution(X,Y):\n",
    "    # X_dc=dict.fromkeys(list(X))\n",
    "    # Y_dc=dict.fromkeys(list(Y))\n",
    "    numbers=dict.fromkeys(set(X)&set(Y))\n",
    "    if numbers:\n",
    "        for n in numbers:\n",
    "            numbers[n]=min(X.count(n),Y.count(n))\n",
    "        temp=sorted(list(numbers.keys()))[::-1]\n",
    "        result=\"\"\n",
    "        for t in temp:\n",
    "            result+=t*numbers[t]\n",
    "        return str(int(result)) #애가 문제...\n",
    "    else:\n",
    "        return \"-1\""
   ]
  },
  {
   "cell_type": "code",
   "execution_count": 31,
   "metadata": {},
   "outputs": [],
   "source": [
    "def solution(X,Y):\n",
    "    numbers=dict.fromkeys(map(str,range(9,-1,-1)),0)\n",
    "    for x in X:\n",
    "        numbers[x]+=1\n",
    "    if any(numbers.values()):\n",
    "        result=\"\"\n",
    "        for n in numbers:\n",
    "            if numbers[n]:\n",
    "                result+=n*min(numbers[n],Y.count(n))\n",
    "        return str(int(result)) if result else \"-1\"\n",
    "    else:\n",
    "        return '-1'"
   ]
  },
  {
   "cell_type": "code",
   "execution_count": 36,
   "metadata": {},
   "outputs": [
    {
     "data": {
      "text/plain": [
       "'43211'"
      ]
     },
     "execution_count": 36,
     "metadata": {},
     "output_type": "execute_result"
    }
   ],
   "source": [
    "solution(\"12344321\",\"11234\")"
   ]
  },
  {
   "cell_type": "code",
   "execution_count": 37,
   "metadata": {},
   "outputs": [],
   "source": [
    "def solution(X,Y):\n",
    "    result=\"\"\n",
    "    test=list(set(X))\n",
    "    test.sort(reverse=True)\n",
    "    for temp in test:\n",
    "        temp_x,temp_y=len(X),len(Y)\n",
    "        X=X.replace(temp,\"\")\n",
    "        Y=Y.replace(temp,\"\")\n",
    "        result+=temp*min(temp_x-len(X),temp_y-len(Y))\n",
    "        if not X or not Y:\n",
    "            break\n",
    "    if result:\n",
    "        if result.replace(\"0\",\"\"):\n",
    "            return result\n",
    "        else:\n",
    "            return \"0\"\n",
    "    else:\n",
    "        return \"-1\"\n",
    "    "
   ]
  },
  {
   "cell_type": "code",
   "execution_count": 1,
   "metadata": {},
   "outputs": [],
   "source": [
    "a=[1,2,3,4]"
   ]
  },
  {
   "cell_type": "code",
   "execution_count": null,
   "metadata": {},
   "outputs": [],
   "source": []
  }
 ],
 "metadata": {
  "kernelspec": {
   "display_name": "Python 3",
   "language": "python",
   "name": "python3"
  },
  "language_info": {
   "codemirror_mode": {
    "name": "ipython",
    "version": 3
   },
   "file_extension": ".py",
   "mimetype": "text/x-python",
   "name": "python",
   "nbconvert_exporter": "python",
   "pygments_lexer": "ipython3",
   "version": "3.11.3"
  },
  "orig_nbformat": 4
 },
 "nbformat": 4,
 "nbformat_minor": 2
}
