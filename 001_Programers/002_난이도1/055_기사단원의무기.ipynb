{
 "cells": [
  {
   "cell_type": "code",
   "execution_count": 42,
   "metadata": {},
   "outputs": [],
   "source": [
    "def solution(number, limit, power):\n",
    "    mans=dict.fromkeys(range(1,number+1),0)\n",
    "    fnt=lambda x: [i for i in x if mans[i]<=limit] #조사범위\n",
    "    temp=list(mans.keys())\n",
    "    i=1 # 약수\n",
    "    while True:\n",
    "        temp=fnt([n for n in temp if n>=i])\n",
    "        for x in temp:\n",
    "            if not x%i:\n",
    "                mans[x]+=1\n",
    "        i+=1\n",
    "        if i>max(temp)/2:\n",
    "            break\n",
    "    return mans"
   ]
  },
  {
   "cell_type": "code",
   "execution_count": 52,
   "metadata": {},
   "outputs": [],
   "source": [
    "def solution(x,y,z):\n",
    "    if x==1:\n",
    "        return x\n",
    "    pnum=1 #자기자신\n",
    "    for n in range(1,int(x/2)+1):\n",
    "        if not x%n:\n",
    "            pnum+=1\n",
    "    return pnum+solution(x-1,y,z) if pnum<=y else z+solution(x-1,y,z)"
   ]
  },
  {
   "cell_type": "code",
   "execution_count": 60,
   "metadata": {},
   "outputs": [],
   "source": [
    "def solution(number, limit, power):\n",
    "    result=0\n",
    "    for m in range(1,number+1):\n",
    "        temp=1\n",
    "        for n in range(1,int(m/2)+1):\n",
    "            if not m%n:\n",
    "                temp+=1\n",
    "        if temp<=limit:\n",
    "            result+=temp\n",
    "        else:\n",
    "            result+=power\n",
    "    return result"
   ]
  },
  {
   "cell_type": "code",
   "execution_count": 114,
   "metadata": {},
   "outputs": [],
   "source": [
    "def solution(x,y,z):\n",
    "    # 약수 범위 int(x/2)+1\n",
    "    mans=dict.fromkeys(range(1,x+1),0)\n",
    "    for i in range(1,x+1):\n",
    "        for j in range(i,x+1,i):\n",
    "            mans[j]+=1\n",
    "    result=0\n",
    "    for key in mans:\n",
    "        if mans[key]>y:\n",
    "            result+=z\n",
    "        else:\n",
    "            result+=mans[key]\n",
    "    return result"
   ]
  },
  {
   "cell_type": "code",
   "execution_count": null,
   "metadata": {},
   "outputs": [],
   "source": []
  }
 ],
 "metadata": {
  "kernelspec": {
   "display_name": "Python 3",
   "language": "python",
   "name": "python3"
  },
  "language_info": {
   "codemirror_mode": {
    "name": "ipython",
    "version": 3
   },
   "file_extension": ".py",
   "mimetype": "text/x-python",
   "name": "python",
   "nbconvert_exporter": "python",
   "pygments_lexer": "ipython3",
   "version": "3.11.3"
  },
  "orig_nbformat": 4
 },
 "nbformat": 4,
 "nbformat_minor": 2
}
