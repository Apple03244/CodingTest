{
 "cells": [
  {
   "cell_type": "code",
   "execution_count": 1,
   "id": "2de8cf02",
   "metadata": {},
   "outputs": [],
   "source": [
    "import collections as col"
   ]
  },
  {
   "cell_type": "code",
   "execution_count": 3,
   "id": "411bba1d",
   "metadata": {},
   "outputs": [
    {
     "data": {
      "text/plain": [
       "Counter({1: 2, 2: 2, 3: 1})"
      ]
     },
     "execution_count": 3,
     "metadata": {},
     "output_type": "execute_result"
    }
   ],
   "source": [
    "col.Counter([1,1,2,2,3])"
   ]
  },
  {
   "cell_type": "code",
   "execution_count": 4,
   "id": "d57ac2d9",
   "metadata": {},
   "outputs": [],
   "source": [
    "import collections as col\n",
    "#문제가 있다..\n",
    "#nCm의 개념이 파이썬에 있던가..?\n",
    "def solution(numlist):\n",
    "    def c(n,m):\n",
    "        "
   ]
  },
  {
   "cell_type": "code",
   "execution_count": null,
   "id": "145ad981",
   "metadata": {},
   "outputs": [],
   "source": []
  }
 ],
 "metadata": {
  "kernelspec": {
   "display_name": "Python 3 (ipykernel)",
   "language": "python",
   "name": "python3"
  },
  "language_info": {
   "codemirror_mode": {
    "name": "ipython",
    "version": 3
   },
   "file_extension": ".py",
   "mimetype": "text/x-python",
   "name": "python",
   "nbconvert_exporter": "python",
   "pygments_lexer": "ipython3",
   "version": "3.9.13"
  }
 },
 "nbformat": 4,
 "nbformat_minor": 5
}
