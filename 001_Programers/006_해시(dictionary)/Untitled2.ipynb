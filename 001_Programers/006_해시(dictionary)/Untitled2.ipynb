{
 "cells": [
  {
   "cell_type": "code",
   "execution_count": 1,
   "id": "7b97f6ea",
   "metadata": {},
   "outputs": [],
   "source": [
    "# 베스트 엘범"
   ]
  },
  {
   "cell_type": "code",
   "execution_count": null,
   "id": "7a90ae42",
   "metadata": {},
   "outputs": [],
   "source": [
    "def solution(x,y):\n",
    "    name_list=list(zip(range(len(x),x,y)))\n",
    "    name_list.sort(key=lambda x:x[2])\n",
    "    \n",
    "    #종합결과\n",
    "    [z,sum([x[2] for x in name_list if x[1]==z]) for z in x"
   ]
  }
 ],
 "metadata": {
  "kernelspec": {
   "display_name": "Python 3 (ipykernel)",
   "language": "python",
   "name": "python3"
  },
  "language_info": {
   "codemirror_mode": {
    "name": "ipython",
    "version": 3
   },
   "file_extension": ".py",
   "mimetype": "text/x-python",
   "name": "python",
   "nbconvert_exporter": "python",
   "pygments_lexer": "ipython3",
   "version": "3.9.13"
  }
 },
 "nbformat": 4,
 "nbformat_minor": 5
}
