{
 "cells": [
  {
   "cell_type": "code",
   "execution_count": 1,
   "id": "64ad8824",
   "metadata": {},
   "outputs": [],
   "source": [
    "# 옷 조합"
   ]
  },
  {
   "cell_type": "code",
   "execution_count": 63,
   "id": "c1a4be8b",
   "metadata": {},
   "outputs": [],
   "source": [
    "def solution(close):\n",
    "    comb=dict.fromkeys([close[x][1] for x in range(len(close))],)\n",
    "    "
   ]
  },
  {
   "cell_type": "code",
   "execution_count": 64,
   "id": "4c7b099b",
   "metadata": {},
   "outputs": [],
   "source": [
    "solution([[\"yellow_hat\", \"headgear\"], [\"blue_sunglasses\", \"eyewear\"], [\"green_turban\", \"headgear\"]])"
   ]
  },
  {
   "cell_type": "code",
   "execution_count": 39,
   "id": "82d1ae46",
   "metadata": {},
   "outputs": [],
   "source": [
    "A=[[\"yellow_hat\", \"headgear\"], [\"blue_sunglasses\", \"eyewear\"], [\"green_turban\", \"headgear\"]]\n",
    "B={'headgear': [], 'eyewear': []}"
   ]
  },
  {
   "cell_type": "code",
   "execution_count": 40,
   "id": "51041bf6",
   "metadata": {},
   "outputs": [],
   "source": [
    "for x in A:\n",
    "    B[x[1]].append(x[0])"
   ]
  },
  {
   "cell_type": "code",
   "execution_count": 41,
   "id": "dedb127d",
   "metadata": {},
   "outputs": [
    {
     "data": {
      "text/plain": [
       "{'headgear': ['yellow_hat', 'green_turban'], 'eyewear': ['blue_sunglasses']}"
      ]
     },
     "execution_count": 41,
     "metadata": {},
     "output_type": "execute_result"
    }
   ],
   "source": [
    "B"
   ]
  },
  {
   "cell_type": "code",
   "execution_count": null,
   "id": "d2ed223c",
   "metadata": {},
   "outputs": [],
   "source": []
  }
 ],
 "metadata": {
  "kernelspec": {
   "display_name": "Python 3 (ipykernel)",
   "language": "python",
   "name": "python3"
  },
  "language_info": {
   "codemirror_mode": {
    "name": "ipython",
    "version": 3
   },
   "file_extension": ".py",
   "mimetype": "text/x-python",
   "name": "python",
   "nbconvert_exporter": "python",
   "pygments_lexer": "ipython3",
   "version": "3.9.13"
  }
 },
 "nbformat": 4,
 "nbformat_minor": 5
}
