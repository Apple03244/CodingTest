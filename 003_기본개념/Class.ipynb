{
 "cells": [
  {
   "cell_type": "markdown",
   "metadata": {},
   "source": [
    "## Class(객체)"
   ]
  },
  {
   "cell_type": "code",
   "execution_count": 35,
   "metadata": {},
   "outputs": [],
   "source": [
    "class MyFirstClass:\n",
    "    def __init__(apple,x,y,z):\n",
    "        apple.phone_number=x\n",
    "        apple.phone_book=y\n",
    "        apple.phone_name=z\n",
    "        pass\n",
    "    def Samsung(apple):\n",
    "        print(f'''\n",
    "        {apple.phone_name}정보입니다.\n",
    "        번호는 {apple.phone_number}이구요.\n",
    "        기기에 저장된 핸드폰 번호는\n",
    "        {apple.phone_book}입니다.\n",
    "        ''')\n",
    "    def change_number(apple,x):\n",
    "        apple.phone_number=x\n",
    "    def info(apple):\n",
    "        return [apple.phone_number,\n",
    "        apple.phone_book,\n",
    "        apple.phone_name] "
   ]
  },
  {
   "cell_type": "code",
   "execution_count": 36,
   "metadata": {},
   "outputs": [],
   "source": [
    "지은=MyFirstClass('01011112222',[\"01011111111\",\"01022222222\"],\"아이폰\")"
   ]
  },
  {
   "cell_type": "code",
   "execution_count": 37,
   "metadata": {},
   "outputs": [
    {
     "data": {
      "text/plain": [
       "['01011112222', ['01011111111', '01022222222'], '아이폰']"
      ]
     },
     "execution_count": 37,
     "metadata": {},
     "output_type": "execute_result"
    }
   ],
   "source": [
    "지은.info()"
   ]
  },
  {
   "cell_type": "code",
   "execution_count": 11,
   "metadata": {},
   "outputs": [
    {
     "name": "stdout",
     "output_type": "stream",
     "text": [
      "\n",
      "        아이폰정보입니다.\n",
      "        번호는 01011112222이구요.\n",
      "        기기에 저장된 핸드폰 번호는\n",
      "        ['01011111111', '01022222222']입니다.\n",
      "        \n"
     ]
    }
   ],
   "source": [
    "지은.Samsung()"
   ]
  },
  {
   "cell_type": "code",
   "execution_count": 34,
   "metadata": {},
   "outputs": [],
   "source": [
    "지은.change_number(\"01076763232\")"
   ]
  },
  {
   "cell_type": "code",
   "execution_count": 32,
   "metadata": {},
   "outputs": [
    {
     "name": "stdout",
     "output_type": "stream",
     "text": [
      "None\n"
     ]
    }
   ],
   "source": []
  },
  {
   "cell_type": "code",
   "execution_count": 13,
   "metadata": {},
   "outputs": [
    {
     "name": "stdout",
     "output_type": "stream",
     "text": [
      "\n",
      "        아이폰정보입니다.\n",
      "        번호는 01022223232이구요.\n",
      "        기기에 저장된 핸드폰 번호는\n",
      "        ['01011111111', '01022222222']입니다.\n",
      "        \n"
     ]
    }
   ],
   "source": [
    "지은.Samsung()"
   ]
  },
  {
   "cell_type": "code",
   "execution_count": 16,
   "metadata": {},
   "outputs": [
    {
     "data": {
      "text/plain": [
       "'01076763232'"
      ]
     },
     "execution_count": 16,
     "metadata": {},
     "output_type": "execute_result"
    }
   ],
   "source": [
    "지은.phone_number"
   ]
  },
  {
   "cell_type": "code",
   "execution_count": 20,
   "metadata": {},
   "outputs": [],
   "source": [
    "import pandas as pd"
   ]
  },
  {
   "cell_type": "code",
   "execution_count": 21,
   "metadata": {},
   "outputs": [
    {
     "data": {
      "text/plain": [
       "Timestamp('2011-05-05 00:00:00')"
      ]
     },
     "execution_count": 21,
     "metadata": {},
     "output_type": "execute_result"
    }
   ],
   "source": [
    "pd.to_datetime(\"2011-05-05\")"
   ]
  },
  {
   "cell_type": "code",
   "execution_count": null,
   "metadata": {},
   "outputs": [],
   "source": [
    "input"
   ]
  }
 ],
 "metadata": {
  "kernelspec": {
   "display_name": "Python 3",
   "language": "python",
   "name": "python3"
  },
  "language_info": {
   "codemirror_mode": {
    "name": "ipython",
    "version": 3
   },
   "file_extension": ".py",
   "mimetype": "text/x-python",
   "name": "python",
   "nbconvert_exporter": "python",
   "pygments_lexer": "ipython3",
   "version": "3.11.3"
  },
  "orig_nbformat": 4
 },
 "nbformat": 4,
 "nbformat_minor": 2
}
