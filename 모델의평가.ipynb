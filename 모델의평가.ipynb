{
  "nbformat": 4,
  "nbformat_minor": 0,
  "metadata": {
    "colab": {
      "provenance": [],
      "gpuType": "T4",
      "mount_file_id": "1ICaQ0CDfMxS5XRegyUZioQxXEeA7R4ZF",
      "authorship_tag": "ABX9TyNpSrL1MM16e7QPjrxH86NO",
      "include_colab_link": true
    },
    "kernelspec": {
      "name": "python3",
      "display_name": "Python 3"
    },
    "language_info": {
      "name": "python"
    },
    "accelerator": "GPU"
  },
  "cells": [
    {
      "cell_type": "markdown",
      "metadata": {
        "id": "view-in-github",
        "colab_type": "text"
      },
      "source": [
        "<a href=\"https://colab.research.google.com/github/Apple03244/CodingTest/blob/main/%EB%AA%A8%EB%8D%B8%EC%9D%98%ED%8F%89%EA%B0%80.ipynb\" target=\"_parent\"><img src=\"https://colab.research.google.com/assets/colab-badge.svg\" alt=\"Open In Colab\"/></a>"
      ]
    },
    {
      "cell_type": "markdown",
      "source": [
        "# 단단한 머신러닝 참조\n",
        "> 모델의 평가 실습"
      ],
      "metadata": {
        "id": "GlpTj7S5Gt1L"
      }
    },
    {
      "cell_type": "code",
      "source": [
        "!pip install pandas\n",
        "!pip install numpy\n",
        "!pip install scikit-learn\n",
        "!pip install scipy"
      ],
      "metadata": {
        "id": "Qi2tkk1WOwRv",
        "colab": {
          "base_uri": "https://localhost:8080/"
        },
        "outputId": "01662c27-b0f7-4a9a-b4c4-3937388a61be"
      },
      "execution_count": 1,
      "outputs": [
        {
          "output_type": "stream",
          "name": "stdout",
          "text": [
            "Requirement already satisfied: pandas in /usr/local/lib/python3.10/dist-packages (1.5.3)\n",
            "Requirement already satisfied: python-dateutil>=2.8.1 in /usr/local/lib/python3.10/dist-packages (from pandas) (2.8.2)\n",
            "Requirement already satisfied: pytz>=2020.1 in /usr/local/lib/python3.10/dist-packages (from pandas) (2023.3.post1)\n",
            "Requirement already satisfied: numpy>=1.21.0 in /usr/local/lib/python3.10/dist-packages (from pandas) (1.23.5)\n",
            "Requirement already satisfied: six>=1.5 in /usr/local/lib/python3.10/dist-packages (from python-dateutil>=2.8.1->pandas) (1.16.0)\n",
            "Requirement already satisfied: numpy in /usr/local/lib/python3.10/dist-packages (1.23.5)\n",
            "Requirement already satisfied: scikit-learn in /usr/local/lib/python3.10/dist-packages (1.2.2)\n",
            "Requirement already satisfied: numpy>=1.17.3 in /usr/local/lib/python3.10/dist-packages (from scikit-learn) (1.23.5)\n",
            "Requirement already satisfied: scipy>=1.3.2 in /usr/local/lib/python3.10/dist-packages (from scikit-learn) (1.11.3)\n",
            "Requirement already satisfied: joblib>=1.1.1 in /usr/local/lib/python3.10/dist-packages (from scikit-learn) (1.3.2)\n",
            "Requirement already satisfied: threadpoolctl>=2.0.0 in /usr/local/lib/python3.10/dist-packages (from scikit-learn) (3.2.0)\n",
            "Requirement already satisfied: scipy in /usr/local/lib/python3.10/dist-packages (1.11.3)\n",
            "Requirement already satisfied: numpy<1.28.0,>=1.21.6 in /usr/local/lib/python3.10/dist-packages (from scipy) (1.23.5)\n"
          ]
        }
      ]
    },
    {
      "cell_type": "code",
      "source": [
        "import sklearn.datasets as skdata"
      ],
      "metadata": {
        "id": "FfvjbcVyw3vD"
      },
      "execution_count": 7,
      "outputs": []
    },
    {
      "cell_type": "markdown",
      "source": [
        "## 데이터 추가"
      ],
      "metadata": {
        "id": "z-0raPVv2oFs"
      }
    },
    {
      "cell_type": "code",
      "source": [
        "Data=skdata.load_breast_cancer()"
      ],
      "metadata": {
        "id": "7TCGAPyV1-YP"
      },
      "execution_count": 8,
      "outputs": []
    },
    {
      "cell_type": "code",
      "source": [
        "data_dict=dict.fromkeys(['radius','texture','perimeter','area',\"smoothness\",\"compactness\",\"concavity\",\"concave_points\",\"symmetry\"\n",
        ",\"fractal_dimension\"])"
      ],
      "metadata": {
        "id": "w_FVN7kC2Hwb"
      },
      "execution_count": 14,
      "outputs": []
    },
    {
      "cell_type": "code",
      "source": [
        "for i in range(len(data_dict)):\n",
        "  data_dict[list(data_dict.keys())[i]]=Data['data'][i]"
      ],
      "metadata": {
        "id": "vWgJkFg32rtT"
      },
      "execution_count": 20,
      "outputs": []
    },
    {
      "cell_type": "code",
      "source": [
        "import pandas as pd"
      ],
      "metadata": {
        "id": "DUJnNTQc9vzZ"
      },
      "execution_count": 24,
      "outputs": []
    },
    {
      "cell_type": "code",
      "source": [
        "feature_data=pd.DataFrame(data_dict)"
      ],
      "metadata": {
        "id": "aBtQ7pGg6pgc"
      },
      "execution_count": 27,
      "outputs": []
    },
    {
      "cell_type": "code",
      "source": [
        "target_data=pd.DataFrame(data=Data['target'])"
      ],
      "metadata": {
        "id": "CqzaMADy6qjF"
      },
      "execution_count": 56,
      "outputs": []
    },
    {
      "cell_type": "code",
      "source": [
        "target_data.rename(columns={0:'target'},inplace=True)"
      ],
      "metadata": {
        "id": "xn9y8Lus9zHQ"
      },
      "execution_count": 57,
      "outputs": []
    },
    {
      "cell_type": "code",
      "source": [
        "target_data[\"target\"]=target_data[['target']].apply(str)\n",
        "target_data['target']=target_data['target'].apply(lambda x:Data['target_names'][0] if x else Data['target_names'][0])"
      ],
      "metadata": {
        "id": "LZGw7tzA96Yv"
      },
      "execution_count": 59,
      "outputs": []
    },
    {
      "cell_type": "code",
      "source": [
        "target_data[\"target\"]"
      ],
      "metadata": {
        "colab": {
          "base_uri": "https://localhost:8080/"
        },
        "id": "-pM9qs-o-PPe",
        "outputId": "c135844b-fac7-4ef4-d733-5745c6e63e0f"
      },
      "execution_count": 60,
      "outputs": [
        {
          "output_type": "execute_result",
          "data": {
            "text/plain": [
              "0      malignant\n",
              "1      malignant\n",
              "2      malignant\n",
              "3      malignant\n",
              "4      malignant\n",
              "         ...    \n",
              "564    malignant\n",
              "565    malignant\n",
              "566    malignant\n",
              "567    malignant\n",
              "568    malignant\n",
              "Name: target, Length: 569, dtype: object"
            ]
          },
          "metadata": {},
          "execution_count": 60
        }
      ]
    },
    {
      "cell_type": "code",
      "source": [],
      "metadata": {
        "id": "hfVyUz4zC9O_"
      },
      "execution_count": null,
      "outputs": []
    }
  ]
}